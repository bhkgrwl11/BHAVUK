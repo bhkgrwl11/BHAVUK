{
 "cells": [
  {
   "cell_type": "code",
   "execution_count": 1,
   "metadata": {},
   "outputs": [],
   "source": [
    "import pandas as pd\n",
    "import numpy as np"
   ]
  },
  {
   "cell_type": "markdown",
   "metadata": {},
   "source": [
    "## Importing files:"
   ]
  },
  {
   "cell_type": "code",
   "execution_count": 2,
   "metadata": {},
   "outputs": [],
   "source": [
    "lead = pd.read_csv(\"leads.csv\",encoding='latin-1') #Here encoding used to decode the data:"
   ]
  },
  {
   "cell_type": "code",
   "execution_count": 3,
   "metadata": {},
   "outputs": [
    {
     "data": {
      "text/html": [
       "<div>\n",
       "<style scoped>\n",
       "    .dataframe tbody tr th:only-of-type {\n",
       "        vertical-align: middle;\n",
       "    }\n",
       "\n",
       "    .dataframe tbody tr th {\n",
       "        vertical-align: top;\n",
       "    }\n",
       "\n",
       "    .dataframe thead th {\n",
       "        text-align: right;\n",
       "    }\n",
       "</style>\n",
       "<table border=\"1\" class=\"dataframe\">\n",
       "  <thead>\n",
       "    <tr style=\"text-align: right;\">\n",
       "      <th></th>\n",
       "      <th>id</th>\n",
       "      <th>userId</th>\n",
       "      <th>name</th>\n",
       "      <th>phoneNumber</th>\n",
       "      <th>city</th>\n",
       "      <th>state</th>\n",
       "      <th>source</th>\n",
       "      <th>isExternal</th>\n",
       "      <th>createdAt</th>\n",
       "      <th>receivedAt</th>\n",
       "    </tr>\n",
       "  </thead>\n",
       "  <tbody>\n",
       "    <tr>\n",
       "      <th>0</th>\n",
       "      <td>00021a29-83e4-48d3-8cc3-0bc729f087fd</td>\n",
       "      <td>NaN</td>\n",
       "      <td>KUPENDRA</td>\n",
       "      <td>1234567890</td>\n",
       "      <td>NaN</td>\n",
       "      <td>NaN</td>\n",
       "      <td>Airavatha data</td>\n",
       "      <td>True</td>\n",
       "      <td>2019-12-26T18:17:13.115Z</td>\n",
       "      <td>2019-11-01T05:41:00Z</td>\n",
       "    </tr>\n",
       "    <tr>\n",
       "      <th>1</th>\n",
       "      <td>000743a8-3bd5-4e5a-97ed-dcf0af91aeb7</td>\n",
       "      <td>e50fccfe-82aa-434a-ad92-9d3f9d651f84</td>\n",
       "      <td>Dinkle Unknown</td>\n",
       "      <td>1234567890</td>\n",
       "      <td>Delhi/NCR</td>\n",
       "      <td>Delhi-NCR</td>\n",
       "      <td>delhi-18-33yo-10-15k-hdat-july-17</td>\n",
       "      <td>False</td>\n",
       "      <td>2019-12-26T17:49:53.471Z</td>\n",
       "      <td>2019-08-25T00:00:00Z</td>\n",
       "    </tr>\n",
       "  </tbody>\n",
       "</table>\n",
       "</div>"
      ],
      "text/plain": [
       "                                     id                                userId  \\\n",
       "0  00021a29-83e4-48d3-8cc3-0bc729f087fd                                   NaN   \n",
       "1  000743a8-3bd5-4e5a-97ed-dcf0af91aeb7  e50fccfe-82aa-434a-ad92-9d3f9d651f84   \n",
       "\n",
       "             name  phoneNumber       city      state  \\\n",
       "0        KUPENDRA   1234567890        NaN        NaN   \n",
       "1  Dinkle Unknown   1234567890  Delhi/NCR  Delhi-NCR   \n",
       "\n",
       "                              source  isExternal                 createdAt  \\\n",
       "0                     Airavatha data        True  2019-12-26T18:17:13.115Z   \n",
       "1  delhi-18-33yo-10-15k-hdat-july-17       False  2019-12-26T17:49:53.471Z   \n",
       "\n",
       "             receivedAt  \n",
       "0  2019-11-01T05:41:00Z  \n",
       "1  2019-08-25T00:00:00Z  "
      ]
     },
     "execution_count": 3,
     "metadata": {},
     "output_type": "execute_result"
    }
   ],
   "source": [
    "lead.head(2) # Checking the frame"
   ]
  },
  {
   "cell_type": "code",
   "execution_count": 4,
   "metadata": {},
   "outputs": [],
   "source": [
    "lead_calls = pd.read_csv(\"lead_calls.csv\")"
   ]
  },
  {
   "cell_type": "code",
   "execution_count": 5,
   "metadata": {},
   "outputs": [
    {
     "data": {
      "text/html": [
       "<div>\n",
       "<style scoped>\n",
       "    .dataframe tbody tr th:only-of-type {\n",
       "        vertical-align: middle;\n",
       "    }\n",
       "\n",
       "    .dataframe tbody tr th {\n",
       "        vertical-align: top;\n",
       "    }\n",
       "\n",
       "    .dataframe thead th {\n",
       "        text-align: right;\n",
       "    }\n",
       "</style>\n",
       "<table border=\"1\" class=\"dataframe\">\n",
       "  <thead>\n",
       "    <tr style=\"text-align: right;\">\n",
       "      <th></th>\n",
       "      <th>id</th>\n",
       "      <th>telecallerId</th>\n",
       "      <th>leadId</th>\n",
       "      <th>client</th>\n",
       "      <th>status</th>\n",
       "      <th>comments</th>\n",
       "      <th>calledAt</th>\n",
       "      <th>createdAt</th>\n",
       "    </tr>\n",
       "  </thead>\n",
       "  <tbody>\n",
       "    <tr>\n",
       "      <th>0</th>\n",
       "      <td>00028a99-c401-4048-9b75-b923cff55a79</td>\n",
       "      <td>fd904600-1e6e-4ab2-8be9-d7903aed9d3d</td>\n",
       "      <td>724467a5-52d1-4989-a870-99ae65d3e0e8</td>\n",
       "      <td>Amazon Flex</td>\n",
       "      <td>Not Interested - Applied by Mistake</td>\n",
       "      <td>NaN</td>\n",
       "      <td>2019-07-25T17:00:00Z</td>\n",
       "      <td>2019-12-26T17:32:49.297Z</td>\n",
       "    </tr>\n",
       "    <tr>\n",
       "      <th>1</th>\n",
       "      <td>00033b17-3a2a-4769-8623-bb00adf1e4c5</td>\n",
       "      <td>4248b521-ce3f-4897-a30d-35c9ee81f746</td>\n",
       "      <td>65d4429f-cb34-436d-9020-1fd6f364367f</td>\n",
       "      <td>KFC</td>\n",
       "      <td>RNR</td>\n",
       "      <td>NaN</td>\n",
       "      <td>2019-10-10T17:30:00Z</td>\n",
       "      <td>2019-12-26T18:09:38.408Z</td>\n",
       "    </tr>\n",
       "  </tbody>\n",
       "</table>\n",
       "</div>"
      ],
      "text/plain": [
       "                                     id                          telecallerId  \\\n",
       "0  00028a99-c401-4048-9b75-b923cff55a79  fd904600-1e6e-4ab2-8be9-d7903aed9d3d   \n",
       "1  00033b17-3a2a-4769-8623-bb00adf1e4c5  4248b521-ce3f-4897-a30d-35c9ee81f746   \n",
       "\n",
       "                                 leadId       client  \\\n",
       "0  724467a5-52d1-4989-a870-99ae65d3e0e8  Amazon Flex   \n",
       "1  65d4429f-cb34-436d-9020-1fd6f364367f          KFC   \n",
       "\n",
       "                                status comments              calledAt  \\\n",
       "0  Not Interested - Applied by Mistake      NaN  2019-07-25T17:00:00Z   \n",
       "1                                  RNR      NaN  2019-10-10T17:30:00Z   \n",
       "\n",
       "                  createdAt  \n",
       "0  2019-12-26T17:32:49.297Z  \n",
       "1  2019-12-26T18:09:38.408Z  "
      ]
     },
     "execution_count": 5,
     "metadata": {},
     "output_type": "execute_result"
    }
   ],
   "source": [
    "lead_calls.head(2)"
   ]
  },
  {
   "cell_type": "code",
   "execution_count": 6,
   "metadata": {},
   "outputs": [],
   "source": [
    "telecallers = pd.read_csv(\"telecallers.csv\")"
   ]
  },
  {
   "cell_type": "code",
   "execution_count": 7,
   "metadata": {},
   "outputs": [
    {
     "data": {
      "text/html": [
       "<div>\n",
       "<style scoped>\n",
       "    .dataframe tbody tr th:only-of-type {\n",
       "        vertical-align: middle;\n",
       "    }\n",
       "\n",
       "    .dataframe tbody tr th {\n",
       "        vertical-align: top;\n",
       "    }\n",
       "\n",
       "    .dataframe thead th {\n",
       "        text-align: right;\n",
       "    }\n",
       "</style>\n",
       "<table border=\"1\" class=\"dataframe\">\n",
       "  <thead>\n",
       "    <tr style=\"text-align: right;\">\n",
       "      <th></th>\n",
       "      <th>id</th>\n",
       "      <th>name</th>\n",
       "      <th>phoneNumber</th>\n",
       "      <th>createdAt</th>\n",
       "    </tr>\n",
       "  </thead>\n",
       "  <tbody>\n",
       "    <tr>\n",
       "      <th>0</th>\n",
       "      <td>4248b521-ce3f-4897-a30d-35c9ee81f746</td>\n",
       "      <td>Amila</td>\n",
       "      <td>1234567890</td>\n",
       "      <td>2019-12-25T05:50:26.375Z</td>\n",
       "    </tr>\n",
       "    <tr>\n",
       "      <th>1</th>\n",
       "      <td>fd904600-1e6e-4ab2-8be9-d7903aed9d3d</td>\n",
       "      <td>Sheeba</td>\n",
       "      <td>1234567890</td>\n",
       "      <td>2019-12-25T05:50:26.385Z</td>\n",
       "    </tr>\n",
       "    <tr>\n",
       "      <th>2</th>\n",
       "      <td>7717ef5d-38ec-44df-af3b-7a2446071e48</td>\n",
       "      <td>Islam</td>\n",
       "      <td>1234567890</td>\n",
       "      <td>2019-12-25T05:50:26.388Z</td>\n",
       "    </tr>\n",
       "    <tr>\n",
       "      <th>3</th>\n",
       "      <td>89b29324-8f3b-4b50-b3f7-0a3e0918e4d2</td>\n",
       "      <td>Rakshith</td>\n",
       "      <td>1234567890</td>\n",
       "      <td>2019-12-25T05:50:26.390Z</td>\n",
       "    </tr>\n",
       "    <tr>\n",
       "      <th>4</th>\n",
       "      <td>87112942-9c14-401a-9231-d9b4c2eee0c5</td>\n",
       "      <td>Manasa</td>\n",
       "      <td>1234567890</td>\n",
       "      <td>2019-12-25T05:50:26.393Z</td>\n",
       "    </tr>\n",
       "  </tbody>\n",
       "</table>\n",
       "</div>"
      ],
      "text/plain": [
       "                                     id      name  phoneNumber  \\\n",
       "0  4248b521-ce3f-4897-a30d-35c9ee81f746     Amila   1234567890   \n",
       "1  fd904600-1e6e-4ab2-8be9-d7903aed9d3d    Sheeba   1234567890   \n",
       "2  7717ef5d-38ec-44df-af3b-7a2446071e48     Islam   1234567890   \n",
       "3  89b29324-8f3b-4b50-b3f7-0a3e0918e4d2  Rakshith   1234567890   \n",
       "4  87112942-9c14-401a-9231-d9b4c2eee0c5    Manasa   1234567890   \n",
       "\n",
       "                  createdAt  \n",
       "0  2019-12-25T05:50:26.375Z  \n",
       "1  2019-12-25T05:50:26.385Z  \n",
       "2  2019-12-25T05:50:26.388Z  \n",
       "3  2019-12-25T05:50:26.390Z  \n",
       "4  2019-12-25T05:50:26.393Z  "
      ]
     },
     "execution_count": 7,
     "metadata": {},
     "output_type": "execute_result"
    }
   ],
   "source": [
    "telecallers.head()"
   ]
  },
  {
   "cell_type": "code",
   "execution_count": 8,
   "metadata": {},
   "outputs": [],
   "source": [
    "#Working with lead data: let see what it implies:"
   ]
  },
  {
   "cell_type": "code",
   "execution_count": 9,
   "metadata": {},
   "outputs": [
    {
     "name": "stdout",
     "output_type": "stream",
     "text": [
      "<class 'pandas.core.frame.DataFrame'>\n",
      "RangeIndex: 9916 entries, 0 to 9915\n",
      "Data columns (total 10 columns):\n",
      "id             9916 non-null object\n",
      "userId         6073 non-null object\n",
      "name           9916 non-null object\n",
      "phoneNumber    9916 non-null int64\n",
      "city           9178 non-null object\n",
      "state          8536 non-null object\n",
      "source         9914 non-null object\n",
      "isExternal     9916 non-null bool\n",
      "createdAt      9916 non-null object\n",
      "receivedAt     9916 non-null object\n",
      "dtypes: bool(1), int64(1), object(8)\n",
      "memory usage: 707.0+ KB\n"
     ]
    }
   ],
   "source": [
    "lead.info() # Checking the information of datatypes of columns:"
   ]
  },
  {
   "cell_type": "code",
   "execution_count": 10,
   "metadata": {},
   "outputs": [
    {
     "data": {
      "text/plain": [
       "id                0\n",
       "userId         3843\n",
       "name              0\n",
       "phoneNumber       0\n",
       "city            738\n",
       "state          1380\n",
       "source            2\n",
       "isExternal        0\n",
       "createdAt         0\n",
       "receivedAt        0\n",
       "dtype: int64"
      ]
     },
     "execution_count": 10,
     "metadata": {},
     "output_type": "execute_result"
    }
   ],
   "source": [
    "lead.isnull().sum()  # Checking null values in column of data set"
   ]
  },
  {
   "cell_type": "code",
   "execution_count": 11,
   "metadata": {},
   "outputs": [
    {
     "data": {
      "text/html": [
       "<div>\n",
       "<style scoped>\n",
       "    .dataframe tbody tr th:only-of-type {\n",
       "        vertical-align: middle;\n",
       "    }\n",
       "\n",
       "    .dataframe tbody tr th {\n",
       "        vertical-align: top;\n",
       "    }\n",
       "\n",
       "    .dataframe thead th {\n",
       "        text-align: right;\n",
       "    }\n",
       "</style>\n",
       "<table border=\"1\" class=\"dataframe\">\n",
       "  <thead>\n",
       "    <tr style=\"text-align: right;\">\n",
       "      <th></th>\n",
       "      <th>Missing Ration</th>\n",
       "    </tr>\n",
       "  </thead>\n",
       "  <tbody>\n",
       "    <tr>\n",
       "      <th>id</th>\n",
       "      <td>0.000000</td>\n",
       "    </tr>\n",
       "    <tr>\n",
       "      <th>userId</th>\n",
       "      <td>38.755547</td>\n",
       "    </tr>\n",
       "    <tr>\n",
       "      <th>name</th>\n",
       "      <td>0.000000</td>\n",
       "    </tr>\n",
       "    <tr>\n",
       "      <th>phoneNumber</th>\n",
       "      <td>0.000000</td>\n",
       "    </tr>\n",
       "    <tr>\n",
       "      <th>city</th>\n",
       "      <td>7.442517</td>\n",
       "    </tr>\n",
       "    <tr>\n",
       "      <th>state</th>\n",
       "      <td>13.916902</td>\n",
       "    </tr>\n",
       "    <tr>\n",
       "      <th>source</th>\n",
       "      <td>0.020169</td>\n",
       "    </tr>\n",
       "    <tr>\n",
       "      <th>isExternal</th>\n",
       "      <td>0.000000</td>\n",
       "    </tr>\n",
       "    <tr>\n",
       "      <th>createdAt</th>\n",
       "      <td>0.000000</td>\n",
       "    </tr>\n",
       "    <tr>\n",
       "      <th>receivedAt</th>\n",
       "      <td>0.000000</td>\n",
       "    </tr>\n",
       "  </tbody>\n",
       "</table>\n",
       "</div>"
      ],
      "text/plain": [
       "             Missing Ration\n",
       "id                 0.000000\n",
       "userId            38.755547\n",
       "name               0.000000\n",
       "phoneNumber        0.000000\n",
       "city               7.442517\n",
       "state             13.916902\n",
       "source             0.020169\n",
       "isExternal         0.000000\n",
       "createdAt          0.000000\n",
       "receivedAt         0.000000"
      ]
     },
     "execution_count": 11,
     "metadata": {},
     "output_type": "execute_result"
    }
   ],
   "source": [
    "df_isnull = (lead.isnull().sum() / len(lead))*100\n",
    "missing_data = pd.DataFrame({'Missing Ration' :df_isnull})     #Creating the frame of percentage of null values \n",
    "missing_data                                        "
   ]
  },
  {
   "cell_type": "code",
   "execution_count": 12,
   "metadata": {},
   "outputs": [],
   "source": [
    "#Working with lead_calls data: let see what it implies:"
   ]
  },
  {
   "cell_type": "code",
   "execution_count": 13,
   "metadata": {},
   "outputs": [
    {
     "name": "stdout",
     "output_type": "stream",
     "text": [
      "<class 'pandas.core.frame.DataFrame'>\n",
      "RangeIndex: 12335 entries, 0 to 12334\n",
      "Data columns (total 8 columns):\n",
      "id              12335 non-null object\n",
      "telecallerId    12335 non-null object\n",
      "leadId          12335 non-null object\n",
      "client          11491 non-null object\n",
      "status          12335 non-null object\n",
      "comments        3521 non-null object\n",
      "calledAt        12335 non-null object\n",
      "createdAt       12335 non-null object\n",
      "dtypes: object(8)\n",
      "memory usage: 771.0+ KB\n"
     ]
    }
   ],
   "source": [
    "lead_calls.info()"
   ]
  },
  {
   "cell_type": "code",
   "execution_count": 14,
   "metadata": {},
   "outputs": [
    {
     "data": {
      "text/html": [
       "<div>\n",
       "<style scoped>\n",
       "    .dataframe tbody tr th:only-of-type {\n",
       "        vertical-align: middle;\n",
       "    }\n",
       "\n",
       "    .dataframe tbody tr th {\n",
       "        vertical-align: top;\n",
       "    }\n",
       "\n",
       "    .dataframe thead th {\n",
       "        text-align: right;\n",
       "    }\n",
       "</style>\n",
       "<table border=\"1\" class=\"dataframe\">\n",
       "  <thead>\n",
       "    <tr style=\"text-align: right;\">\n",
       "      <th></th>\n",
       "      <th>Missing Ration</th>\n",
       "    </tr>\n",
       "  </thead>\n",
       "  <tbody>\n",
       "    <tr>\n",
       "      <th>id</th>\n",
       "      <td>0.000000</td>\n",
       "    </tr>\n",
       "    <tr>\n",
       "      <th>telecallerId</th>\n",
       "      <td>0.000000</td>\n",
       "    </tr>\n",
       "    <tr>\n",
       "      <th>leadId</th>\n",
       "      <td>0.000000</td>\n",
       "    </tr>\n",
       "    <tr>\n",
       "      <th>client</th>\n",
       "      <td>6.842319</td>\n",
       "    </tr>\n",
       "    <tr>\n",
       "      <th>status</th>\n",
       "      <td>0.000000</td>\n",
       "    </tr>\n",
       "    <tr>\n",
       "      <th>comments</th>\n",
       "      <td>71.455209</td>\n",
       "    </tr>\n",
       "    <tr>\n",
       "      <th>calledAt</th>\n",
       "      <td>0.000000</td>\n",
       "    </tr>\n",
       "    <tr>\n",
       "      <th>createdAt</th>\n",
       "      <td>0.000000</td>\n",
       "    </tr>\n",
       "  </tbody>\n",
       "</table>\n",
       "</div>"
      ],
      "text/plain": [
       "              Missing Ration\n",
       "id                  0.000000\n",
       "telecallerId        0.000000\n",
       "leadId              0.000000\n",
       "client              6.842319\n",
       "status              0.000000\n",
       "comments           71.455209\n",
       "calledAt            0.000000\n",
       "createdAt           0.000000"
      ]
     },
     "execution_count": 14,
     "metadata": {},
     "output_type": "execute_result"
    }
   ],
   "source": [
    "df_isnull1 = (lead_calls.isnull().sum() / len(lead_calls))*100\n",
    "missing_data2 = pd.DataFrame({'Missing Ration' :df_isnull1})\n",
    "missing_data2"
   ]
  },
  {
   "cell_type": "code",
   "execution_count": 15,
   "metadata": {},
   "outputs": [],
   "source": [
    "# To check on which column to merge the data sets: lead and lead_calls"
   ]
  },
  {
   "cell_type": "code",
   "execution_count": 16,
   "metadata": {},
   "outputs": [],
   "source": [
    "ls=[]\n",
    "for i in lead_calls.leadId:\n",
    "    ls.append(i)"
   ]
  },
  {
   "cell_type": "code",
   "execution_count": 17,
   "metadata": {},
   "outputs": [
    {
     "name": "stdout",
     "output_type": "stream",
     "text": [
      "True    9916\n",
      "Name: id, dtype: int64\n"
     ]
    }
   ],
   "source": [
    "print(lead['id'].isin(ls).value_counts())"
   ]
  },
  {
   "cell_type": "code",
   "execution_count": 18,
   "metadata": {},
   "outputs": [],
   "source": [
    "ls2=[]\n",
    "for i in lead_calls.id:\n",
    "    ls2.append(i)"
   ]
  },
  {
   "cell_type": "code",
   "execution_count": 19,
   "metadata": {},
   "outputs": [
    {
     "name": "stdout",
     "output_type": "stream",
     "text": [
      "False    9916\n",
      "Name: userId, dtype: int64\n"
     ]
    }
   ],
   "source": [
    "print(lead['userId'].isin(ls2).value_counts())"
   ]
  },
  {
   "cell_type": "code",
   "execution_count": 20,
   "metadata": {},
   "outputs": [],
   "source": [
    "data = pd.merge(lead,lead_calls, left_on=\"id\", right_on=\"leadId\")"
   ]
  },
  {
   "cell_type": "code",
   "execution_count": 21,
   "metadata": {},
   "outputs": [
    {
     "data": {
      "text/html": [
       "<div>\n",
       "<style scoped>\n",
       "    .dataframe tbody tr th:only-of-type {\n",
       "        vertical-align: middle;\n",
       "    }\n",
       "\n",
       "    .dataframe tbody tr th {\n",
       "        vertical-align: top;\n",
       "    }\n",
       "\n",
       "    .dataframe thead th {\n",
       "        text-align: right;\n",
       "    }\n",
       "</style>\n",
       "<table border=\"1\" class=\"dataframe\">\n",
       "  <thead>\n",
       "    <tr style=\"text-align: right;\">\n",
       "      <th></th>\n",
       "      <th>id_x</th>\n",
       "      <th>userId</th>\n",
       "      <th>name</th>\n",
       "      <th>phoneNumber</th>\n",
       "      <th>city</th>\n",
       "      <th>state</th>\n",
       "      <th>source</th>\n",
       "      <th>isExternal</th>\n",
       "      <th>createdAt_x</th>\n",
       "      <th>receivedAt</th>\n",
       "      <th>id_y</th>\n",
       "      <th>telecallerId</th>\n",
       "      <th>leadId</th>\n",
       "      <th>client</th>\n",
       "      <th>status</th>\n",
       "      <th>comments</th>\n",
       "      <th>calledAt</th>\n",
       "      <th>createdAt_y</th>\n",
       "    </tr>\n",
       "  </thead>\n",
       "  <tbody>\n",
       "    <tr>\n",
       "      <th>0</th>\n",
       "      <td>00021a29-83e4-48d3-8cc3-0bc729f087fd</td>\n",
       "      <td>NaN</td>\n",
       "      <td>KUPENDRA</td>\n",
       "      <td>1234567890</td>\n",
       "      <td>NaN</td>\n",
       "      <td>NaN</td>\n",
       "      <td>Airavatha data</td>\n",
       "      <td>True</td>\n",
       "      <td>2019-12-26T18:17:13.115Z</td>\n",
       "      <td>2019-11-01T05:41:00Z</td>\n",
       "      <td>1543f6c9-66ed-44e6-b2a3-fde517de24d0</td>\n",
       "      <td>fd904600-1e6e-4ab2-8be9-d7903aed9d3d</td>\n",
       "      <td>00021a29-83e4-48d3-8cc3-0bc729f087fd</td>\n",
       "      <td>Move in sync</td>\n",
       "      <td>RNR</td>\n",
       "      <td>NaN</td>\n",
       "      <td>2019-12-03T15:00:00Z</td>\n",
       "      <td>2019-12-26T18:17:18.359Z</td>\n",
       "    </tr>\n",
       "    <tr>\n",
       "      <th>1</th>\n",
       "      <td>000743a8-3bd5-4e5a-97ed-dcf0af91aeb7</td>\n",
       "      <td>e50fccfe-82aa-434a-ad92-9d3f9d651f84</td>\n",
       "      <td>Dinkle Unknown</td>\n",
       "      <td>1234567890</td>\n",
       "      <td>Delhi/NCR</td>\n",
       "      <td>Delhi-NCR</td>\n",
       "      <td>delhi-18-33yo-10-15k-hdat-july-17</td>\n",
       "      <td>False</td>\n",
       "      <td>2019-12-26T17:49:53.471Z</td>\n",
       "      <td>2019-08-25T00:00:00Z</td>\n",
       "      <td>65b4dc11-cb33-467e-b432-d81f082cc1fd</td>\n",
       "      <td>4248b521-ce3f-4897-a30d-35c9ee81f746</td>\n",
       "      <td>000743a8-3bd5-4e5a-97ed-dcf0af91aeb7</td>\n",
       "      <td>Zomato</td>\n",
       "      <td>Not Interested - Applied by Mistake</td>\n",
       "      <td>Not interested in doing zomato\\nTold to cancel...</td>\n",
       "      <td>2019-08-28T15:00:00Z</td>\n",
       "      <td>2019-12-26T17:49:53.739Z</td>\n",
       "    </tr>\n",
       "    <tr>\n",
       "      <th>2</th>\n",
       "      <td>0013dc91-e0e3-48f6-9518-6cf8389dd923</td>\n",
       "      <td>NaN</td>\n",
       "      <td>Elikatte Kumaraswamy</td>\n",
       "      <td>1234567890</td>\n",
       "      <td>Hyderabad</td>\n",
       "      <td>Telangana</td>\n",
       "      <td>WhatsApp OptIn Form</td>\n",
       "      <td>False</td>\n",
       "      <td>2019-12-26T17:21:04.021Z</td>\n",
       "      <td>2019-07-25T00:00:00Z</td>\n",
       "      <td>a07e1028-9c6e-45f6-9777-5b79f13d1317</td>\n",
       "      <td>fd904600-1e6e-4ab2-8be9-d7903aed9d3d</td>\n",
       "      <td>0013dc91-e0e3-48f6-9518-6cf8389dd923</td>\n",
       "      <td>Dunzo</td>\n",
       "      <td>Not Interested</td>\n",
       "      <td>NaN</td>\n",
       "      <td>2020-04-01T10:30:00Z</td>\n",
       "      <td>2019-12-26T17:21:10.438Z</td>\n",
       "    </tr>\n",
       "    <tr>\n",
       "      <th>3</th>\n",
       "      <td>001477a2-80d0-4b6d-a392-16aeaeef805d</td>\n",
       "      <td>4e0222f0-42aa-4660-976b-8e9329b4b1a7</td>\n",
       "      <td>Raju Unknown</td>\n",
       "      <td>1234567890</td>\n",
       "      <td>Hyderabad</td>\n",
       "      <td>Telangana</td>\n",
       "      <td>Referrals</td>\n",
       "      <td>False</td>\n",
       "      <td>2019-12-26T17:26:31.459Z</td>\n",
       "      <td>2019-06-03T00:00:00Z</td>\n",
       "      <td>9b326bbc-749f-43e2-9e7f-5870c6b0affb</td>\n",
       "      <td>fd904600-1e6e-4ab2-8be9-d7903aed9d3d</td>\n",
       "      <td>001477a2-80d0-4b6d-a392-16aeaeef805d</td>\n",
       "      <td>Zomato</td>\n",
       "      <td>Not Applied</td>\n",
       "      <td>Not Looking for Job</td>\n",
       "      <td>2020-06-01T10:30:00Z</td>\n",
       "      <td>2019-12-26T17:26:36.799Z</td>\n",
       "    </tr>\n",
       "    <tr>\n",
       "      <th>4</th>\n",
       "      <td>0014961d-9b66-4cae-85aa-acb89cd51f1e</td>\n",
       "      <td>NaN</td>\n",
       "      <td>Arunkumar Unknown</td>\n",
       "      <td>1234567890</td>\n",
       "      <td>Bangalore</td>\n",
       "      <td>Karnataka</td>\n",
       "      <td>Reused Leads</td>\n",
       "      <td>False</td>\n",
       "      <td>2019-12-26T17:21:05.065Z</td>\n",
       "      <td>2019-04-01T00:00:00Z</td>\n",
       "      <td>623c4e55-3a85-488e-98be-0477696e7a39</td>\n",
       "      <td>fd904600-1e6e-4ab2-8be9-d7903aed9d3d</td>\n",
       "      <td>0014961d-9b66-4cae-85aa-acb89cd51f1e</td>\n",
       "      <td>Zomato</td>\n",
       "      <td>CNP/Switched Off/Not Reachable</td>\n",
       "      <td>NaN</td>\n",
       "      <td>2020-04-01T10:30:00Z</td>\n",
       "      <td>2019-12-26T17:21:11.333Z</td>\n",
       "    </tr>\n",
       "  </tbody>\n",
       "</table>\n",
       "</div>"
      ],
      "text/plain": [
       "                                   id_x                                userId  \\\n",
       "0  00021a29-83e4-48d3-8cc3-0bc729f087fd                                   NaN   \n",
       "1  000743a8-3bd5-4e5a-97ed-dcf0af91aeb7  e50fccfe-82aa-434a-ad92-9d3f9d651f84   \n",
       "2  0013dc91-e0e3-48f6-9518-6cf8389dd923                                   NaN   \n",
       "3  001477a2-80d0-4b6d-a392-16aeaeef805d  4e0222f0-42aa-4660-976b-8e9329b4b1a7   \n",
       "4  0014961d-9b66-4cae-85aa-acb89cd51f1e                                   NaN   \n",
       "\n",
       "                   name  phoneNumber       city      state  \\\n",
       "0              KUPENDRA   1234567890        NaN        NaN   \n",
       "1        Dinkle Unknown   1234567890  Delhi/NCR  Delhi-NCR   \n",
       "2  Elikatte Kumaraswamy   1234567890  Hyderabad  Telangana   \n",
       "3          Raju Unknown   1234567890  Hyderabad  Telangana   \n",
       "4     Arunkumar Unknown   1234567890  Bangalore  Karnataka   \n",
       "\n",
       "                              source  isExternal               createdAt_x  \\\n",
       "0                     Airavatha data        True  2019-12-26T18:17:13.115Z   \n",
       "1  delhi-18-33yo-10-15k-hdat-july-17       False  2019-12-26T17:49:53.471Z   \n",
       "2                WhatsApp OptIn Form       False  2019-12-26T17:21:04.021Z   \n",
       "3                          Referrals       False  2019-12-26T17:26:31.459Z   \n",
       "4                       Reused Leads       False  2019-12-26T17:21:05.065Z   \n",
       "\n",
       "             receivedAt                                  id_y  \\\n",
       "0  2019-11-01T05:41:00Z  1543f6c9-66ed-44e6-b2a3-fde517de24d0   \n",
       "1  2019-08-25T00:00:00Z  65b4dc11-cb33-467e-b432-d81f082cc1fd   \n",
       "2  2019-07-25T00:00:00Z  a07e1028-9c6e-45f6-9777-5b79f13d1317   \n",
       "3  2019-06-03T00:00:00Z  9b326bbc-749f-43e2-9e7f-5870c6b0affb   \n",
       "4  2019-04-01T00:00:00Z  623c4e55-3a85-488e-98be-0477696e7a39   \n",
       "\n",
       "                           telecallerId                                leadId  \\\n",
       "0  fd904600-1e6e-4ab2-8be9-d7903aed9d3d  00021a29-83e4-48d3-8cc3-0bc729f087fd   \n",
       "1  4248b521-ce3f-4897-a30d-35c9ee81f746  000743a8-3bd5-4e5a-97ed-dcf0af91aeb7   \n",
       "2  fd904600-1e6e-4ab2-8be9-d7903aed9d3d  0013dc91-e0e3-48f6-9518-6cf8389dd923   \n",
       "3  fd904600-1e6e-4ab2-8be9-d7903aed9d3d  001477a2-80d0-4b6d-a392-16aeaeef805d   \n",
       "4  fd904600-1e6e-4ab2-8be9-d7903aed9d3d  0014961d-9b66-4cae-85aa-acb89cd51f1e   \n",
       "\n",
       "         client                               status  \\\n",
       "0  Move in sync                                  RNR   \n",
       "1        Zomato  Not Interested - Applied by Mistake   \n",
       "2         Dunzo                       Not Interested   \n",
       "3        Zomato                          Not Applied   \n",
       "4        Zomato       CNP/Switched Off/Not Reachable   \n",
       "\n",
       "                                            comments              calledAt  \\\n",
       "0                                                NaN  2019-12-03T15:00:00Z   \n",
       "1  Not interested in doing zomato\\nTold to cancel...  2019-08-28T15:00:00Z   \n",
       "2                                                NaN  2020-04-01T10:30:00Z   \n",
       "3                                Not Looking for Job  2020-06-01T10:30:00Z   \n",
       "4                                                NaN  2020-04-01T10:30:00Z   \n",
       "\n",
       "                createdAt_y  \n",
       "0  2019-12-26T18:17:18.359Z  \n",
       "1  2019-12-26T17:49:53.739Z  \n",
       "2  2019-12-26T17:21:10.438Z  \n",
       "3  2019-12-26T17:26:36.799Z  \n",
       "4  2019-12-26T17:21:11.333Z  "
      ]
     },
     "execution_count": 21,
     "metadata": {},
     "output_type": "execute_result"
    }
   ],
   "source": [
    "data.head()"
   ]
  },
  {
   "cell_type": "code",
   "execution_count": 22,
   "metadata": {},
   "outputs": [
    {
     "data": {
      "text/plain": [
       "12335"
      ]
     },
     "execution_count": 22,
     "metadata": {},
     "output_type": "execute_result"
    }
   ],
   "source": [
    "len(data)"
   ]
  },
  {
   "cell_type": "code",
   "execution_count": 23,
   "metadata": {},
   "outputs": [],
   "source": [
    "# To get the names of the people who called the leads: We have to merge the dataset telecaller for refernce"
   ]
  },
  {
   "cell_type": "code",
   "execution_count": 24,
   "metadata": {},
   "outputs": [
    {
     "data": {
      "text/plain": [
       "3"
      ]
     },
     "execution_count": 24,
     "metadata": {},
     "output_type": "execute_result"
    }
   ],
   "source": [
    "data[\"telecallerId\"].nunique()"
   ]
  },
  {
   "cell_type": "code",
   "execution_count": 25,
   "metadata": {},
   "outputs": [
    {
     "data": {
      "text/plain": [
       "5"
      ]
     },
     "execution_count": 25,
     "metadata": {},
     "output_type": "execute_result"
    }
   ],
   "source": [
    "telecallers[\"id\"].nunique()"
   ]
  },
  {
   "cell_type": "code",
   "execution_count": 26,
   "metadata": {},
   "outputs": [],
   "source": [
    "# This count shows that only three people are actively working "
   ]
  },
  {
   "cell_type": "code",
   "execution_count": 27,
   "metadata": {},
   "outputs": [],
   "source": [
    "# Lets get the telecaleer dataset merged to check how efficiently employees are working to get the leads"
   ]
  },
  {
   "cell_type": "code",
   "execution_count": 28,
   "metadata": {},
   "outputs": [],
   "source": [
    "data_original = pd.merge(data,telecallers, left_on=\"telecallerId\", right_on=\"id\")"
   ]
  },
  {
   "cell_type": "code",
   "execution_count": 29,
   "metadata": {},
   "outputs": [
    {
     "data": {
      "text/html": [
       "<div>\n",
       "<style scoped>\n",
       "    .dataframe tbody tr th:only-of-type {\n",
       "        vertical-align: middle;\n",
       "    }\n",
       "\n",
       "    .dataframe tbody tr th {\n",
       "        vertical-align: top;\n",
       "    }\n",
       "\n",
       "    .dataframe thead th {\n",
       "        text-align: right;\n",
       "    }\n",
       "</style>\n",
       "<table border=\"1\" class=\"dataframe\">\n",
       "  <thead>\n",
       "    <tr style=\"text-align: right;\">\n",
       "      <th></th>\n",
       "      <th>id_x</th>\n",
       "      <th>userId</th>\n",
       "      <th>name_x</th>\n",
       "      <th>phoneNumber_x</th>\n",
       "      <th>city</th>\n",
       "      <th>state</th>\n",
       "      <th>source</th>\n",
       "      <th>isExternal</th>\n",
       "      <th>createdAt_x</th>\n",
       "      <th>receivedAt</th>\n",
       "      <th>...</th>\n",
       "      <th>leadId</th>\n",
       "      <th>client</th>\n",
       "      <th>status</th>\n",
       "      <th>comments</th>\n",
       "      <th>calledAt</th>\n",
       "      <th>createdAt_y</th>\n",
       "      <th>id</th>\n",
       "      <th>name_y</th>\n",
       "      <th>phoneNumber_y</th>\n",
       "      <th>createdAt</th>\n",
       "    </tr>\n",
       "  </thead>\n",
       "  <tbody>\n",
       "    <tr>\n",
       "      <th>0</th>\n",
       "      <td>00021a29-83e4-48d3-8cc3-0bc729f087fd</td>\n",
       "      <td>NaN</td>\n",
       "      <td>KUPENDRA</td>\n",
       "      <td>1234567890</td>\n",
       "      <td>NaN</td>\n",
       "      <td>NaN</td>\n",
       "      <td>Airavatha data</td>\n",
       "      <td>True</td>\n",
       "      <td>2019-12-26T18:17:13.115Z</td>\n",
       "      <td>2019-11-01T05:41:00Z</td>\n",
       "      <td>...</td>\n",
       "      <td>00021a29-83e4-48d3-8cc3-0bc729f087fd</td>\n",
       "      <td>Move in sync</td>\n",
       "      <td>RNR</td>\n",
       "      <td>NaN</td>\n",
       "      <td>2019-12-03T15:00:00Z</td>\n",
       "      <td>2019-12-26T18:17:18.359Z</td>\n",
       "      <td>fd904600-1e6e-4ab2-8be9-d7903aed9d3d</td>\n",
       "      <td>Sheeba</td>\n",
       "      <td>1234567890</td>\n",
       "      <td>2019-12-25T05:50:26.385Z</td>\n",
       "    </tr>\n",
       "    <tr>\n",
       "      <th>1</th>\n",
       "      <td>0013dc91-e0e3-48f6-9518-6cf8389dd923</td>\n",
       "      <td>NaN</td>\n",
       "      <td>Elikatte Kumaraswamy</td>\n",
       "      <td>1234567890</td>\n",
       "      <td>Hyderabad</td>\n",
       "      <td>Telangana</td>\n",
       "      <td>WhatsApp OptIn Form</td>\n",
       "      <td>False</td>\n",
       "      <td>2019-12-26T17:21:04.021Z</td>\n",
       "      <td>2019-07-25T00:00:00Z</td>\n",
       "      <td>...</td>\n",
       "      <td>0013dc91-e0e3-48f6-9518-6cf8389dd923</td>\n",
       "      <td>Dunzo</td>\n",
       "      <td>Not Interested</td>\n",
       "      <td>NaN</td>\n",
       "      <td>2020-04-01T10:30:00Z</td>\n",
       "      <td>2019-12-26T17:21:10.438Z</td>\n",
       "      <td>fd904600-1e6e-4ab2-8be9-d7903aed9d3d</td>\n",
       "      <td>Sheeba</td>\n",
       "      <td>1234567890</td>\n",
       "      <td>2019-12-25T05:50:26.385Z</td>\n",
       "    </tr>\n",
       "    <tr>\n",
       "      <th>2</th>\n",
       "      <td>001477a2-80d0-4b6d-a392-16aeaeef805d</td>\n",
       "      <td>4e0222f0-42aa-4660-976b-8e9329b4b1a7</td>\n",
       "      <td>Raju Unknown</td>\n",
       "      <td>1234567890</td>\n",
       "      <td>Hyderabad</td>\n",
       "      <td>Telangana</td>\n",
       "      <td>Referrals</td>\n",
       "      <td>False</td>\n",
       "      <td>2019-12-26T17:26:31.459Z</td>\n",
       "      <td>2019-06-03T00:00:00Z</td>\n",
       "      <td>...</td>\n",
       "      <td>001477a2-80d0-4b6d-a392-16aeaeef805d</td>\n",
       "      <td>Zomato</td>\n",
       "      <td>Not Applied</td>\n",
       "      <td>Not Looking for Job</td>\n",
       "      <td>2020-06-01T10:30:00Z</td>\n",
       "      <td>2019-12-26T17:26:36.799Z</td>\n",
       "      <td>fd904600-1e6e-4ab2-8be9-d7903aed9d3d</td>\n",
       "      <td>Sheeba</td>\n",
       "      <td>1234567890</td>\n",
       "      <td>2019-12-25T05:50:26.385Z</td>\n",
       "    </tr>\n",
       "    <tr>\n",
       "      <th>3</th>\n",
       "      <td>0014961d-9b66-4cae-85aa-acb89cd51f1e</td>\n",
       "      <td>NaN</td>\n",
       "      <td>Arunkumar Unknown</td>\n",
       "      <td>1234567890</td>\n",
       "      <td>Bangalore</td>\n",
       "      <td>Karnataka</td>\n",
       "      <td>Reused Leads</td>\n",
       "      <td>False</td>\n",
       "      <td>2019-12-26T17:21:05.065Z</td>\n",
       "      <td>2019-04-01T00:00:00Z</td>\n",
       "      <td>...</td>\n",
       "      <td>0014961d-9b66-4cae-85aa-acb89cd51f1e</td>\n",
       "      <td>Zomato</td>\n",
       "      <td>CNP/Switched Off/Not Reachable</td>\n",
       "      <td>NaN</td>\n",
       "      <td>2020-04-01T10:30:00Z</td>\n",
       "      <td>2019-12-26T17:21:11.333Z</td>\n",
       "      <td>fd904600-1e6e-4ab2-8be9-d7903aed9d3d</td>\n",
       "      <td>Sheeba</td>\n",
       "      <td>1234567890</td>\n",
       "      <td>2019-12-25T05:50:26.385Z</td>\n",
       "    </tr>\n",
       "    <tr>\n",
       "      <th>4</th>\n",
       "      <td>00157aca-9383-4225-9c98-a9a46971ed90</td>\n",
       "      <td>NaN</td>\n",
       "      <td>Bhanu Unknown</td>\n",
       "      <td>1234567890</td>\n",
       "      <td>Hyderabad</td>\n",
       "      <td>Telangana</td>\n",
       "      <td>Reused Leads</td>\n",
       "      <td>False</td>\n",
       "      <td>2019-12-26T17:31:09.756Z</td>\n",
       "      <td>2019-07-25T00:00:00Z</td>\n",
       "      <td>...</td>\n",
       "      <td>00157aca-9383-4225-9c98-a9a46971ed90</td>\n",
       "      <td>Swiggy</td>\n",
       "      <td>CNP/Switched Off/Not Reachable</td>\n",
       "      <td>NaN</td>\n",
       "      <td>2019-07-26T16:00:00Z</td>\n",
       "      <td>2019-12-26T17:31:26.160Z</td>\n",
       "      <td>fd904600-1e6e-4ab2-8be9-d7903aed9d3d</td>\n",
       "      <td>Sheeba</td>\n",
       "      <td>1234567890</td>\n",
       "      <td>2019-12-25T05:50:26.385Z</td>\n",
       "    </tr>\n",
       "  </tbody>\n",
       "</table>\n",
       "<p>5 rows × 22 columns</p>\n",
       "</div>"
      ],
      "text/plain": [
       "                                   id_x                                userId  \\\n",
       "0  00021a29-83e4-48d3-8cc3-0bc729f087fd                                   NaN   \n",
       "1  0013dc91-e0e3-48f6-9518-6cf8389dd923                                   NaN   \n",
       "2  001477a2-80d0-4b6d-a392-16aeaeef805d  4e0222f0-42aa-4660-976b-8e9329b4b1a7   \n",
       "3  0014961d-9b66-4cae-85aa-acb89cd51f1e                                   NaN   \n",
       "4  00157aca-9383-4225-9c98-a9a46971ed90                                   NaN   \n",
       "\n",
       "                 name_x  phoneNumber_x       city      state  \\\n",
       "0              KUPENDRA     1234567890        NaN        NaN   \n",
       "1  Elikatte Kumaraswamy     1234567890  Hyderabad  Telangana   \n",
       "2          Raju Unknown     1234567890  Hyderabad  Telangana   \n",
       "3     Arunkumar Unknown     1234567890  Bangalore  Karnataka   \n",
       "4         Bhanu Unknown     1234567890  Hyderabad  Telangana   \n",
       "\n",
       "                source  isExternal               createdAt_x  \\\n",
       "0       Airavatha data        True  2019-12-26T18:17:13.115Z   \n",
       "1  WhatsApp OptIn Form       False  2019-12-26T17:21:04.021Z   \n",
       "2            Referrals       False  2019-12-26T17:26:31.459Z   \n",
       "3         Reused Leads       False  2019-12-26T17:21:05.065Z   \n",
       "4         Reused Leads       False  2019-12-26T17:31:09.756Z   \n",
       "\n",
       "             receivedAt  ...                                leadId  \\\n",
       "0  2019-11-01T05:41:00Z  ...  00021a29-83e4-48d3-8cc3-0bc729f087fd   \n",
       "1  2019-07-25T00:00:00Z  ...  0013dc91-e0e3-48f6-9518-6cf8389dd923   \n",
       "2  2019-06-03T00:00:00Z  ...  001477a2-80d0-4b6d-a392-16aeaeef805d   \n",
       "3  2019-04-01T00:00:00Z  ...  0014961d-9b66-4cae-85aa-acb89cd51f1e   \n",
       "4  2019-07-25T00:00:00Z  ...  00157aca-9383-4225-9c98-a9a46971ed90   \n",
       "\n",
       "         client                          status             comments  \\\n",
       "0  Move in sync                             RNR                  NaN   \n",
       "1         Dunzo                  Not Interested                  NaN   \n",
       "2        Zomato                     Not Applied  Not Looking for Job   \n",
       "3        Zomato  CNP/Switched Off/Not Reachable                  NaN   \n",
       "4        Swiggy  CNP/Switched Off/Not Reachable                  NaN   \n",
       "\n",
       "               calledAt               createdAt_y  \\\n",
       "0  2019-12-03T15:00:00Z  2019-12-26T18:17:18.359Z   \n",
       "1  2020-04-01T10:30:00Z  2019-12-26T17:21:10.438Z   \n",
       "2  2020-06-01T10:30:00Z  2019-12-26T17:26:36.799Z   \n",
       "3  2020-04-01T10:30:00Z  2019-12-26T17:21:11.333Z   \n",
       "4  2019-07-26T16:00:00Z  2019-12-26T17:31:26.160Z   \n",
       "\n",
       "                                     id  name_y phoneNumber_y  \\\n",
       "0  fd904600-1e6e-4ab2-8be9-d7903aed9d3d  Sheeba    1234567890   \n",
       "1  fd904600-1e6e-4ab2-8be9-d7903aed9d3d  Sheeba    1234567890   \n",
       "2  fd904600-1e6e-4ab2-8be9-d7903aed9d3d  Sheeba    1234567890   \n",
       "3  fd904600-1e6e-4ab2-8be9-d7903aed9d3d  Sheeba    1234567890   \n",
       "4  fd904600-1e6e-4ab2-8be9-d7903aed9d3d  Sheeba    1234567890   \n",
       "\n",
       "                  createdAt  \n",
       "0  2019-12-25T05:50:26.385Z  \n",
       "1  2019-12-25T05:50:26.385Z  \n",
       "2  2019-12-25T05:50:26.385Z  \n",
       "3  2019-12-25T05:50:26.385Z  \n",
       "4  2019-12-25T05:50:26.385Z  \n",
       "\n",
       "[5 rows x 22 columns]"
      ]
     },
     "execution_count": 29,
     "metadata": {},
     "output_type": "execute_result"
    }
   ],
   "source": [
    "data_original.head()"
   ]
  },
  {
   "cell_type": "code",
   "execution_count": 30,
   "metadata": {},
   "outputs": [
    {
     "data": {
      "text/plain": [
       "Index(['id_x', 'userId', 'name_x', 'phoneNumber_x', 'city', 'state', 'source',\n",
       "       'isExternal', 'createdAt_x', 'receivedAt', 'id_y', 'telecallerId',\n",
       "       'leadId', 'client', 'status', 'comments', 'calledAt', 'createdAt_y',\n",
       "       'id', 'name_y', 'phoneNumber_y', 'createdAt'],\n",
       "      dtype='object')"
      ]
     },
     "execution_count": 30,
     "metadata": {},
     "output_type": "execute_result"
    }
   ],
   "source": [
    "data_original.columns"
   ]
  },
  {
   "cell_type": "code",
   "execution_count": 31,
   "metadata": {},
   "outputs": [
    {
     "data": {
      "text/html": [
       "<div>\n",
       "<style scoped>\n",
       "    .dataframe tbody tr th:only-of-type {\n",
       "        vertical-align: middle;\n",
       "    }\n",
       "\n",
       "    .dataframe tbody tr th {\n",
       "        vertical-align: top;\n",
       "    }\n",
       "\n",
       "    .dataframe thead th {\n",
       "        text-align: right;\n",
       "    }\n",
       "</style>\n",
       "<table border=\"1\" class=\"dataframe\">\n",
       "  <thead>\n",
       "    <tr style=\"text-align: right;\">\n",
       "      <th></th>\n",
       "      <th>0</th>\n",
       "    </tr>\n",
       "  </thead>\n",
       "  <tbody>\n",
       "    <tr>\n",
       "      <th>id_x</th>\n",
       "      <td>9916</td>\n",
       "    </tr>\n",
       "    <tr>\n",
       "      <th>userId</th>\n",
       "      <td>5977</td>\n",
       "    </tr>\n",
       "    <tr>\n",
       "      <th>name_x</th>\n",
       "      <td>6511</td>\n",
       "    </tr>\n",
       "    <tr>\n",
       "      <th>phoneNumber_x</th>\n",
       "      <td>1</td>\n",
       "    </tr>\n",
       "    <tr>\n",
       "      <th>city</th>\n",
       "      <td>61</td>\n",
       "    </tr>\n",
       "  </tbody>\n",
       "</table>\n",
       "</div>"
      ],
      "text/plain": [
       "                  0\n",
       "id_x           9916\n",
       "userId         5977\n",
       "name_x         6511\n",
       "phoneNumber_x     1\n",
       "city             61"
      ]
     },
     "execution_count": 31,
     "metadata": {},
     "output_type": "execute_result"
    }
   ],
   "source": [
    "unique_data  = pd.DataFrame(data_original.nunique())    #Checking the unique in columns\n",
    "unique_data.head()"
   ]
  },
  {
   "cell_type": "code",
   "execution_count": 32,
   "metadata": {},
   "outputs": [],
   "source": [
    "ls3=[]\n",
    "for i in data_original.createdAt_y:\n",
    "    ls3.append(i)"
   ]
  },
  {
   "cell_type": "code",
   "execution_count": 33,
   "metadata": {},
   "outputs": [
    {
     "name": "stdout",
     "output_type": "stream",
     "text": [
      "False    12335\n",
      "Name: createdAt_x, dtype: int64\n"
     ]
    }
   ],
   "source": [
    "print(data_original['createdAt_x'].isin(ls3).value_counts())"
   ]
  },
  {
   "cell_type": "code",
   "execution_count": 34,
   "metadata": {},
   "outputs": [],
   "source": [
    "# Dropping columns which are duplicates and of no use for further analysis:\n",
    "\n",
    "# id_x : For inferential purpose unique id not reuired\n",
    "# phoneNumber_x : same given so of no use\n",
    "# createdAt_x : It's a table entry date/time which is of no use for inferential purpose\n",
    "# createdAt_y : It's a table entry date/time which is of no use for inferential purpose\n",
    "# id : For inferential purpose unique id not reuired\n",
    "# phoneNumber_y : same given so of no use \n",
    "# telecallerId : Already have names of telecallers\n",
    "# id_y : For inferential purpose unique id not reuired"
   ]
  },
  {
   "cell_type": "code",
   "execution_count": 35,
   "metadata": {},
   "outputs": [],
   "source": [
    "data_original = data_original.drop([\"id_y\",\"telecallerId\",\"id_x\",\"phoneNumber_x\",\"createdAt_x\",\"createdAt_y\",\"id\",\"phoneNumber_y\"], axis=1)"
   ]
  },
  {
   "cell_type": "code",
   "execution_count": 36,
   "metadata": {},
   "outputs": [],
   "source": [
    "# data_original = data_original.drop([\"userId\"], axis=1)"
   ]
  },
  {
   "cell_type": "code",
   "execution_count": 37,
   "metadata": {},
   "outputs": [
    {
     "data": {
      "text/plain": [
       "Index(['userId', 'name_x', 'city', 'state', 'source', 'isExternal',\n",
       "       'receivedAt', 'leadId', 'client', 'status', 'comments', 'calledAt',\n",
       "       'name_y', 'createdAt'],\n",
       "      dtype='object')"
      ]
     },
     "execution_count": 37,
     "metadata": {},
     "output_type": "execute_result"
    }
   ],
   "source": [
    "data_original.columns"
   ]
  },
  {
   "cell_type": "code",
   "execution_count": 38,
   "metadata": {},
   "outputs": [],
   "source": [
    "# Now working on null values in data set: To remove null values:"
   ]
  },
  {
   "cell_type": "code",
   "execution_count": 39,
   "metadata": {},
   "outputs": [
    {
     "data": {
      "text/plain": [
       "userId        4555\n",
       "name_x           0\n",
       "city           840\n",
       "state         1576\n",
       "source           3\n",
       "isExternal       0\n",
       "receivedAt       0\n",
       "leadId           0\n",
       "client         844\n",
       "status           0\n",
       "comments      8814\n",
       "calledAt         0\n",
       "name_y           0\n",
       "createdAt        0\n",
       "dtype: int64"
      ]
     },
     "execution_count": 39,
     "metadata": {},
     "output_type": "execute_result"
    }
   ],
   "source": [
    "data_original.isnull().sum()"
   ]
  },
  {
   "cell_type": "code",
   "execution_count": 40,
   "metadata": {},
   "outputs": [],
   "source": [
    "# First lets work on \"city\" and \"state\" column"
   ]
  },
  {
   "cell_type": "code",
   "execution_count": 41,
   "metadata": {},
   "outputs": [
    {
     "data": {
      "text/plain": [
       "819"
      ]
     },
     "execution_count": 41,
     "metadata": {},
     "output_type": "execute_result"
    }
   ],
   "source": [
    "# First let check where both city and state are null:\n",
    "\n",
    "len(data_original[(data_original[\"city\"].isnull()) & (data_original[\"state\"].isnull())])\n",
    "\n",
    "# These are the number of colums which are both null"
   ]
  },
  {
   "cell_type": "code",
   "execution_count": 42,
   "metadata": {},
   "outputs": [],
   "source": [
    "missing_null_city_state = data_original[(data_original[\"city\"].isnull()) & (data_original[\"state\"].isnull())]"
   ]
  },
  {
   "cell_type": "code",
   "execution_count": 43,
   "metadata": {},
   "outputs": [],
   "source": [
    "client_state_mode = pd.DataFrame(data_original.groupby('client')['state'].agg(pd.Series.mode)).reset_index()"
   ]
  },
  {
   "cell_type": "code",
   "execution_count": 44,
   "metadata": {},
   "outputs": [],
   "source": [
    "client_state_mode.set_index(\"client\", drop=True, inplace=True)"
   ]
  },
  {
   "cell_type": "code",
   "execution_count": 45,
   "metadata": {},
   "outputs": [],
   "source": [
    "dictionary = client_state_mode.to_dict(orient=\"index\")  # Creating dictionary of values based on client and state"
   ]
  },
  {
   "cell_type": "code",
   "execution_count": 46,
   "metadata": {},
   "outputs": [],
   "source": [
    "d={}\n",
    "for k,v in dictionary.items():\n",
    "    for i,j in v.items():\n",
    "        d[k] = j"
   ]
  },
  {
   "cell_type": "code",
   "execution_count": 47,
   "metadata": {},
   "outputs": [],
   "source": [
    "d[\"Random\"] = 'Tamilnadu'"
   ]
  },
  {
   "cell_type": "code",
   "execution_count": 48,
   "metadata": {},
   "outputs": [
    {
     "data": {
      "text/html": [
       "<div>\n",
       "<style scoped>\n",
       "    .dataframe tbody tr th:only-of-type {\n",
       "        vertical-align: middle;\n",
       "    }\n",
       "\n",
       "    .dataframe tbody tr th {\n",
       "        vertical-align: top;\n",
       "    }\n",
       "\n",
       "    .dataframe thead th {\n",
       "        text-align: right;\n",
       "    }\n",
       "</style>\n",
       "<table border=\"1\" class=\"dataframe\">\n",
       "  <thead>\n",
       "    <tr style=\"text-align: right;\">\n",
       "      <th></th>\n",
       "      <th>userId</th>\n",
       "      <th>name_x</th>\n",
       "      <th>city</th>\n",
       "      <th>state</th>\n",
       "      <th>source</th>\n",
       "      <th>isExternal</th>\n",
       "      <th>receivedAt</th>\n",
       "      <th>leadId</th>\n",
       "      <th>client</th>\n",
       "      <th>status</th>\n",
       "      <th>comments</th>\n",
       "      <th>calledAt</th>\n",
       "      <th>name_y</th>\n",
       "      <th>createdAt</th>\n",
       "    </tr>\n",
       "  </thead>\n",
       "  <tbody>\n",
       "    <tr>\n",
       "      <th>0</th>\n",
       "      <td>NaN</td>\n",
       "      <td>KUPENDRA</td>\n",
       "      <td>NaN</td>\n",
       "      <td>NaN</td>\n",
       "      <td>Airavatha data</td>\n",
       "      <td>True</td>\n",
       "      <td>2019-11-01T05:41:00Z</td>\n",
       "      <td>00021a29-83e4-48d3-8cc3-0bc729f087fd</td>\n",
       "      <td>Move in sync</td>\n",
       "      <td>RNR</td>\n",
       "      <td>NaN</td>\n",
       "      <td>2019-12-03T15:00:00Z</td>\n",
       "      <td>Sheeba</td>\n",
       "      <td>2019-12-25T05:50:26.385Z</td>\n",
       "    </tr>\n",
       "    <tr>\n",
       "      <th>5</th>\n",
       "      <td>bbf27c93-7a68-4bb4-981e-127010e8b72d</td>\n",
       "      <td>Vikki Unknown</td>\n",
       "      <td>Bangalore</td>\n",
       "      <td>NaN</td>\n",
       "      <td>CorpW</td>\n",
       "      <td>True</td>\n",
       "      <td>2019-11-10T00:46:00Z</td>\n",
       "      <td>005962d2-f1ab-40a0-9025-4a4ec3999557</td>\n",
       "      <td>Uber Eats</td>\n",
       "      <td>Not Interested - Not Applied</td>\n",
       "      <td>NaN</td>\n",
       "      <td>2019-11-12T16:00:00Z</td>\n",
       "      <td>Sheeba</td>\n",
       "      <td>2019-12-25T05:50:26.385Z</td>\n",
       "    </tr>\n",
       "    <tr>\n",
       "      <th>10</th>\n",
       "      <td>NaN</td>\n",
       "      <td>CHETHAN KUMAR V M</td>\n",
       "      <td>NaN</td>\n",
       "      <td>NaN</td>\n",
       "      <td>Airavatha data</td>\n",
       "      <td>True</td>\n",
       "      <td>2019-11-01T05:41:00Z</td>\n",
       "      <td>0086c117-fc49-4504-a14b-42f6789832ea</td>\n",
       "      <td>Move in sync</td>\n",
       "      <td>RNR</td>\n",
       "      <td>NaN</td>\n",
       "      <td>2019-12-02T12:30:00Z</td>\n",
       "      <td>Sheeba</td>\n",
       "      <td>2019-12-25T05:50:26.385Z</td>\n",
       "    </tr>\n",
       "    <tr>\n",
       "      <th>11</th>\n",
       "      <td>NaN</td>\n",
       "      <td>CHETHAN KUMAR V M</td>\n",
       "      <td>NaN</td>\n",
       "      <td>NaN</td>\n",
       "      <td>Airavatha data</td>\n",
       "      <td>True</td>\n",
       "      <td>2019-11-01T05:41:00Z</td>\n",
       "      <td>0086c117-fc49-4504-a14b-42f6789832ea</td>\n",
       "      <td>Move in sync</td>\n",
       "      <td>RNR</td>\n",
       "      <td>NaN</td>\n",
       "      <td>2019-11-29T17:30:00Z</td>\n",
       "      <td>Sheeba</td>\n",
       "      <td>2019-12-25T05:50:26.385Z</td>\n",
       "    </tr>\n",
       "    <tr>\n",
       "      <th>19</th>\n",
       "      <td>NaN</td>\n",
       "      <td>Ramkumar Unknown</td>\n",
       "      <td>NaN</td>\n",
       "      <td>NaN</td>\n",
       "      <td>API</td>\n",
       "      <td>False</td>\n",
       "      <td>2019-04-01T00:00:00Z</td>\n",
       "      <td>00c8478b-1b9d-4a5a-9078-854d13e50212</td>\n",
       "      <td>NaN</td>\n",
       "      <td>Not Sure</td>\n",
       "      <td>He will call back</td>\n",
       "      <td>2020-04-01T10:30:00Z</td>\n",
       "      <td>Sheeba</td>\n",
       "      <td>2019-12-25T05:50:26.385Z</td>\n",
       "    </tr>\n",
       "    <tr>\n",
       "      <th>20</th>\n",
       "      <td>3ea06f5e-76d8-4a83-9b7d-dc787d938247</td>\n",
       "      <td>Munikrishna Unknown</td>\n",
       "      <td>Bangalore</td>\n",
       "      <td>NaN</td>\n",
       "      <td>Referrals</td>\n",
       "      <td>True</td>\n",
       "      <td>2019-11-10T08:29:00Z</td>\n",
       "      <td>00d4e1f4-bf32-4bb7-802c-118a49759cf7</td>\n",
       "      <td>Uber Eats</td>\n",
       "      <td>Wrong Number/Number Not Valid</td>\n",
       "      <td>NaN</td>\n",
       "      <td>2019-11-11T15:30:00Z</td>\n",
       "      <td>Sheeba</td>\n",
       "      <td>2019-12-25T05:50:26.385Z</td>\n",
       "    </tr>\n",
       "    <tr>\n",
       "      <th>52</th>\n",
       "      <td>39a3c73e-c398-4070-9c56-7e3a4edbc976</td>\n",
       "      <td>Kaal Unknown</td>\n",
       "      <td>Bangalore</td>\n",
       "      <td>NaN</td>\n",
       "      <td>Referrals</td>\n",
       "      <td>True</td>\n",
       "      <td>2019-11-10T16:34:00Z</td>\n",
       "      <td>01aeeb81-75c6-4b1c-ad82-c83a5bcb3e3b</td>\n",
       "      <td>Uber Eats</td>\n",
       "      <td>Wrong Number/Number Not Valid</td>\n",
       "      <td>NaN</td>\n",
       "      <td>2019-11-12T15:00:00Z</td>\n",
       "      <td>Sheeba</td>\n",
       "      <td>2019-12-25T05:50:26.385Z</td>\n",
       "    </tr>\n",
       "    <tr>\n",
       "      <th>54</th>\n",
       "      <td>9fece3f1-0519-400b-bdd0-3a6280c76d74</td>\n",
       "      <td>Abhishek</td>\n",
       "      <td>Bangalore</td>\n",
       "      <td>NaN</td>\n",
       "      <td>Ubereats Existing list</td>\n",
       "      <td>True</td>\n",
       "      <td>2019-11-01T05:41:00Z</td>\n",
       "      <td>01b7a299-77a9-4b8b-a440-7ff7045e5971</td>\n",
       "      <td>Random</td>\n",
       "      <td>Other Reasons</td>\n",
       "      <td>Vahan</td>\n",
       "      <td>2019-11-19T13:30:00Z</td>\n",
       "      <td>Sheeba</td>\n",
       "      <td>2019-12-25T05:50:26.385Z</td>\n",
       "    </tr>\n",
       "    <tr>\n",
       "      <th>55</th>\n",
       "      <td>9fece3f1-0519-400b-bdd0-3a6280c76d74</td>\n",
       "      <td>Abhishek</td>\n",
       "      <td>Bangalore</td>\n",
       "      <td>NaN</td>\n",
       "      <td>Ubereats Existing list</td>\n",
       "      <td>True</td>\n",
       "      <td>2019-11-01T05:41:00Z</td>\n",
       "      <td>01b7a299-77a9-4b8b-a440-7ff7045e5971</td>\n",
       "      <td>Random</td>\n",
       "      <td>Other Reasons</td>\n",
       "      <td>Vahan</td>\n",
       "      <td>2019-11-19T14:30:00Z</td>\n",
       "      <td>Sheeba</td>\n",
       "      <td>2019-12-25T05:50:26.385Z</td>\n",
       "    </tr>\n",
       "    <tr>\n",
       "      <th>56</th>\n",
       "      <td>9fece3f1-0519-400b-bdd0-3a6280c76d74</td>\n",
       "      <td>Abhishek</td>\n",
       "      <td>Bangalore</td>\n",
       "      <td>NaN</td>\n",
       "      <td>Ubereats Existing list</td>\n",
       "      <td>True</td>\n",
       "      <td>2019-11-01T05:41:00Z</td>\n",
       "      <td>01b7a299-77a9-4b8b-a440-7ff7045e5971</td>\n",
       "      <td>Random</td>\n",
       "      <td>Other Reasons</td>\n",
       "      <td>Vahan</td>\n",
       "      <td>2019-11-19T14:00:00Z</td>\n",
       "      <td>Sheeba</td>\n",
       "      <td>2019-12-25T05:50:26.385Z</td>\n",
       "    </tr>\n",
       "    <tr>\n",
       "      <th>57</th>\n",
       "      <td>9fece3f1-0519-400b-bdd0-3a6280c76d74</td>\n",
       "      <td>Abhishek</td>\n",
       "      <td>Bangalore</td>\n",
       "      <td>NaN</td>\n",
       "      <td>Ubereats Existing list</td>\n",
       "      <td>True</td>\n",
       "      <td>2019-11-01T05:41:00Z</td>\n",
       "      <td>01b7a299-77a9-4b8b-a440-7ff7045e5971</td>\n",
       "      <td>Random</td>\n",
       "      <td>Other Reasons</td>\n",
       "      <td>Vahan</td>\n",
       "      <td>2019-11-19T13:30:00Z</td>\n",
       "      <td>Sheeba</td>\n",
       "      <td>2019-12-25T05:50:26.385Z</td>\n",
       "    </tr>\n",
       "    <tr>\n",
       "      <th>58</th>\n",
       "      <td>9fece3f1-0519-400b-bdd0-3a6280c76d74</td>\n",
       "      <td>Abhishek</td>\n",
       "      <td>Bangalore</td>\n",
       "      <td>NaN</td>\n",
       "      <td>Ubereats Existing list</td>\n",
       "      <td>True</td>\n",
       "      <td>2019-11-01T05:41:00Z</td>\n",
       "      <td>01b7a299-77a9-4b8b-a440-7ff7045e5971</td>\n",
       "      <td>Random</td>\n",
       "      <td>Other Reasons</td>\n",
       "      <td>Vahan</td>\n",
       "      <td>2019-11-19T14:00:00Z</td>\n",
       "      <td>Sheeba</td>\n",
       "      <td>2019-12-25T05:50:26.385Z</td>\n",
       "    </tr>\n",
       "    <tr>\n",
       "      <th>59</th>\n",
       "      <td>9fece3f1-0519-400b-bdd0-3a6280c76d74</td>\n",
       "      <td>Abhishek</td>\n",
       "      <td>Bangalore</td>\n",
       "      <td>NaN</td>\n",
       "      <td>Ubereats Existing list</td>\n",
       "      <td>True</td>\n",
       "      <td>2019-11-01T05:41:00Z</td>\n",
       "      <td>01b7a299-77a9-4b8b-a440-7ff7045e5971</td>\n",
       "      <td>Random</td>\n",
       "      <td>Other Reasons</td>\n",
       "      <td>Vahan</td>\n",
       "      <td>2019-11-19T12:00:00Z</td>\n",
       "      <td>Sheeba</td>\n",
       "      <td>2019-12-25T05:50:26.385Z</td>\n",
       "    </tr>\n",
       "    <tr>\n",
       "      <th>60</th>\n",
       "      <td>9fece3f1-0519-400b-bdd0-3a6280c76d74</td>\n",
       "      <td>Abhishek</td>\n",
       "      <td>Bangalore</td>\n",
       "      <td>NaN</td>\n",
       "      <td>Ubereats Existing list</td>\n",
       "      <td>True</td>\n",
       "      <td>2019-11-01T05:41:00Z</td>\n",
       "      <td>01b7a299-77a9-4b8b-a440-7ff7045e5971</td>\n",
       "      <td>Random</td>\n",
       "      <td>Other Reasons</td>\n",
       "      <td>Vahan</td>\n",
       "      <td>2019-11-19T15:00:00Z</td>\n",
       "      <td>Sheeba</td>\n",
       "      <td>2019-12-25T05:50:26.385Z</td>\n",
       "    </tr>\n",
       "    <tr>\n",
       "      <th>61</th>\n",
       "      <td>9fece3f1-0519-400b-bdd0-3a6280c76d74</td>\n",
       "      <td>Abhishek</td>\n",
       "      <td>Bangalore</td>\n",
       "      <td>NaN</td>\n",
       "      <td>Ubereats Existing list</td>\n",
       "      <td>True</td>\n",
       "      <td>2019-11-01T05:41:00Z</td>\n",
       "      <td>01b7a299-77a9-4b8b-a440-7ff7045e5971</td>\n",
       "      <td>Random</td>\n",
       "      <td>Other Reasons</td>\n",
       "      <td>Vahan</td>\n",
       "      <td>2019-11-19T11:30:00Z</td>\n",
       "      <td>Sheeba</td>\n",
       "      <td>2019-12-25T05:50:26.385Z</td>\n",
       "    </tr>\n",
       "    <tr>\n",
       "      <th>62</th>\n",
       "      <td>9fece3f1-0519-400b-bdd0-3a6280c76d74</td>\n",
       "      <td>Abhishek</td>\n",
       "      <td>Bangalore</td>\n",
       "      <td>NaN</td>\n",
       "      <td>Ubereats Existing list</td>\n",
       "      <td>True</td>\n",
       "      <td>2019-11-01T05:41:00Z</td>\n",
       "      <td>01b7a299-77a9-4b8b-a440-7ff7045e5971</td>\n",
       "      <td>Random</td>\n",
       "      <td>Other Reasons</td>\n",
       "      <td>Vahan</td>\n",
       "      <td>2019-11-19T14:30:00Z</td>\n",
       "      <td>Sheeba</td>\n",
       "      <td>2019-12-25T05:50:26.385Z</td>\n",
       "    </tr>\n",
       "    <tr>\n",
       "      <th>63</th>\n",
       "      <td>9fece3f1-0519-400b-bdd0-3a6280c76d74</td>\n",
       "      <td>Abhishek</td>\n",
       "      <td>Bangalore</td>\n",
       "      <td>NaN</td>\n",
       "      <td>Ubereats Existing list</td>\n",
       "      <td>True</td>\n",
       "      <td>2019-11-01T05:41:00Z</td>\n",
       "      <td>01b7a299-77a9-4b8b-a440-7ff7045e5971</td>\n",
       "      <td>Random</td>\n",
       "      <td>Other Reasons</td>\n",
       "      <td>Vahan</td>\n",
       "      <td>2019-11-19T14:00:00Z</td>\n",
       "      <td>Sheeba</td>\n",
       "      <td>2019-12-25T05:50:26.385Z</td>\n",
       "    </tr>\n",
       "    <tr>\n",
       "      <th>69</th>\n",
       "      <td>NaN</td>\n",
       "      <td>Rajesh Unknown</td>\n",
       "      <td>NaN</td>\n",
       "      <td>NaN</td>\n",
       "      <td>WhatsApp OptIn Form</td>\n",
       "      <td>False</td>\n",
       "      <td>2019-04-01T00:00:00Z</td>\n",
       "      <td>01f7650f-d8df-42d5-832b-07fd4549977e</td>\n",
       "      <td>NaN</td>\n",
       "      <td>Want Non-Delivery Jobs</td>\n",
       "      <td>NaN</td>\n",
       "      <td>2020-04-01T10:30:00Z</td>\n",
       "      <td>Sheeba</td>\n",
       "      <td>2019-12-25T05:50:26.385Z</td>\n",
       "    </tr>\n",
       "    <tr>\n",
       "      <th>75</th>\n",
       "      <td>NaN</td>\n",
       "      <td>Abdul khalik</td>\n",
       "      <td>Bangalore</td>\n",
       "      <td>NaN</td>\n",
       "      <td>Sandeep</td>\n",
       "      <td>True</td>\n",
       "      <td>2019-11-03T13:42:00Z</td>\n",
       "      <td>0216829b-b17a-4dbd-95d3-0bb89a707b0e</td>\n",
       "      <td>Random</td>\n",
       "      <td>Not Interested - Disconnected the Call</td>\n",
       "      <td>NaN</td>\n",
       "      <td>2019-11-08T15:00:00Z</td>\n",
       "      <td>Sheeba</td>\n",
       "      <td>2019-12-25T05:50:26.385Z</td>\n",
       "    </tr>\n",
       "    <tr>\n",
       "      <th>82</th>\n",
       "      <td>NaN</td>\n",
       "      <td>Ramanand Sharma</td>\n",
       "      <td>NaN</td>\n",
       "      <td>NaN</td>\n",
       "      <td>WhatsApp OptIn Form</td>\n",
       "      <td>False</td>\n",
       "      <td>2019-04-01T00:00:00Z</td>\n",
       "      <td>0270afdc-e239-4929-a9f6-6ed8ec7db125</td>\n",
       "      <td>NaN</td>\n",
       "      <td>CNP/Switched Off/Not Reachable</td>\n",
       "      <td>NaN</td>\n",
       "      <td>2020-04-01T10:30:00Z</td>\n",
       "      <td>Sheeba</td>\n",
       "      <td>2019-12-25T05:50:26.385Z</td>\n",
       "    </tr>\n",
       "    <tr>\n",
       "      <th>87</th>\n",
       "      <td>416daa27-0f07-4c3a-8b0e-c9b1ff82b77f</td>\n",
       "      <td>Raji</td>\n",
       "      <td>Bangalore</td>\n",
       "      <td>NaN</td>\n",
       "      <td>Ubereats Existing list</td>\n",
       "      <td>True</td>\n",
       "      <td>2019-11-01T05:41:00Z</td>\n",
       "      <td>028e0170-a16f-4e35-b49f-5dddf17f23db</td>\n",
       "      <td>Random</td>\n",
       "      <td>Switched Off/Not Reachable</td>\n",
       "      <td>NaN</td>\n",
       "      <td>2019-11-19T12:00:00Z</td>\n",
       "      <td>Sheeba</td>\n",
       "      <td>2019-12-25T05:50:26.385Z</td>\n",
       "    </tr>\n",
       "    <tr>\n",
       "      <th>90</th>\n",
       "      <td>NaN</td>\n",
       "      <td>JAGADISHA H</td>\n",
       "      <td>NaN</td>\n",
       "      <td>NaN</td>\n",
       "      <td>Airavatha data</td>\n",
       "      <td>True</td>\n",
       "      <td>2019-11-01T05:41:00Z</td>\n",
       "      <td>0293bca9-c163-4b40-b66d-30cda3d73c0b</td>\n",
       "      <td>Move in sync</td>\n",
       "      <td>Wrong Number/Number Not Valid</td>\n",
       "      <td>Wrong person</td>\n",
       "      <td>2019-11-29T15:30:00Z</td>\n",
       "      <td>Sheeba</td>\n",
       "      <td>2019-12-25T05:50:26.385Z</td>\n",
       "    </tr>\n",
       "    <tr>\n",
       "      <th>91</th>\n",
       "      <td>NaN</td>\n",
       "      <td>Parashuramalu</td>\n",
       "      <td>Yadhgirir</td>\n",
       "      <td>NaN</td>\n",
       "      <td>Sandeep</td>\n",
       "      <td>True</td>\n",
       "      <td>2019-11-03T13:42:00Z</td>\n",
       "      <td>02a747e3-d335-4feb-819c-5bbeefc87359</td>\n",
       "      <td>Random</td>\n",
       "      <td>Switched Off/Not Reachable</td>\n",
       "      <td>NaN</td>\n",
       "      <td>2019-11-08T15:30:00Z</td>\n",
       "      <td>Sheeba</td>\n",
       "      <td>2019-12-25T05:50:26.385Z</td>\n",
       "    </tr>\n",
       "    <tr>\n",
       "      <th>93</th>\n",
       "      <td>NaN</td>\n",
       "      <td>GOPALSWAMY D M</td>\n",
       "      <td>NaN</td>\n",
       "      <td>NaN</td>\n",
       "      <td>Airavatha data</td>\n",
       "      <td>True</td>\n",
       "      <td>2019-11-01T05:41:00Z</td>\n",
       "      <td>02ca1e7d-23f7-4c11-a407-5c531c0f6e53</td>\n",
       "      <td>Move in sync</td>\n",
       "      <td>Switched Off/Not Reachable</td>\n",
       "      <td>Incoming calls are not acailable</td>\n",
       "      <td>2019-12-02T12:30:00Z</td>\n",
       "      <td>Sheeba</td>\n",
       "      <td>2019-12-25T05:50:26.385Z</td>\n",
       "    </tr>\n",
       "    <tr>\n",
       "      <th>94</th>\n",
       "      <td>NaN</td>\n",
       "      <td>GOPALSWAMY D M</td>\n",
       "      <td>NaN</td>\n",
       "      <td>NaN</td>\n",
       "      <td>Airavatha data</td>\n",
       "      <td>True</td>\n",
       "      <td>2019-11-01T05:41:00Z</td>\n",
       "      <td>02ca1e7d-23f7-4c11-a407-5c531c0f6e53</td>\n",
       "      <td>Move in sync</td>\n",
       "      <td>Switched Off/Not Reachable</td>\n",
       "      <td>Incoming calls are not available</td>\n",
       "      <td>2019-11-29T16:30:00Z</td>\n",
       "      <td>Sheeba</td>\n",
       "      <td>2019-12-25T05:50:26.385Z</td>\n",
       "    </tr>\n",
       "    <tr>\n",
       "      <th>98</th>\n",
       "      <td>NaN</td>\n",
       "      <td>Anish Bhaurao Mane</td>\n",
       "      <td>NaN</td>\n",
       "      <td>NaN</td>\n",
       "      <td>WhatsApp OptIn Form</td>\n",
       "      <td>False</td>\n",
       "      <td>2019-04-01T00:00:00Z</td>\n",
       "      <td>02d464a7-b898-47be-a6a1-a0ffc24d3092</td>\n",
       "      <td>NaN</td>\n",
       "      <td>Not Interested</td>\n",
       "      <td>NaN</td>\n",
       "      <td>2020-04-01T10:30:00Z</td>\n",
       "      <td>Sheeba</td>\n",
       "      <td>2019-12-25T05:50:26.385Z</td>\n",
       "    </tr>\n",
       "    <tr>\n",
       "      <th>99</th>\n",
       "      <td>78eb6027-fc97-4f34-9456-22cbd31b18a5</td>\n",
       "      <td>Swamy R</td>\n",
       "      <td>Bangalore</td>\n",
       "      <td>NaN</td>\n",
       "      <td>atuber-blrvic1milb2-kan-20-sep</td>\n",
       "      <td>True</td>\n",
       "      <td>2019-11-21T00:45:00Z</td>\n",
       "      <td>02e21d8e-3ac1-42f5-9883-213261c484b5</td>\n",
       "      <td>KFC</td>\n",
       "      <td>Switched Off/Not Reachable</td>\n",
       "      <td>NaN</td>\n",
       "      <td>2019-11-26T15:30:00Z</td>\n",
       "      <td>Sheeba</td>\n",
       "      <td>2019-12-25T05:50:26.385Z</td>\n",
       "    </tr>\n",
       "    <tr>\n",
       "      <th>100</th>\n",
       "      <td>bc3d850c-9f26-4372-9a9f-1a690b57c8ea</td>\n",
       "      <td>Lohithkumar Unknown</td>\n",
       "      <td>Bangalore</td>\n",
       "      <td>NaN</td>\n",
       "      <td>Referrals</td>\n",
       "      <td>True</td>\n",
       "      <td>2019-11-10T22:47:00Z</td>\n",
       "      <td>02e5ac1e-6042-4941-a5fb-dc15b62df882</td>\n",
       "      <td>Uber Eats</td>\n",
       "      <td>Wrong Number/Number Not Valid</td>\n",
       "      <td>NaN</td>\n",
       "      <td>2019-11-12T15:00:00Z</td>\n",
       "      <td>Sheeba</td>\n",
       "      <td>2019-12-25T05:50:26.385Z</td>\n",
       "    </tr>\n",
       "    <tr>\n",
       "      <th>103</th>\n",
       "      <td>NaN</td>\n",
       "      <td>Kabeer</td>\n",
       "      <td>Bangalore</td>\n",
       "      <td>NaN</td>\n",
       "      <td>Sandeep</td>\n",
       "      <td>True</td>\n",
       "      <td>2019-11-03T13:42:00Z</td>\n",
       "      <td>02f9096e-bf7e-43f0-b6cb-e1a960a16790</td>\n",
       "      <td>Random</td>\n",
       "      <td>RNR</td>\n",
       "      <td>NaN</td>\n",
       "      <td>2019-11-08T15:00:00Z</td>\n",
       "      <td>Sheeba</td>\n",
       "      <td>2019-12-25T05:50:26.385Z</td>\n",
       "    </tr>\n",
       "    <tr>\n",
       "      <th>104</th>\n",
       "      <td>NaN</td>\n",
       "      <td>Kabeer</td>\n",
       "      <td>Bangalore</td>\n",
       "      <td>NaN</td>\n",
       "      <td>Sandeep</td>\n",
       "      <td>True</td>\n",
       "      <td>2019-11-03T13:42:00Z</td>\n",
       "      <td>02f9096e-bf7e-43f0-b6cb-e1a960a16790</td>\n",
       "      <td>Random</td>\n",
       "      <td>Other Reasons</td>\n",
       "      <td>Repieted  number</td>\n",
       "      <td>2019-11-08T16:00:00Z</td>\n",
       "      <td>Sheeba</td>\n",
       "      <td>2019-12-25T05:50:26.385Z</td>\n",
       "    </tr>\n",
       "    <tr>\n",
       "      <th>...</th>\n",
       "      <td>...</td>\n",
       "      <td>...</td>\n",
       "      <td>...</td>\n",
       "      <td>...</td>\n",
       "      <td>...</td>\n",
       "      <td>...</td>\n",
       "      <td>...</td>\n",
       "      <td>...</td>\n",
       "      <td>...</td>\n",
       "      <td>...</td>\n",
       "      <td>...</td>\n",
       "      <td>...</td>\n",
       "      <td>...</td>\n",
       "      <td>...</td>\n",
       "    </tr>\n",
       "    <tr>\n",
       "      <th>8675</th>\n",
       "      <td>NaN</td>\n",
       "      <td>Karthik. R</td>\n",
       "      <td>NaN</td>\n",
       "      <td>NaN</td>\n",
       "      <td>unknown</td>\n",
       "      <td>True</td>\n",
       "      <td>2019-10-21T00:00:00Z</td>\n",
       "      <td>fd0ac77c-f1ed-4ca9-bde2-66fd02c4d5e9</td>\n",
       "      <td>Swiggy</td>\n",
       "      <td>Not Interested - Applied by Mistake</td>\n",
       "      <td>NaN</td>\n",
       "      <td>2019-10-10T14:00:00Z</td>\n",
       "      <td>Sheeba</td>\n",
       "      <td>2019-12-25T05:50:26.385Z</td>\n",
       "    </tr>\n",
       "    <tr>\n",
       "      <th>8679</th>\n",
       "      <td>NaN</td>\n",
       "      <td>Luqhman Unknown</td>\n",
       "      <td>NaN</td>\n",
       "      <td>NaN</td>\n",
       "      <td>Facebook</td>\n",
       "      <td>False</td>\n",
       "      <td>2019-04-01T00:00:00Z</td>\n",
       "      <td>fd228dc6-55e4-4565-b4cc-5ef6096f2fc2</td>\n",
       "      <td>NaN</td>\n",
       "      <td>CNP/Switched Off/Not Reachable</td>\n",
       "      <td>NaN</td>\n",
       "      <td>2020-04-01T10:30:00Z</td>\n",
       "      <td>Sheeba</td>\n",
       "      <td>2019-12-25T05:50:26.385Z</td>\n",
       "    </tr>\n",
       "    <tr>\n",
       "      <th>8682</th>\n",
       "      <td>NaN</td>\n",
       "      <td>R N Pradeepa</td>\n",
       "      <td>NaN</td>\n",
       "      <td>NaN</td>\n",
       "      <td>WhatsApp OptIn Form</td>\n",
       "      <td>False</td>\n",
       "      <td>2019-04-01T00:00:00Z</td>\n",
       "      <td>fd5a7106-fcc1-437b-8950-519a72c5139e</td>\n",
       "      <td>NaN</td>\n",
       "      <td>Got Other Jobs</td>\n",
       "      <td>Joined Dominos</td>\n",
       "      <td>2020-04-01T10:30:00Z</td>\n",
       "      <td>Sheeba</td>\n",
       "      <td>2019-12-25T05:50:26.385Z</td>\n",
       "    </tr>\n",
       "    <tr>\n",
       "      <th>8684</th>\n",
       "      <td>b311058c-8e41-431e-857e-c507b0b64208</td>\n",
       "      <td>Prasanna</td>\n",
       "      <td>Bangalore</td>\n",
       "      <td>NaN</td>\n",
       "      <td>Ubereats Existing list</td>\n",
       "      <td>True</td>\n",
       "      <td>2019-11-01T05:41:00Z</td>\n",
       "      <td>fd6ac469-cbf2-4652-b5c0-f31dd3fb8ebc</td>\n",
       "      <td>Random</td>\n",
       "      <td>Joined</td>\n",
       "      <td>Joined on 1st Nov</td>\n",
       "      <td>2019-11-19T11:30:00Z</td>\n",
       "      <td>Sheeba</td>\n",
       "      <td>2019-12-25T05:50:26.385Z</td>\n",
       "    </tr>\n",
       "    <tr>\n",
       "      <th>8691</th>\n",
       "      <td>NaN</td>\n",
       "      <td>Manjunatha  N</td>\n",
       "      <td>NaN</td>\n",
       "      <td>NaN</td>\n",
       "      <td>Airavatha data</td>\n",
       "      <td>True</td>\n",
       "      <td>2019-11-01T05:41:00Z</td>\n",
       "      <td>fd8ce36c-9c5b-4dee-9c04-db29fc4cb73b</td>\n",
       "      <td>Move in sync</td>\n",
       "      <td>Not Interested - Others</td>\n",
       "      <td>Own use</td>\n",
       "      <td>2019-11-29T15:00:00Z</td>\n",
       "      <td>Sheeba</td>\n",
       "      <td>2019-12-25T05:50:26.385Z</td>\n",
       "    </tr>\n",
       "    <tr>\n",
       "      <th>8692</th>\n",
       "      <td>NaN</td>\n",
       "      <td>Manjunatha  N</td>\n",
       "      <td>NaN</td>\n",
       "      <td>NaN</td>\n",
       "      <td>Airavatha data</td>\n",
       "      <td>True</td>\n",
       "      <td>2019-11-01T05:41:00Z</td>\n",
       "      <td>fd8ce36c-9c5b-4dee-9c04-db29fc4cb73b</td>\n",
       "      <td>Move in sync</td>\n",
       "      <td>RNR</td>\n",
       "      <td>NaN</td>\n",
       "      <td>2019-12-05T15:00:00Z</td>\n",
       "      <td>Sheeba</td>\n",
       "      <td>2019-12-25T05:50:26.385Z</td>\n",
       "    </tr>\n",
       "    <tr>\n",
       "      <th>8699</th>\n",
       "      <td>NaN</td>\n",
       "      <td>HARISH J</td>\n",
       "      <td>NaN</td>\n",
       "      <td>NaN</td>\n",
       "      <td>Airavatha data</td>\n",
       "      <td>True</td>\n",
       "      <td>2019-11-01T05:41:00Z</td>\n",
       "      <td>fde4c625-2b9e-4dec-a8f6-0d3272c3cd8d</td>\n",
       "      <td>Move in sync</td>\n",
       "      <td>Switched Off/Not Reachable</td>\n",
       "      <td>Not Reachable</td>\n",
       "      <td>2019-12-02T12:30:00Z</td>\n",
       "      <td>Sheeba</td>\n",
       "      <td>2019-12-25T05:50:26.385Z</td>\n",
       "    </tr>\n",
       "    <tr>\n",
       "      <th>8700</th>\n",
       "      <td>NaN</td>\n",
       "      <td>HARISH J</td>\n",
       "      <td>NaN</td>\n",
       "      <td>NaN</td>\n",
       "      <td>Airavatha data</td>\n",
       "      <td>True</td>\n",
       "      <td>2019-11-01T05:41:00Z</td>\n",
       "      <td>fde4c625-2b9e-4dec-a8f6-0d3272c3cd8d</td>\n",
       "      <td>Move in sync</td>\n",
       "      <td>RNR</td>\n",
       "      <td>NaN</td>\n",
       "      <td>2019-11-29T15:00:00Z</td>\n",
       "      <td>Sheeba</td>\n",
       "      <td>2019-12-25T05:50:26.385Z</td>\n",
       "    </tr>\n",
       "    <tr>\n",
       "      <th>8705</th>\n",
       "      <td>NaN</td>\n",
       "      <td>Ramesh .S</td>\n",
       "      <td>NaN</td>\n",
       "      <td>NaN</td>\n",
       "      <td>unknown</td>\n",
       "      <td>True</td>\n",
       "      <td>2019-10-21T00:00:00Z</td>\n",
       "      <td>fe0c9fe0-10ad-4256-bf0a-2686b9a93422</td>\n",
       "      <td>Swiggy</td>\n",
       "      <td>Not Interested - Got Other Jobs</td>\n",
       "      <td>NaN</td>\n",
       "      <td>2019-10-31T11:30:00Z</td>\n",
       "      <td>Sheeba</td>\n",
       "      <td>2019-12-25T05:50:26.385Z</td>\n",
       "    </tr>\n",
       "    <tr>\n",
       "      <th>8706</th>\n",
       "      <td>NaN</td>\n",
       "      <td>Ramesh .S</td>\n",
       "      <td>NaN</td>\n",
       "      <td>NaN</td>\n",
       "      <td>unknown</td>\n",
       "      <td>True</td>\n",
       "      <td>2019-10-21T00:00:00Z</td>\n",
       "      <td>fe0c9fe0-10ad-4256-bf0a-2686b9a93422</td>\n",
       "      <td>Swiggy</td>\n",
       "      <td>RNR</td>\n",
       "      <td>NaN</td>\n",
       "      <td>2019-10-21T14:30:00Z</td>\n",
       "      <td>Sheeba</td>\n",
       "      <td>2019-12-25T05:50:26.385Z</td>\n",
       "    </tr>\n",
       "    <tr>\n",
       "      <th>8708</th>\n",
       "      <td>NaN</td>\n",
       "      <td>firstName lastName</td>\n",
       "      <td>NaN</td>\n",
       "      <td>NaN</td>\n",
       "      <td>WhatsApp OptIn Form</td>\n",
       "      <td>False</td>\n",
       "      <td>2019-04-01T00:00:00Z</td>\n",
       "      <td>fe236e61-ccd4-4027-bf8a-30949d365ece</td>\n",
       "      <td>NaN</td>\n",
       "      <td>Want Non-Delivery Jobs</td>\n",
       "      <td>NaN</td>\n",
       "      <td>2020-04-01T10:30:00Z</td>\n",
       "      <td>Sheeba</td>\n",
       "      <td>2019-12-25T05:50:26.385Z</td>\n",
       "    </tr>\n",
       "    <tr>\n",
       "      <th>8720</th>\n",
       "      <td>6ec02270-3cdc-465e-b358-56ff1b580278</td>\n",
       "      <td>Sivakumar Unknown</td>\n",
       "      <td>Chennai</td>\n",
       "      <td>NaN</td>\n",
       "      <td>WhatsApp OptIn Form</td>\n",
       "      <td>True</td>\n",
       "      <td>2019-11-08T22:09:00Z</td>\n",
       "      <td>fe4c0410-6934-4202-ae57-1dd7274e7c90</td>\n",
       "      <td>Lynk</td>\n",
       "      <td>RNR</td>\n",
       "      <td>NaN</td>\n",
       "      <td>2019-11-14T11:00:00Z</td>\n",
       "      <td>Sheeba</td>\n",
       "      <td>2019-12-25T05:50:26.385Z</td>\n",
       "    </tr>\n",
       "    <tr>\n",
       "      <th>8721</th>\n",
       "      <td>6ec02270-3cdc-465e-b358-56ff1b580278</td>\n",
       "      <td>Sivakumar Unknown</td>\n",
       "      <td>Chennai</td>\n",
       "      <td>NaN</td>\n",
       "      <td>WhatsApp OptIn Form</td>\n",
       "      <td>True</td>\n",
       "      <td>2019-11-08T22:09:00Z</td>\n",
       "      <td>fe4c0410-6934-4202-ae57-1dd7274e7c90</td>\n",
       "      <td>Lynk</td>\n",
       "      <td>RNR</td>\n",
       "      <td>NaN</td>\n",
       "      <td>2019-11-11T14:00:00Z</td>\n",
       "      <td>Sheeba</td>\n",
       "      <td>2019-12-25T05:50:26.385Z</td>\n",
       "    </tr>\n",
       "    <tr>\n",
       "      <th>8722</th>\n",
       "      <td>NaN</td>\n",
       "      <td>PRAKASH SANNAKKI</td>\n",
       "      <td>NaN</td>\n",
       "      <td>NaN</td>\n",
       "      <td>Airavatha data</td>\n",
       "      <td>True</td>\n",
       "      <td>2019-11-01T05:41:00Z</td>\n",
       "      <td>fe65b879-e205-449a-84b1-9804e68adb49</td>\n",
       "      <td>Move in sync</td>\n",
       "      <td>Very Interested</td>\n",
       "      <td>He will be call back for training</td>\n",
       "      <td>2019-12-05T14:30:00Z</td>\n",
       "      <td>Sheeba</td>\n",
       "      <td>2019-12-25T05:50:26.385Z</td>\n",
       "    </tr>\n",
       "    <tr>\n",
       "      <th>8737</th>\n",
       "      <td>NaN</td>\n",
       "      <td>Krishan Kumar</td>\n",
       "      <td>NaN</td>\n",
       "      <td>NaN</td>\n",
       "      <td>WhatsApp OptIn Form</td>\n",
       "      <td>False</td>\n",
       "      <td>2019-04-01T00:00:00Z</td>\n",
       "      <td>fedbd2e7-f890-4bd1-8ace-3735a4dbd973</td>\n",
       "      <td>NaN</td>\n",
       "      <td>CNP/Switched Off/Not Reachable</td>\n",
       "      <td>NaN</td>\n",
       "      <td>2020-04-01T10:30:00Z</td>\n",
       "      <td>Sheeba</td>\n",
       "      <td>2019-12-25T05:50:26.385Z</td>\n",
       "    </tr>\n",
       "    <tr>\n",
       "      <th>8740</th>\n",
       "      <td>5a848ad1-7f54-4e60-abbf-4428a80a5a27</td>\n",
       "      <td>Thakor Chinu j</td>\n",
       "      <td>Ahmedabad</td>\n",
       "      <td>NaN</td>\n",
       "      <td>power_referrers_9 Nov 19</td>\n",
       "      <td>True</td>\n",
       "      <td>2019-11-09T16:16:00Z</td>\n",
       "      <td>fef03708-322a-432e-b8aa-128940b37e35</td>\n",
       "      <td>Zomato</td>\n",
       "      <td>Switched Off/Not Reachable</td>\n",
       "      <td>NaN</td>\n",
       "      <td>2019-11-11T14:00:00Z</td>\n",
       "      <td>Sheeba</td>\n",
       "      <td>2019-12-25T05:50:26.385Z</td>\n",
       "    </tr>\n",
       "    <tr>\n",
       "      <th>8757</th>\n",
       "      <td>NaN</td>\n",
       "      <td>GOWTHAM H D</td>\n",
       "      <td>NaN</td>\n",
       "      <td>NaN</td>\n",
       "      <td>Airavatha data</td>\n",
       "      <td>True</td>\n",
       "      <td>2019-11-01T05:41:00Z</td>\n",
       "      <td>ff708e99-7b1a-483c-865e-d5c4198892dd</td>\n",
       "      <td>Move in sync</td>\n",
       "      <td>Not Interested - Got Other Jobs</td>\n",
       "      <td>Attatched other Company</td>\n",
       "      <td>2019-12-03T15:30:00Z</td>\n",
       "      <td>Sheeba</td>\n",
       "      <td>2019-12-25T05:50:26.385Z</td>\n",
       "    </tr>\n",
       "    <tr>\n",
       "      <th>9007</th>\n",
       "      <td>331c61c2-159f-4fb0-b9f1-e1ffcb54336a</td>\n",
       "      <td>Madhav Unknown</td>\n",
       "      <td>Bangalore</td>\n",
       "      <td>NaN</td>\n",
       "      <td>API</td>\n",
       "      <td>True</td>\n",
       "      <td>2019-11-29T00:00:00Z</td>\n",
       "      <td>141dbf2d-c085-476e-be56-d136fa540b18</td>\n",
       "      <td>Zomato</td>\n",
       "      <td>Other Reasons</td>\n",
       "      <td>Works in Vahan</td>\n",
       "      <td>2019-10-10T11:30:00Z</td>\n",
       "      <td>Amila</td>\n",
       "      <td>2019-12-25T05:50:26.375Z</td>\n",
       "    </tr>\n",
       "    <tr>\n",
       "      <th>9224</th>\n",
       "      <td>aae392ad-045c-4f06-a210-a1c85b412595</td>\n",
       "      <td>Neetu Kumar</td>\n",
       "      <td>Uttarakhand</td>\n",
       "      <td>NaN</td>\n",
       "      <td>ddun-nrby-aug-2</td>\n",
       "      <td>True</td>\n",
       "      <td>2019-11-14T19:58:00Z</td>\n",
       "      <td>262a1af7-d57c-4a25-8653-ed99a41785dd</td>\n",
       "      <td>Zomato</td>\n",
       "      <td>Interested</td>\n",
       "      <td>After 23 Nov</td>\n",
       "      <td>2019-11-15T10:30:00Z</td>\n",
       "      <td>Amila</td>\n",
       "      <td>2019-12-25T05:50:26.375Z</td>\n",
       "    </tr>\n",
       "    <tr>\n",
       "      <th>9308</th>\n",
       "      <td>325bf760-f27a-49a0-bed4-7120ee5cfa85</td>\n",
       "      <td>Khaja Qutubuddin</td>\n",
       "      <td>Hyderabad</td>\n",
       "      <td>NaN</td>\n",
       "      <td>Referrals</td>\n",
       "      <td>True</td>\n",
       "      <td>2019-11-14T22:40:00Z</td>\n",
       "      <td>2d5b96a9-eb83-4ef3-ba05-632f48c6886f</td>\n",
       "      <td>Swiggy</td>\n",
       "      <td>Not Interested - Disconnected the Call</td>\n",
       "      <td>NaN</td>\n",
       "      <td>2019-07-31T17:00:00Z</td>\n",
       "      <td>Amila</td>\n",
       "      <td>2019-12-25T05:50:26.375Z</td>\n",
       "    </tr>\n",
       "    <tr>\n",
       "      <th>9784</th>\n",
       "      <td>NaN</td>\n",
       "      <td>Akash Unknown</td>\n",
       "      <td>Bangalore</td>\n",
       "      <td>NaN</td>\n",
       "      <td>Facebook</td>\n",
       "      <td>True</td>\n",
       "      <td>2019-11-15T09:43:00Z</td>\n",
       "      <td>5640f3da-962b-4ebe-8084-3ef7cd66011d</td>\n",
       "      <td>Amazon Flex</td>\n",
       "      <td>CNP/Switched Off/Not Reachable</td>\n",
       "      <td>NaN</td>\n",
       "      <td>2019-07-25T16:30:00Z</td>\n",
       "      <td>Amila</td>\n",
       "      <td>2019-12-25T05:50:26.375Z</td>\n",
       "    </tr>\n",
       "    <tr>\n",
       "      <th>9785</th>\n",
       "      <td>NaN</td>\n",
       "      <td>Akash Unknown</td>\n",
       "      <td>Bangalore</td>\n",
       "      <td>NaN</td>\n",
       "      <td>Facebook</td>\n",
       "      <td>True</td>\n",
       "      <td>2019-11-15T09:43:00Z</td>\n",
       "      <td>5640f3da-962b-4ebe-8084-3ef7cd66011d</td>\n",
       "      <td>Amazon Flex</td>\n",
       "      <td>CNP/Switched Off/Not Reachable</td>\n",
       "      <td>NaN</td>\n",
       "      <td>2019-08-07T15:30:00Z</td>\n",
       "      <td>Amila</td>\n",
       "      <td>2019-12-25T05:50:26.375Z</td>\n",
       "    </tr>\n",
       "    <tr>\n",
       "      <th>9786</th>\n",
       "      <td>NaN</td>\n",
       "      <td>Akash Unknown</td>\n",
       "      <td>Bangalore</td>\n",
       "      <td>NaN</td>\n",
       "      <td>Facebook</td>\n",
       "      <td>True</td>\n",
       "      <td>2019-11-15T09:43:00Z</td>\n",
       "      <td>5640f3da-962b-4ebe-8084-3ef7cd66011d</td>\n",
       "      <td>Amazon Flex</td>\n",
       "      <td>CNP/Switched Off/Not Reachable</td>\n",
       "      <td>NaN</td>\n",
       "      <td>2019-07-26T11:30:00Z</td>\n",
       "      <td>Amila</td>\n",
       "      <td>2019-12-25T05:50:26.375Z</td>\n",
       "    </tr>\n",
       "    <tr>\n",
       "      <th>9904</th>\n",
       "      <td>50484301-498b-44a1-846e-e826ff3320d5</td>\n",
       "      <td>S.kumara Raja</td>\n",
       "      <td>your city</td>\n",
       "      <td>NaN</td>\n",
       "      <td>Referrals</td>\n",
       "      <td>False</td>\n",
       "      <td>2019-07-24T00:00:00Z</td>\n",
       "      <td>60ce08a7-fff7-4aaa-80b5-f9a3c2969b60</td>\n",
       "      <td>Swiggy</td>\n",
       "      <td>CNP/Switched Off/Not Reachable</td>\n",
       "      <td>NaN</td>\n",
       "      <td>2019-08-05T15:30:00Z</td>\n",
       "      <td>Amila</td>\n",
       "      <td>2019-12-25T05:50:26.375Z</td>\n",
       "    </tr>\n",
       "    <tr>\n",
       "      <th>10565</th>\n",
       "      <td>NaN</td>\n",
       "      <td>Anil</td>\n",
       "      <td>Bangalore</td>\n",
       "      <td>NaN</td>\n",
       "      <td>Vikram</td>\n",
       "      <td>True</td>\n",
       "      <td>2019-11-01T05:41:00Z</td>\n",
       "      <td>952f390d-6fdd-40f8-bb35-82ab110c779e</td>\n",
       "      <td>Uber Eats</td>\n",
       "      <td>Very Interested</td>\n",
       "      <td>Going on Wed</td>\n",
       "      <td>2019-10-15T11:30:00Z</td>\n",
       "      <td>Amila</td>\n",
       "      <td>2019-12-25T05:50:26.375Z</td>\n",
       "    </tr>\n",
       "    <tr>\n",
       "      <th>10566</th>\n",
       "      <td>NaN</td>\n",
       "      <td>Anil</td>\n",
       "      <td>Bangalore</td>\n",
       "      <td>NaN</td>\n",
       "      <td>Vikram</td>\n",
       "      <td>True</td>\n",
       "      <td>2019-11-01T05:41:00Z</td>\n",
       "      <td>952f390d-6fdd-40f8-bb35-82ab110c779e</td>\n",
       "      <td>Uber Eats</td>\n",
       "      <td>Very Interested</td>\n",
       "      <td>Going on Tue(19-Nov-2019)</td>\n",
       "      <td>2019-11-18T10:30:00Z</td>\n",
       "      <td>Amila</td>\n",
       "      <td>2019-12-25T05:50:26.375Z</td>\n",
       "    </tr>\n",
       "    <tr>\n",
       "      <th>10567</th>\n",
       "      <td>NaN</td>\n",
       "      <td>Anil</td>\n",
       "      <td>Bangalore</td>\n",
       "      <td>NaN</td>\n",
       "      <td>Vikram</td>\n",
       "      <td>True</td>\n",
       "      <td>2019-11-01T05:41:00Z</td>\n",
       "      <td>952f390d-6fdd-40f8-bb35-82ab110c779e</td>\n",
       "      <td>Uber Eats</td>\n",
       "      <td>Interested but RNR on Follow-up</td>\n",
       "      <td>NaN</td>\n",
       "      <td>2019-10-19T11:00:00Z</td>\n",
       "      <td>Amila</td>\n",
       "      <td>2019-12-25T05:50:26.375Z</td>\n",
       "    </tr>\n",
       "    <tr>\n",
       "      <th>10945</th>\n",
       "      <td>4273bda0-2766-4b4a-9e36-2abd5590a5dd</td>\n",
       "      <td>Karthik</td>\n",
       "      <td>Bangalore</td>\n",
       "      <td>NaN</td>\n",
       "      <td>API</td>\n",
       "      <td>False</td>\n",
       "      <td>2019-11-01T05:41:00Z</td>\n",
       "      <td>b0b15099-0d2d-40d8-838a-f5ac25322fe6</td>\n",
       "      <td>Uber</td>\n",
       "      <td>Not Interested - Applied by Mistake</td>\n",
       "      <td>NaN</td>\n",
       "      <td>2019-10-30T11:30:00Z</td>\n",
       "      <td>Amila</td>\n",
       "      <td>2019-12-25T05:50:26.375Z</td>\n",
       "    </tr>\n",
       "    <tr>\n",
       "      <th>11251</th>\n",
       "      <td>5ddaa5ef-8314-4275-bf08-68812ef0e9d4</td>\n",
       "      <td>Niteshkumar Unknown</td>\n",
       "      <td>Bangalore</td>\n",
       "      <td>NaN</td>\n",
       "      <td>blr-nrby-aug-2-rep1</td>\n",
       "      <td>True</td>\n",
       "      <td>2019-11-21T19:53:00Z</td>\n",
       "      <td>c9ba793e-ad90-411e-9e42-9ccee7e6cf7d</td>\n",
       "      <td>Uber Eats</td>\n",
       "      <td>Call Back</td>\n",
       "      <td>Person not Avaliable</td>\n",
       "      <td>2019-10-30T11:00:00Z</td>\n",
       "      <td>Amila</td>\n",
       "      <td>2019-12-25T05:50:26.375Z</td>\n",
       "    </tr>\n",
       "    <tr>\n",
       "      <th>11775</th>\n",
       "      <td>1ea63e5c-3b7e-4457-af3e-12669f2597d0</td>\n",
       "      <td>Kiran R</td>\n",
       "      <td>Bangalore</td>\n",
       "      <td>NaN</td>\n",
       "      <td>atuber-blrvic1mil-kan-19-sep-rep2</td>\n",
       "      <td>False</td>\n",
       "      <td>2019-11-01T05:41:00Z</td>\n",
       "      <td>effafea8-5174-47ed-bb37-d4c8e05a4520</td>\n",
       "      <td>Uber</td>\n",
       "      <td>Very Interested</td>\n",
       "      <td>Send the Docs</td>\n",
       "      <td>2019-10-30T11:30:00Z</td>\n",
       "      <td>Amila</td>\n",
       "      <td>2019-12-25T05:50:26.375Z</td>\n",
       "    </tr>\n",
       "  </tbody>\n",
       "</table>\n",
       "<p>1576 rows × 14 columns</p>\n",
       "</div>"
      ],
      "text/plain": [
       "                                     userId               name_x         city  \\\n",
       "0                                       NaN             KUPENDRA          NaN   \n",
       "5      bbf27c93-7a68-4bb4-981e-127010e8b72d        Vikki Unknown    Bangalore   \n",
       "10                                      NaN    CHETHAN KUMAR V M          NaN   \n",
       "11                                      NaN    CHETHAN KUMAR V M          NaN   \n",
       "19                                      NaN     Ramkumar Unknown          NaN   \n",
       "20     3ea06f5e-76d8-4a83-9b7d-dc787d938247  Munikrishna Unknown    Bangalore   \n",
       "52     39a3c73e-c398-4070-9c56-7e3a4edbc976         Kaal Unknown    Bangalore   \n",
       "54     9fece3f1-0519-400b-bdd0-3a6280c76d74             Abhishek    Bangalore   \n",
       "55     9fece3f1-0519-400b-bdd0-3a6280c76d74             Abhishek    Bangalore   \n",
       "56     9fece3f1-0519-400b-bdd0-3a6280c76d74             Abhishek    Bangalore   \n",
       "57     9fece3f1-0519-400b-bdd0-3a6280c76d74             Abhishek    Bangalore   \n",
       "58     9fece3f1-0519-400b-bdd0-3a6280c76d74             Abhishek    Bangalore   \n",
       "59     9fece3f1-0519-400b-bdd0-3a6280c76d74             Abhishek    Bangalore   \n",
       "60     9fece3f1-0519-400b-bdd0-3a6280c76d74             Abhishek    Bangalore   \n",
       "61     9fece3f1-0519-400b-bdd0-3a6280c76d74             Abhishek    Bangalore   \n",
       "62     9fece3f1-0519-400b-bdd0-3a6280c76d74             Abhishek    Bangalore   \n",
       "63     9fece3f1-0519-400b-bdd0-3a6280c76d74             Abhishek    Bangalore   \n",
       "69                                      NaN       Rajesh Unknown          NaN   \n",
       "75                                      NaN         Abdul khalik    Bangalore   \n",
       "82                                      NaN      Ramanand Sharma          NaN   \n",
       "87     416daa27-0f07-4c3a-8b0e-c9b1ff82b77f                 Raji    Bangalore   \n",
       "90                                      NaN          JAGADISHA H          NaN   \n",
       "91                                      NaN        Parashuramalu    Yadhgirir   \n",
       "93                                      NaN       GOPALSWAMY D M          NaN   \n",
       "94                                      NaN       GOPALSWAMY D M          NaN   \n",
       "98                                      NaN   Anish Bhaurao Mane          NaN   \n",
       "99     78eb6027-fc97-4f34-9456-22cbd31b18a5              Swamy R    Bangalore   \n",
       "100    bc3d850c-9f26-4372-9a9f-1a690b57c8ea  Lohithkumar Unknown    Bangalore   \n",
       "103                                     NaN               Kabeer    Bangalore   \n",
       "104                                     NaN               Kabeer    Bangalore   \n",
       "...                                     ...                  ...          ...   \n",
       "8675                                    NaN           Karthik. R          NaN   \n",
       "8679                                    NaN      Luqhman Unknown          NaN   \n",
       "8682                                    NaN         R N Pradeepa          NaN   \n",
       "8684   b311058c-8e41-431e-857e-c507b0b64208             Prasanna    Bangalore   \n",
       "8691                                    NaN        Manjunatha  N          NaN   \n",
       "8692                                    NaN        Manjunatha  N          NaN   \n",
       "8699                                    NaN             HARISH J          NaN   \n",
       "8700                                    NaN             HARISH J          NaN   \n",
       "8705                                    NaN            Ramesh .S          NaN   \n",
       "8706                                    NaN            Ramesh .S          NaN   \n",
       "8708                                    NaN   firstName lastName          NaN   \n",
       "8720   6ec02270-3cdc-465e-b358-56ff1b580278    Sivakumar Unknown      Chennai   \n",
       "8721   6ec02270-3cdc-465e-b358-56ff1b580278    Sivakumar Unknown      Chennai   \n",
       "8722                                    NaN     PRAKASH SANNAKKI          NaN   \n",
       "8737                                    NaN        Krishan Kumar          NaN   \n",
       "8740   5a848ad1-7f54-4e60-abbf-4428a80a5a27       Thakor Chinu j    Ahmedabad   \n",
       "8757                                    NaN          GOWTHAM H D          NaN   \n",
       "9007   331c61c2-159f-4fb0-b9f1-e1ffcb54336a       Madhav Unknown    Bangalore   \n",
       "9224   aae392ad-045c-4f06-a210-a1c85b412595          Neetu Kumar  Uttarakhand   \n",
       "9308   325bf760-f27a-49a0-bed4-7120ee5cfa85     Khaja Qutubuddin    Hyderabad   \n",
       "9784                                    NaN        Akash Unknown    Bangalore   \n",
       "9785                                    NaN        Akash Unknown    Bangalore   \n",
       "9786                                    NaN        Akash Unknown    Bangalore   \n",
       "9904   50484301-498b-44a1-846e-e826ff3320d5        S.kumara Raja    your city   \n",
       "10565                                   NaN                 Anil    Bangalore   \n",
       "10566                                   NaN                 Anil    Bangalore   \n",
       "10567                                   NaN                 Anil    Bangalore   \n",
       "10945  4273bda0-2766-4b4a-9e36-2abd5590a5dd              Karthik    Bangalore   \n",
       "11251  5ddaa5ef-8314-4275-bf08-68812ef0e9d4  Niteshkumar Unknown    Bangalore   \n",
       "11775  1ea63e5c-3b7e-4457-af3e-12669f2597d0              Kiran R    Bangalore   \n",
       "\n",
       "      state                             source  isExternal  \\\n",
       "0       NaN                     Airavatha data        True   \n",
       "5       NaN                              CorpW        True   \n",
       "10      NaN                     Airavatha data        True   \n",
       "11      NaN                     Airavatha data        True   \n",
       "19      NaN                                API       False   \n",
       "20      NaN                          Referrals        True   \n",
       "52      NaN                          Referrals        True   \n",
       "54      NaN             Ubereats Existing list        True   \n",
       "55      NaN             Ubereats Existing list        True   \n",
       "56      NaN             Ubereats Existing list        True   \n",
       "57      NaN             Ubereats Existing list        True   \n",
       "58      NaN             Ubereats Existing list        True   \n",
       "59      NaN             Ubereats Existing list        True   \n",
       "60      NaN             Ubereats Existing list        True   \n",
       "61      NaN             Ubereats Existing list        True   \n",
       "62      NaN             Ubereats Existing list        True   \n",
       "63      NaN             Ubereats Existing list        True   \n",
       "69      NaN                WhatsApp OptIn Form       False   \n",
       "75      NaN                            Sandeep        True   \n",
       "82      NaN                WhatsApp OptIn Form       False   \n",
       "87      NaN             Ubereats Existing list        True   \n",
       "90      NaN                     Airavatha data        True   \n",
       "91      NaN                            Sandeep        True   \n",
       "93      NaN                     Airavatha data        True   \n",
       "94      NaN                     Airavatha data        True   \n",
       "98      NaN                WhatsApp OptIn Form       False   \n",
       "99      NaN     atuber-blrvic1milb2-kan-20-sep        True   \n",
       "100     NaN                          Referrals        True   \n",
       "103     NaN                            Sandeep        True   \n",
       "104     NaN                            Sandeep        True   \n",
       "...     ...                                ...         ...   \n",
       "8675    NaN                            unknown        True   \n",
       "8679    NaN                           Facebook       False   \n",
       "8682    NaN                WhatsApp OptIn Form       False   \n",
       "8684    NaN             Ubereats Existing list        True   \n",
       "8691    NaN                     Airavatha data        True   \n",
       "8692    NaN                     Airavatha data        True   \n",
       "8699    NaN                     Airavatha data        True   \n",
       "8700    NaN                     Airavatha data        True   \n",
       "8705    NaN                            unknown        True   \n",
       "8706    NaN                            unknown        True   \n",
       "8708    NaN                WhatsApp OptIn Form       False   \n",
       "8720    NaN                WhatsApp OptIn Form        True   \n",
       "8721    NaN                WhatsApp OptIn Form        True   \n",
       "8722    NaN                     Airavatha data        True   \n",
       "8737    NaN                WhatsApp OptIn Form       False   \n",
       "8740    NaN           power_referrers_9 Nov 19        True   \n",
       "8757    NaN                     Airavatha data        True   \n",
       "9007    NaN                                API        True   \n",
       "9224    NaN                    ddun-nrby-aug-2        True   \n",
       "9308    NaN                          Referrals        True   \n",
       "9784    NaN                           Facebook        True   \n",
       "9785    NaN                           Facebook        True   \n",
       "9786    NaN                           Facebook        True   \n",
       "9904    NaN                          Referrals       False   \n",
       "10565   NaN                             Vikram        True   \n",
       "10566   NaN                             Vikram        True   \n",
       "10567   NaN                             Vikram        True   \n",
       "10945   NaN                                API       False   \n",
       "11251   NaN                blr-nrby-aug-2-rep1        True   \n",
       "11775   NaN  atuber-blrvic1mil-kan-19-sep-rep2       False   \n",
       "\n",
       "                 receivedAt                                leadId  \\\n",
       "0      2019-11-01T05:41:00Z  00021a29-83e4-48d3-8cc3-0bc729f087fd   \n",
       "5      2019-11-10T00:46:00Z  005962d2-f1ab-40a0-9025-4a4ec3999557   \n",
       "10     2019-11-01T05:41:00Z  0086c117-fc49-4504-a14b-42f6789832ea   \n",
       "11     2019-11-01T05:41:00Z  0086c117-fc49-4504-a14b-42f6789832ea   \n",
       "19     2019-04-01T00:00:00Z  00c8478b-1b9d-4a5a-9078-854d13e50212   \n",
       "20     2019-11-10T08:29:00Z  00d4e1f4-bf32-4bb7-802c-118a49759cf7   \n",
       "52     2019-11-10T16:34:00Z  01aeeb81-75c6-4b1c-ad82-c83a5bcb3e3b   \n",
       "54     2019-11-01T05:41:00Z  01b7a299-77a9-4b8b-a440-7ff7045e5971   \n",
       "55     2019-11-01T05:41:00Z  01b7a299-77a9-4b8b-a440-7ff7045e5971   \n",
       "56     2019-11-01T05:41:00Z  01b7a299-77a9-4b8b-a440-7ff7045e5971   \n",
       "57     2019-11-01T05:41:00Z  01b7a299-77a9-4b8b-a440-7ff7045e5971   \n",
       "58     2019-11-01T05:41:00Z  01b7a299-77a9-4b8b-a440-7ff7045e5971   \n",
       "59     2019-11-01T05:41:00Z  01b7a299-77a9-4b8b-a440-7ff7045e5971   \n",
       "60     2019-11-01T05:41:00Z  01b7a299-77a9-4b8b-a440-7ff7045e5971   \n",
       "61     2019-11-01T05:41:00Z  01b7a299-77a9-4b8b-a440-7ff7045e5971   \n",
       "62     2019-11-01T05:41:00Z  01b7a299-77a9-4b8b-a440-7ff7045e5971   \n",
       "63     2019-11-01T05:41:00Z  01b7a299-77a9-4b8b-a440-7ff7045e5971   \n",
       "69     2019-04-01T00:00:00Z  01f7650f-d8df-42d5-832b-07fd4549977e   \n",
       "75     2019-11-03T13:42:00Z  0216829b-b17a-4dbd-95d3-0bb89a707b0e   \n",
       "82     2019-04-01T00:00:00Z  0270afdc-e239-4929-a9f6-6ed8ec7db125   \n",
       "87     2019-11-01T05:41:00Z  028e0170-a16f-4e35-b49f-5dddf17f23db   \n",
       "90     2019-11-01T05:41:00Z  0293bca9-c163-4b40-b66d-30cda3d73c0b   \n",
       "91     2019-11-03T13:42:00Z  02a747e3-d335-4feb-819c-5bbeefc87359   \n",
       "93     2019-11-01T05:41:00Z  02ca1e7d-23f7-4c11-a407-5c531c0f6e53   \n",
       "94     2019-11-01T05:41:00Z  02ca1e7d-23f7-4c11-a407-5c531c0f6e53   \n",
       "98     2019-04-01T00:00:00Z  02d464a7-b898-47be-a6a1-a0ffc24d3092   \n",
       "99     2019-11-21T00:45:00Z  02e21d8e-3ac1-42f5-9883-213261c484b5   \n",
       "100    2019-11-10T22:47:00Z  02e5ac1e-6042-4941-a5fb-dc15b62df882   \n",
       "103    2019-11-03T13:42:00Z  02f9096e-bf7e-43f0-b6cb-e1a960a16790   \n",
       "104    2019-11-03T13:42:00Z  02f9096e-bf7e-43f0-b6cb-e1a960a16790   \n",
       "...                     ...                                   ...   \n",
       "8675   2019-10-21T00:00:00Z  fd0ac77c-f1ed-4ca9-bde2-66fd02c4d5e9   \n",
       "8679   2019-04-01T00:00:00Z  fd228dc6-55e4-4565-b4cc-5ef6096f2fc2   \n",
       "8682   2019-04-01T00:00:00Z  fd5a7106-fcc1-437b-8950-519a72c5139e   \n",
       "8684   2019-11-01T05:41:00Z  fd6ac469-cbf2-4652-b5c0-f31dd3fb8ebc   \n",
       "8691   2019-11-01T05:41:00Z  fd8ce36c-9c5b-4dee-9c04-db29fc4cb73b   \n",
       "8692   2019-11-01T05:41:00Z  fd8ce36c-9c5b-4dee-9c04-db29fc4cb73b   \n",
       "8699   2019-11-01T05:41:00Z  fde4c625-2b9e-4dec-a8f6-0d3272c3cd8d   \n",
       "8700   2019-11-01T05:41:00Z  fde4c625-2b9e-4dec-a8f6-0d3272c3cd8d   \n",
       "8705   2019-10-21T00:00:00Z  fe0c9fe0-10ad-4256-bf0a-2686b9a93422   \n",
       "8706   2019-10-21T00:00:00Z  fe0c9fe0-10ad-4256-bf0a-2686b9a93422   \n",
       "8708   2019-04-01T00:00:00Z  fe236e61-ccd4-4027-bf8a-30949d365ece   \n",
       "8720   2019-11-08T22:09:00Z  fe4c0410-6934-4202-ae57-1dd7274e7c90   \n",
       "8721   2019-11-08T22:09:00Z  fe4c0410-6934-4202-ae57-1dd7274e7c90   \n",
       "8722   2019-11-01T05:41:00Z  fe65b879-e205-449a-84b1-9804e68adb49   \n",
       "8737   2019-04-01T00:00:00Z  fedbd2e7-f890-4bd1-8ace-3735a4dbd973   \n",
       "8740   2019-11-09T16:16:00Z  fef03708-322a-432e-b8aa-128940b37e35   \n",
       "8757   2019-11-01T05:41:00Z  ff708e99-7b1a-483c-865e-d5c4198892dd   \n",
       "9007   2019-11-29T00:00:00Z  141dbf2d-c085-476e-be56-d136fa540b18   \n",
       "9224   2019-11-14T19:58:00Z  262a1af7-d57c-4a25-8653-ed99a41785dd   \n",
       "9308   2019-11-14T22:40:00Z  2d5b96a9-eb83-4ef3-ba05-632f48c6886f   \n",
       "9784   2019-11-15T09:43:00Z  5640f3da-962b-4ebe-8084-3ef7cd66011d   \n",
       "9785   2019-11-15T09:43:00Z  5640f3da-962b-4ebe-8084-3ef7cd66011d   \n",
       "9786   2019-11-15T09:43:00Z  5640f3da-962b-4ebe-8084-3ef7cd66011d   \n",
       "9904   2019-07-24T00:00:00Z  60ce08a7-fff7-4aaa-80b5-f9a3c2969b60   \n",
       "10565  2019-11-01T05:41:00Z  952f390d-6fdd-40f8-bb35-82ab110c779e   \n",
       "10566  2019-11-01T05:41:00Z  952f390d-6fdd-40f8-bb35-82ab110c779e   \n",
       "10567  2019-11-01T05:41:00Z  952f390d-6fdd-40f8-bb35-82ab110c779e   \n",
       "10945  2019-11-01T05:41:00Z  b0b15099-0d2d-40d8-838a-f5ac25322fe6   \n",
       "11251  2019-11-21T19:53:00Z  c9ba793e-ad90-411e-9e42-9ccee7e6cf7d   \n",
       "11775  2019-11-01T05:41:00Z  effafea8-5174-47ed-bb37-d4c8e05a4520   \n",
       "\n",
       "             client                                  status  \\\n",
       "0      Move in sync                                     RNR   \n",
       "5         Uber Eats            Not Interested - Not Applied   \n",
       "10     Move in sync                                     RNR   \n",
       "11     Move in sync                                     RNR   \n",
       "19              NaN                                Not Sure   \n",
       "20        Uber Eats           Wrong Number/Number Not Valid   \n",
       "52        Uber Eats           Wrong Number/Number Not Valid   \n",
       "54           Random                           Other Reasons   \n",
       "55           Random                           Other Reasons   \n",
       "56           Random                           Other Reasons   \n",
       "57           Random                           Other Reasons   \n",
       "58           Random                           Other Reasons   \n",
       "59           Random                           Other Reasons   \n",
       "60           Random                           Other Reasons   \n",
       "61           Random                           Other Reasons   \n",
       "62           Random                           Other Reasons   \n",
       "63           Random                           Other Reasons   \n",
       "69              NaN                  Want Non-Delivery Jobs   \n",
       "75           Random  Not Interested - Disconnected the Call   \n",
       "82              NaN          CNP/Switched Off/Not Reachable   \n",
       "87           Random              Switched Off/Not Reachable   \n",
       "90     Move in sync           Wrong Number/Number Not Valid   \n",
       "91           Random              Switched Off/Not Reachable   \n",
       "93     Move in sync              Switched Off/Not Reachable   \n",
       "94     Move in sync              Switched Off/Not Reachable   \n",
       "98              NaN                          Not Interested   \n",
       "99              KFC              Switched Off/Not Reachable   \n",
       "100       Uber Eats           Wrong Number/Number Not Valid   \n",
       "103          Random                                     RNR   \n",
       "104          Random                           Other Reasons   \n",
       "...             ...                                     ...   \n",
       "8675         Swiggy     Not Interested - Applied by Mistake   \n",
       "8679            NaN          CNP/Switched Off/Not Reachable   \n",
       "8682            NaN                          Got Other Jobs   \n",
       "8684         Random                                  Joined   \n",
       "8691   Move in sync                 Not Interested - Others   \n",
       "8692   Move in sync                                     RNR   \n",
       "8699   Move in sync              Switched Off/Not Reachable   \n",
       "8700   Move in sync                                     RNR   \n",
       "8705         Swiggy         Not Interested - Got Other Jobs   \n",
       "8706         Swiggy                                     RNR   \n",
       "8708            NaN                  Want Non-Delivery Jobs   \n",
       "8720           Lynk                                     RNR   \n",
       "8721           Lynk                                     RNR   \n",
       "8722   Move in sync                         Very Interested   \n",
       "8737            NaN          CNP/Switched Off/Not Reachable   \n",
       "8740         Zomato              Switched Off/Not Reachable   \n",
       "8757   Move in sync         Not Interested - Got Other Jobs   \n",
       "9007         Zomato                           Other Reasons   \n",
       "9224         Zomato                              Interested   \n",
       "9308         Swiggy  Not Interested - Disconnected the Call   \n",
       "9784    Amazon Flex          CNP/Switched Off/Not Reachable   \n",
       "9785    Amazon Flex          CNP/Switched Off/Not Reachable   \n",
       "9786    Amazon Flex          CNP/Switched Off/Not Reachable   \n",
       "9904         Swiggy          CNP/Switched Off/Not Reachable   \n",
       "10565     Uber Eats                         Very Interested   \n",
       "10566     Uber Eats                         Very Interested   \n",
       "10567     Uber Eats         Interested but RNR on Follow-up   \n",
       "10945          Uber     Not Interested - Applied by Mistake   \n",
       "11251     Uber Eats                               Call Back   \n",
       "11775          Uber                         Very Interested   \n",
       "\n",
       "                                comments              calledAt  name_y  \\\n",
       "0                                    NaN  2019-12-03T15:00:00Z  Sheeba   \n",
       "5                                    NaN  2019-11-12T16:00:00Z  Sheeba   \n",
       "10                                   NaN  2019-12-02T12:30:00Z  Sheeba   \n",
       "11                                   NaN  2019-11-29T17:30:00Z  Sheeba   \n",
       "19                     He will call back  2020-04-01T10:30:00Z  Sheeba   \n",
       "20                                   NaN  2019-11-11T15:30:00Z  Sheeba   \n",
       "52                                   NaN  2019-11-12T15:00:00Z  Sheeba   \n",
       "54                                 Vahan  2019-11-19T13:30:00Z  Sheeba   \n",
       "55                                 Vahan  2019-11-19T14:30:00Z  Sheeba   \n",
       "56                                 Vahan  2019-11-19T14:00:00Z  Sheeba   \n",
       "57                                 Vahan  2019-11-19T13:30:00Z  Sheeba   \n",
       "58                                 Vahan  2019-11-19T14:00:00Z  Sheeba   \n",
       "59                                 Vahan  2019-11-19T12:00:00Z  Sheeba   \n",
       "60                                 Vahan  2019-11-19T15:00:00Z  Sheeba   \n",
       "61                                 Vahan  2019-11-19T11:30:00Z  Sheeba   \n",
       "62                                 Vahan  2019-11-19T14:30:00Z  Sheeba   \n",
       "63                                 Vahan  2019-11-19T14:00:00Z  Sheeba   \n",
       "69                                   NaN  2020-04-01T10:30:00Z  Sheeba   \n",
       "75                                   NaN  2019-11-08T15:00:00Z  Sheeba   \n",
       "82                                   NaN  2020-04-01T10:30:00Z  Sheeba   \n",
       "87                                   NaN  2019-11-19T12:00:00Z  Sheeba   \n",
       "90                          Wrong person  2019-11-29T15:30:00Z  Sheeba   \n",
       "91                                   NaN  2019-11-08T15:30:00Z  Sheeba   \n",
       "93      Incoming calls are not acailable  2019-12-02T12:30:00Z  Sheeba   \n",
       "94      Incoming calls are not available  2019-11-29T16:30:00Z  Sheeba   \n",
       "98                                   NaN  2020-04-01T10:30:00Z  Sheeba   \n",
       "99                                   NaN  2019-11-26T15:30:00Z  Sheeba   \n",
       "100                                  NaN  2019-11-12T15:00:00Z  Sheeba   \n",
       "103                                  NaN  2019-11-08T15:00:00Z  Sheeba   \n",
       "104                     Repieted  number  2019-11-08T16:00:00Z  Sheeba   \n",
       "...                                  ...                   ...     ...   \n",
       "8675                                 NaN  2019-10-10T14:00:00Z  Sheeba   \n",
       "8679                                 NaN  2020-04-01T10:30:00Z  Sheeba   \n",
       "8682                      Joined Dominos  2020-04-01T10:30:00Z  Sheeba   \n",
       "8684                   Joined on 1st Nov  2019-11-19T11:30:00Z  Sheeba   \n",
       "8691                             Own use  2019-11-29T15:00:00Z  Sheeba   \n",
       "8692                                 NaN  2019-12-05T15:00:00Z  Sheeba   \n",
       "8699                       Not Reachable  2019-12-02T12:30:00Z  Sheeba   \n",
       "8700                                 NaN  2019-11-29T15:00:00Z  Sheeba   \n",
       "8705                                 NaN  2019-10-31T11:30:00Z  Sheeba   \n",
       "8706                                 NaN  2019-10-21T14:30:00Z  Sheeba   \n",
       "8708                                 NaN  2020-04-01T10:30:00Z  Sheeba   \n",
       "8720                                 NaN  2019-11-14T11:00:00Z  Sheeba   \n",
       "8721                                 NaN  2019-11-11T14:00:00Z  Sheeba   \n",
       "8722   He will be call back for training  2019-12-05T14:30:00Z  Sheeba   \n",
       "8737                                 NaN  2020-04-01T10:30:00Z  Sheeba   \n",
       "8740                                 NaN  2019-11-11T14:00:00Z  Sheeba   \n",
       "8757             Attatched other Company  2019-12-03T15:30:00Z  Sheeba   \n",
       "9007                      Works in Vahan  2019-10-10T11:30:00Z   Amila   \n",
       "9224                        After 23 Nov  2019-11-15T10:30:00Z   Amila   \n",
       "9308                                 NaN  2019-07-31T17:00:00Z   Amila   \n",
       "9784                                 NaN  2019-07-25T16:30:00Z   Amila   \n",
       "9785                                 NaN  2019-08-07T15:30:00Z   Amila   \n",
       "9786                                 NaN  2019-07-26T11:30:00Z   Amila   \n",
       "9904                                 NaN  2019-08-05T15:30:00Z   Amila   \n",
       "10565                       Going on Wed  2019-10-15T11:30:00Z   Amila   \n",
       "10566          Going on Tue(19-Nov-2019)  2019-11-18T10:30:00Z   Amila   \n",
       "10567                                NaN  2019-10-19T11:00:00Z   Amila   \n",
       "10945                                NaN  2019-10-30T11:30:00Z   Amila   \n",
       "11251               Person not Avaliable  2019-10-30T11:00:00Z   Amila   \n",
       "11775                      Send the Docs  2019-10-30T11:30:00Z   Amila   \n",
       "\n",
       "                      createdAt  \n",
       "0      2019-12-25T05:50:26.385Z  \n",
       "5      2019-12-25T05:50:26.385Z  \n",
       "10     2019-12-25T05:50:26.385Z  \n",
       "11     2019-12-25T05:50:26.385Z  \n",
       "19     2019-12-25T05:50:26.385Z  \n",
       "20     2019-12-25T05:50:26.385Z  \n",
       "52     2019-12-25T05:50:26.385Z  \n",
       "54     2019-12-25T05:50:26.385Z  \n",
       "55     2019-12-25T05:50:26.385Z  \n",
       "56     2019-12-25T05:50:26.385Z  \n",
       "57     2019-12-25T05:50:26.385Z  \n",
       "58     2019-12-25T05:50:26.385Z  \n",
       "59     2019-12-25T05:50:26.385Z  \n",
       "60     2019-12-25T05:50:26.385Z  \n",
       "61     2019-12-25T05:50:26.385Z  \n",
       "62     2019-12-25T05:50:26.385Z  \n",
       "63     2019-12-25T05:50:26.385Z  \n",
       "69     2019-12-25T05:50:26.385Z  \n",
       "75     2019-12-25T05:50:26.385Z  \n",
       "82     2019-12-25T05:50:26.385Z  \n",
       "87     2019-12-25T05:50:26.385Z  \n",
       "90     2019-12-25T05:50:26.385Z  \n",
       "91     2019-12-25T05:50:26.385Z  \n",
       "93     2019-12-25T05:50:26.385Z  \n",
       "94     2019-12-25T05:50:26.385Z  \n",
       "98     2019-12-25T05:50:26.385Z  \n",
       "99     2019-12-25T05:50:26.385Z  \n",
       "100    2019-12-25T05:50:26.385Z  \n",
       "103    2019-12-25T05:50:26.385Z  \n",
       "104    2019-12-25T05:50:26.385Z  \n",
       "...                         ...  \n",
       "8675   2019-12-25T05:50:26.385Z  \n",
       "8679   2019-12-25T05:50:26.385Z  \n",
       "8682   2019-12-25T05:50:26.385Z  \n",
       "8684   2019-12-25T05:50:26.385Z  \n",
       "8691   2019-12-25T05:50:26.385Z  \n",
       "8692   2019-12-25T05:50:26.385Z  \n",
       "8699   2019-12-25T05:50:26.385Z  \n",
       "8700   2019-12-25T05:50:26.385Z  \n",
       "8705   2019-12-25T05:50:26.385Z  \n",
       "8706   2019-12-25T05:50:26.385Z  \n",
       "8708   2019-12-25T05:50:26.385Z  \n",
       "8720   2019-12-25T05:50:26.385Z  \n",
       "8721   2019-12-25T05:50:26.385Z  \n",
       "8722   2019-12-25T05:50:26.385Z  \n",
       "8737   2019-12-25T05:50:26.385Z  \n",
       "8740   2019-12-25T05:50:26.385Z  \n",
       "8757   2019-12-25T05:50:26.385Z  \n",
       "9007   2019-12-25T05:50:26.375Z  \n",
       "9224   2019-12-25T05:50:26.375Z  \n",
       "9308   2019-12-25T05:50:26.375Z  \n",
       "9784   2019-12-25T05:50:26.375Z  \n",
       "9785   2019-12-25T05:50:26.375Z  \n",
       "9786   2019-12-25T05:50:26.375Z  \n",
       "9904   2019-12-25T05:50:26.375Z  \n",
       "10565  2019-12-25T05:50:26.375Z  \n",
       "10566  2019-12-25T05:50:26.375Z  \n",
       "10567  2019-12-25T05:50:26.375Z  \n",
       "10945  2019-12-25T05:50:26.375Z  \n",
       "11251  2019-12-25T05:50:26.375Z  \n",
       "11775  2019-12-25T05:50:26.375Z  \n",
       "\n",
       "[1576 rows x 14 columns]"
      ]
     },
     "execution_count": 48,
     "metadata": {},
     "output_type": "execute_result"
    }
   ],
   "source": [
    "data_original[data_original[\"state\"].isnull()]"
   ]
  },
  {
   "cell_type": "code",
   "execution_count": 49,
   "metadata": {},
   "outputs": [
    {
     "data": {
      "text/plain": [
       "name_y\n",
       "Amila       Zomato\n",
       "Rakshith    Zomato\n",
       "Sheeba      Zomato\n",
       "Name: client, dtype: object"
      ]
     },
     "execution_count": 49,
     "metadata": {},
     "output_type": "execute_result"
    }
   ],
   "source": [
    "# As we can see that mostly client handled by telecaller is zomato so filling null values of client with zomato: \n",
    "\n",
    "data_original.groupby('name_y')['client'].agg(pd.Series.mode)"
   ]
  },
  {
   "cell_type": "code",
   "execution_count": 50,
   "metadata": {},
   "outputs": [],
   "source": [
    "data_original['client'].fillna(\"Zomato\",inplace=True)"
   ]
  },
  {
   "cell_type": "code",
   "execution_count": 51,
   "metadata": {},
   "outputs": [
    {
     "data": {
      "text/plain": [
       "userId        4555\n",
       "name_x           0\n",
       "city           840\n",
       "state         1576\n",
       "source           3\n",
       "isExternal       0\n",
       "receivedAt       0\n",
       "leadId           0\n",
       "client           0\n",
       "status           0\n",
       "comments      8814\n",
       "calledAt         0\n",
       "name_y           0\n",
       "createdAt        0\n",
       "dtype: int64"
      ]
     },
     "execution_count": 51,
     "metadata": {},
     "output_type": "execute_result"
    }
   ],
   "source": [
    "data_original.isnull().sum()"
   ]
  },
  {
   "cell_type": "code",
   "execution_count": 52,
   "metadata": {},
   "outputs": [],
   "source": [
    "## Now we have already filled the client column based on telecallers name as there most used client:"
   ]
  },
  {
   "cell_type": "code",
   "execution_count": 53,
   "metadata": {},
   "outputs": [],
   "source": [
    "## Now based on client we are filling state as in in where most client based:\n",
    "\n",
    "## for this we have dictionary of key value based on what we will assign state based on client lookup:"
   ]
  },
  {
   "cell_type": "code",
   "execution_count": 54,
   "metadata": {},
   "outputs": [
    {
     "data": {
      "text/html": [
       "<div>\n",
       "<style scoped>\n",
       "    .dataframe tbody tr th:only-of-type {\n",
       "        vertical-align: middle;\n",
       "    }\n",
       "\n",
       "    .dataframe tbody tr th {\n",
       "        vertical-align: top;\n",
       "    }\n",
       "\n",
       "    .dataframe thead th {\n",
       "        text-align: right;\n",
       "    }\n",
       "</style>\n",
       "<table border=\"1\" class=\"dataframe\">\n",
       "  <thead>\n",
       "    <tr style=\"text-align: right;\">\n",
       "      <th></th>\n",
       "      <th>userId</th>\n",
       "      <th>name_x</th>\n",
       "      <th>city</th>\n",
       "      <th>state</th>\n",
       "      <th>source</th>\n",
       "      <th>isExternal</th>\n",
       "      <th>receivedAt</th>\n",
       "      <th>leadId</th>\n",
       "      <th>client</th>\n",
       "      <th>status</th>\n",
       "      <th>comments</th>\n",
       "      <th>calledAt</th>\n",
       "      <th>name_y</th>\n",
       "      <th>createdAt</th>\n",
       "    </tr>\n",
       "  </thead>\n",
       "  <tbody>\n",
       "    <tr>\n",
       "      <th>0</th>\n",
       "      <td>NaN</td>\n",
       "      <td>KUPENDRA</td>\n",
       "      <td>NaN</td>\n",
       "      <td>NaN</td>\n",
       "      <td>Airavatha data</td>\n",
       "      <td>True</td>\n",
       "      <td>2019-11-01T05:41:00Z</td>\n",
       "      <td>00021a29-83e4-48d3-8cc3-0bc729f087fd</td>\n",
       "      <td>Move in sync</td>\n",
       "      <td>RNR</td>\n",
       "      <td>NaN</td>\n",
       "      <td>2019-12-03T15:00:00Z</td>\n",
       "      <td>Sheeba</td>\n",
       "      <td>2019-12-25T05:50:26.385Z</td>\n",
       "    </tr>\n",
       "    <tr>\n",
       "      <th>1</th>\n",
       "      <td>NaN</td>\n",
       "      <td>Elikatte Kumaraswamy</td>\n",
       "      <td>Hyderabad</td>\n",
       "      <td>Telangana</td>\n",
       "      <td>WhatsApp OptIn Form</td>\n",
       "      <td>False</td>\n",
       "      <td>2019-07-25T00:00:00Z</td>\n",
       "      <td>0013dc91-e0e3-48f6-9518-6cf8389dd923</td>\n",
       "      <td>Dunzo</td>\n",
       "      <td>Not Interested</td>\n",
       "      <td>NaN</td>\n",
       "      <td>2020-04-01T10:30:00Z</td>\n",
       "      <td>Sheeba</td>\n",
       "      <td>2019-12-25T05:50:26.385Z</td>\n",
       "    </tr>\n",
       "  </tbody>\n",
       "</table>\n",
       "</div>"
      ],
      "text/plain": [
       "  userId                name_x       city      state               source  \\\n",
       "0    NaN              KUPENDRA        NaN        NaN       Airavatha data   \n",
       "1    NaN  Elikatte Kumaraswamy  Hyderabad  Telangana  WhatsApp OptIn Form   \n",
       "\n",
       "   isExternal            receivedAt                                leadId  \\\n",
       "0        True  2019-11-01T05:41:00Z  00021a29-83e4-48d3-8cc3-0bc729f087fd   \n",
       "1       False  2019-07-25T00:00:00Z  0013dc91-e0e3-48f6-9518-6cf8389dd923   \n",
       "\n",
       "         client          status comments              calledAt  name_y  \\\n",
       "0  Move in sync             RNR      NaN  2019-12-03T15:00:00Z  Sheeba   \n",
       "1         Dunzo  Not Interested      NaN  2020-04-01T10:30:00Z  Sheeba   \n",
       "\n",
       "                  createdAt  \n",
       "0  2019-12-25T05:50:26.385Z  \n",
       "1  2019-12-25T05:50:26.385Z  "
      ]
     },
     "execution_count": 54,
     "metadata": {},
     "output_type": "execute_result"
    }
   ],
   "source": [
    "data_original.head(2)"
   ]
  },
  {
   "cell_type": "code",
   "execution_count": 55,
   "metadata": {},
   "outputs": [],
   "source": [
    "import numpy as np"
   ]
  },
  {
   "cell_type": "code",
   "execution_count": 56,
   "metadata": {},
   "outputs": [],
   "source": [
    "data_original[\"state\"] = data_original[\"state\"].fillna(data_original[\"client\"].map(d))"
   ]
  },
  {
   "cell_type": "code",
   "execution_count": 57,
   "metadata": {},
   "outputs": [],
   "source": [
    "## Now to fill the null values of city based on state we are creating dictionary which contains key as state and \n",
    "## city as value based on mode value of city comes under the state:"
   ]
  },
  {
   "cell_type": "code",
   "execution_count": 58,
   "metadata": {},
   "outputs": [],
   "source": [
    "state_city_mode = pd.DataFrame(data_original.groupby('state')['city'].agg(pd.Series.mode)).reset_index()"
   ]
  },
  {
   "cell_type": "code",
   "execution_count": 59,
   "metadata": {},
   "outputs": [],
   "source": [
    "state_city_mode.set_index(\"state\", drop=True, inplace=True)"
   ]
  },
  {
   "cell_type": "code",
   "execution_count": 60,
   "metadata": {},
   "outputs": [],
   "source": [
    "dictionary2 = state_city_mode.to_dict(orient=\"index\") "
   ]
  },
  {
   "cell_type": "code",
   "execution_count": 61,
   "metadata": {},
   "outputs": [],
   "source": [
    "d2={}\n",
    "for k,v in dictionary2.items():\n",
    "    for i,j in v.items():\n",
    "        d2[k] = j"
   ]
  },
  {
   "cell_type": "code",
   "execution_count": 62,
   "metadata": {},
   "outputs": [],
   "source": [
    "data_original[\"city\"] = data_original[\"city\"].fillna(data_original[\"state\"].map(d2))"
   ]
  },
  {
   "cell_type": "code",
   "execution_count": 63,
   "metadata": {},
   "outputs": [
    {
     "data": {
      "text/plain": [
       "userId        36.927442\n",
       "name_x         0.000000\n",
       "city           0.000000\n",
       "state          0.000000\n",
       "source         0.024321\n",
       "isExternal     0.000000\n",
       "receivedAt     0.000000\n",
       "leadId         0.000000\n",
       "client         0.000000\n",
       "status         0.000000\n",
       "comments      71.455209\n",
       "calledAt       0.000000\n",
       "name_y         0.000000\n",
       "createdAt      0.000000\n",
       "dtype: float64"
      ]
     },
     "execution_count": 63,
     "metadata": {},
     "output_type": "execute_result"
    }
   ],
   "source": [
    "(data_original.isnull().sum()/len(data_original))*100"
   ]
  },
  {
   "cell_type": "code",
   "execution_count": 64,
   "metadata": {},
   "outputs": [],
   "source": [
    "## As comments have most of the data null so we are rejecting comments columns and as for analysis as well it is not required:\n",
    "data_original.drop(\"comments\",axis=1,inplace=True)"
   ]
  },
  {
   "cell_type": "code",
   "execution_count": 65,
   "metadata": {},
   "outputs": [
    {
     "data": {
      "text/html": [
       "<div>\n",
       "<style scoped>\n",
       "    .dataframe tbody tr th:only-of-type {\n",
       "        vertical-align: middle;\n",
       "    }\n",
       "\n",
       "    .dataframe tbody tr th {\n",
       "        vertical-align: top;\n",
       "    }\n",
       "\n",
       "    .dataframe thead th {\n",
       "        text-align: right;\n",
       "    }\n",
       "</style>\n",
       "<table border=\"1\" class=\"dataframe\">\n",
       "  <thead>\n",
       "    <tr style=\"text-align: right;\">\n",
       "      <th></th>\n",
       "      <th>userId</th>\n",
       "      <th>name_x</th>\n",
       "      <th>city</th>\n",
       "      <th>state</th>\n",
       "      <th>source</th>\n",
       "      <th>isExternal</th>\n",
       "      <th>receivedAt</th>\n",
       "      <th>leadId</th>\n",
       "      <th>client</th>\n",
       "      <th>status</th>\n",
       "      <th>calledAt</th>\n",
       "      <th>name_y</th>\n",
       "      <th>createdAt</th>\n",
       "    </tr>\n",
       "  </thead>\n",
       "  <tbody>\n",
       "    <tr>\n",
       "      <th>0</th>\n",
       "      <td>NaN</td>\n",
       "      <td>KUPENDRA</td>\n",
       "      <td>Bangalore</td>\n",
       "      <td>Karnataka</td>\n",
       "      <td>Airavatha data</td>\n",
       "      <td>True</td>\n",
       "      <td>2019-11-01T05:41:00Z</td>\n",
       "      <td>00021a29-83e4-48d3-8cc3-0bc729f087fd</td>\n",
       "      <td>Move in sync</td>\n",
       "      <td>RNR</td>\n",
       "      <td>2019-12-03T15:00:00Z</td>\n",
       "      <td>Sheeba</td>\n",
       "      <td>2019-12-25T05:50:26.385Z</td>\n",
       "    </tr>\n",
       "    <tr>\n",
       "      <th>1</th>\n",
       "      <td>NaN</td>\n",
       "      <td>Elikatte Kumaraswamy</td>\n",
       "      <td>Hyderabad</td>\n",
       "      <td>Telangana</td>\n",
       "      <td>WhatsApp OptIn Form</td>\n",
       "      <td>False</td>\n",
       "      <td>2019-07-25T00:00:00Z</td>\n",
       "      <td>0013dc91-e0e3-48f6-9518-6cf8389dd923</td>\n",
       "      <td>Dunzo</td>\n",
       "      <td>Not Interested</td>\n",
       "      <td>2020-04-01T10:30:00Z</td>\n",
       "      <td>Sheeba</td>\n",
       "      <td>2019-12-25T05:50:26.385Z</td>\n",
       "    </tr>\n",
       "  </tbody>\n",
       "</table>\n",
       "</div>"
      ],
      "text/plain": [
       "  userId                name_x       city      state               source  \\\n",
       "0    NaN              KUPENDRA  Bangalore  Karnataka       Airavatha data   \n",
       "1    NaN  Elikatte Kumaraswamy  Hyderabad  Telangana  WhatsApp OptIn Form   \n",
       "\n",
       "   isExternal            receivedAt                                leadId  \\\n",
       "0        True  2019-11-01T05:41:00Z  00021a29-83e4-48d3-8cc3-0bc729f087fd   \n",
       "1       False  2019-07-25T00:00:00Z  0013dc91-e0e3-48f6-9518-6cf8389dd923   \n",
       "\n",
       "         client          status              calledAt  name_y  \\\n",
       "0  Move in sync             RNR  2019-12-03T15:00:00Z  Sheeba   \n",
       "1         Dunzo  Not Interested  2020-04-01T10:30:00Z  Sheeba   \n",
       "\n",
       "                  createdAt  \n",
       "0  2019-12-25T05:50:26.385Z  \n",
       "1  2019-12-25T05:50:26.385Z  "
      ]
     },
     "execution_count": 65,
     "metadata": {},
     "output_type": "execute_result"
    }
   ],
   "source": [
    "data_original.head(2)"
   ]
  },
  {
   "cell_type": "code",
   "execution_count": 66,
   "metadata": {},
   "outputs": [],
   "source": [
    "# Also user_id has null which cannot be replace or filled based on reference of another column so we are filling it with 0 if \n",
    "# case we require it for analysis we will remove it after doing PCA or feature analyusis:"
   ]
  },
  {
   "cell_type": "code",
   "execution_count": 67,
   "metadata": {},
   "outputs": [],
   "source": [
    "data_original[\"userId\"].fillna(0,inplace=True)"
   ]
  },
  {
   "cell_type": "code",
   "execution_count": 68,
   "metadata": {},
   "outputs": [],
   "source": [
    "data_original[\"source\"].fillna(method='bfill',inplace=True)"
   ]
  },
  {
   "cell_type": "code",
   "execution_count": 69,
   "metadata": {},
   "outputs": [
    {
     "data": {
      "text/plain": [
       "userId        0\n",
       "name_x        0\n",
       "city          0\n",
       "state         0\n",
       "source        0\n",
       "isExternal    0\n",
       "receivedAt    0\n",
       "leadId        0\n",
       "client        0\n",
       "status        0\n",
       "calledAt      0\n",
       "name_y        0\n",
       "createdAt     0\n",
       "dtype: int64"
      ]
     },
     "execution_count": 69,
     "metadata": {},
     "output_type": "execute_result"
    }
   ],
   "source": [
    "data_original.isnull().sum()  "
   ]
  },
  {
   "cell_type": "markdown",
   "metadata": {},
   "source": [
    "## Here above we can see that null values have been removed from data"
   ]
  },
  {
   "cell_type": "code",
   "execution_count": 70,
   "metadata": {
    "scrolled": true
   },
   "outputs": [
    {
     "data": {
      "text/html": [
       "<div>\n",
       "<style scoped>\n",
       "    .dataframe tbody tr th:only-of-type {\n",
       "        vertical-align: middle;\n",
       "    }\n",
       "\n",
       "    .dataframe tbody tr th {\n",
       "        vertical-align: top;\n",
       "    }\n",
       "\n",
       "    .dataframe thead th {\n",
       "        text-align: right;\n",
       "    }\n",
       "</style>\n",
       "<table border=\"1\" class=\"dataframe\">\n",
       "  <thead>\n",
       "    <tr style=\"text-align: right;\">\n",
       "      <th></th>\n",
       "      <th>userId</th>\n",
       "      <th>name_x</th>\n",
       "      <th>city</th>\n",
       "      <th>state</th>\n",
       "      <th>source</th>\n",
       "      <th>isExternal</th>\n",
       "      <th>receivedAt</th>\n",
       "      <th>leadId</th>\n",
       "      <th>client</th>\n",
       "      <th>status</th>\n",
       "      <th>calledAt</th>\n",
       "      <th>name_y</th>\n",
       "      <th>createdAt</th>\n",
       "    </tr>\n",
       "  </thead>\n",
       "  <tbody>\n",
       "    <tr>\n",
       "      <th>0</th>\n",
       "      <td>0</td>\n",
       "      <td>KUPENDRA</td>\n",
       "      <td>Bangalore</td>\n",
       "      <td>Karnataka</td>\n",
       "      <td>Airavatha data</td>\n",
       "      <td>True</td>\n",
       "      <td>2019-11-01T05:41:00Z</td>\n",
       "      <td>00021a29-83e4-48d3-8cc3-0bc729f087fd</td>\n",
       "      <td>Move in sync</td>\n",
       "      <td>RNR</td>\n",
       "      <td>2019-12-03T15:00:00Z</td>\n",
       "      <td>Sheeba</td>\n",
       "      <td>2019-12-25T05:50:26.385Z</td>\n",
       "    </tr>\n",
       "    <tr>\n",
       "      <th>1</th>\n",
       "      <td>0</td>\n",
       "      <td>Elikatte Kumaraswamy</td>\n",
       "      <td>Hyderabad</td>\n",
       "      <td>Telangana</td>\n",
       "      <td>WhatsApp OptIn Form</td>\n",
       "      <td>False</td>\n",
       "      <td>2019-07-25T00:00:00Z</td>\n",
       "      <td>0013dc91-e0e3-48f6-9518-6cf8389dd923</td>\n",
       "      <td>Dunzo</td>\n",
       "      <td>Not Interested</td>\n",
       "      <td>2020-04-01T10:30:00Z</td>\n",
       "      <td>Sheeba</td>\n",
       "      <td>2019-12-25T05:50:26.385Z</td>\n",
       "    </tr>\n",
       "  </tbody>\n",
       "</table>\n",
       "</div>"
      ],
      "text/plain": [
       "  userId                name_x       city      state               source  \\\n",
       "0      0              KUPENDRA  Bangalore  Karnataka       Airavatha data   \n",
       "1      0  Elikatte Kumaraswamy  Hyderabad  Telangana  WhatsApp OptIn Form   \n",
       "\n",
       "   isExternal            receivedAt                                leadId  \\\n",
       "0        True  2019-11-01T05:41:00Z  00021a29-83e4-48d3-8cc3-0bc729f087fd   \n",
       "1       False  2019-07-25T00:00:00Z  0013dc91-e0e3-48f6-9518-6cf8389dd923   \n",
       "\n",
       "         client          status              calledAt  name_y  \\\n",
       "0  Move in sync             RNR  2019-12-03T15:00:00Z  Sheeba   \n",
       "1         Dunzo  Not Interested  2020-04-01T10:30:00Z  Sheeba   \n",
       "\n",
       "                  createdAt  \n",
       "0  2019-12-25T05:50:26.385Z  \n",
       "1  2019-12-25T05:50:26.385Z  "
      ]
     },
     "execution_count": 70,
     "metadata": {},
     "output_type": "execute_result"
    }
   ],
   "source": [
    "data_original.head(2)"
   ]
  },
  {
   "cell_type": "code",
   "execution_count": 71,
   "metadata": {},
   "outputs": [],
   "source": [
    "### Changing some column values as it will create data duplicacy and irrelevant count will come:"
   ]
  },
  {
   "cell_type": "code",
   "execution_count": 72,
   "metadata": {},
   "outputs": [],
   "source": [
    "data_original[\"city\"] = data_original[\"city\"].apply(lambda x : x.lower())\n",
    "data_original[\"city\"] = data_original[\"city\"].apply(lambda x : x.replace('bangalore','banglore'))\n",
    "data_original[\"city\"] = data_original[\"city\"].apply(lambda x : x.replace('banglore, delhi, hyderabad, mumbai','mix_city'))\n",
    "data_original[\"city\"] = data_original[\"city\"].apply(lambda x : x.replace('chennai/banglore','mix_city'))\n",
    "data_original[\"city\"] = data_original[\"city\"].apply(lambda x : x.replace('delhi/ncr','mix_city'))"
   ]
  },
  {
   "cell_type": "code",
   "execution_count": 73,
   "metadata": {},
   "outputs": [
    {
     "data": {
      "text/plain": [
       "array(['banglore', 'hyderabad', 'chennai', 'coimbatore', 'delhi',\n",
       "       'mumbai', 'yadhgirir', 'mysore', 'anantapur', 'kolkata',\n",
       "       'mix_city', 'warangal', 'jaipur', 'pondicherry', 'karimnagar',\n",
       "       'belagavi', 'chandigarh', 'vishakhapatnam', 'madurai', 'kakinada',\n",
       "       'mangalore', 'ahmedabad', 'kerala', 'vijayawada', 'nellore',\n",
       "       'trichy', 'manteswar', 'vizianagaram', 'siliguri', 'gadwal',\n",
       "       'gurgaon', 'bhimavaram', 'aligarh', 'tirupati', 'tiruppur',\n",
       "       'tamilnadu', 'your city', 'mahbubnagar', 'kadapa', 'bheedhar',\n",
       "       'jubilee hills', 'pune', 'khammam', 'nagaon', 'rajahmundry',\n",
       "       'guwahati', 'kurnool', 'karanataka', 'cuttack', 'uttarakhand',\n",
       "       'ludhiana', 'ongole', 'patna', 'asansol', 'silvassa',\n",
       "       'muzaffarpur', 'tarn taran', 'lucknow'], dtype=object)"
      ]
     },
     "execution_count": 73,
     "metadata": {},
     "output_type": "execute_result"
    }
   ],
   "source": [
    "data_original[\"city\"].unique()\n"
   ]
  },
  {
   "cell_type": "code",
   "execution_count": 74,
   "metadata": {},
   "outputs": [
    {
     "data": {
      "text/plain": [
       "array(['Karnataka', 'Telangana', 'Tamil Nadu', 'Delhi', 'Maharashtra',\n",
       "       'Tamilnadu', 'Andhra Pradesh', 'West Bengal', 'Rajasthan',\n",
       "       'Chandigarh', 'Uttar Pradesh', '#REF!', 'Delhi-NCR', 'Assam',\n",
       "       'Odisha', 'Gujarat', 'Punjab', 'Bihar', 'Bangalore', 'UP'],\n",
       "      dtype=object)"
      ]
     },
     "execution_count": 74,
     "metadata": {},
     "output_type": "execute_result"
    }
   ],
   "source": [
    "data_original[\"state\"].unique()"
   ]
  },
  {
   "cell_type": "code",
   "execution_count": 75,
   "metadata": {},
   "outputs": [],
   "source": [
    "data_original[\"state\"] = data_original[\"state\"].apply(lambda x : x.lower())\n",
    "data_original[\"state\"] = data_original[\"state\"].apply(lambda x : x.replace('tamil nadu','tamilnadu'))\n",
    "data_original[\"state\"] = data_original[\"state\"].apply(lambda x : x.replace('delhi-ncr','delhi'))\n",
    "data_original[\"state\"] = data_original[\"state\"].apply(lambda x : x.replace('#ref!','unknown state'))\n",
    "data_original[\"state\"] = data_original[\"state\"].apply(lambda x : x.replace('bangalore','karnataka'))\n",
    "data_original[\"state\"] = data_original[\"state\"].apply(lambda x : x.replace('uttar pradesh','up'))"
   ]
  },
  {
   "cell_type": "code",
   "execution_count": 76,
   "metadata": {},
   "outputs": [
    {
     "data": {
      "text/plain": [
       "108"
      ]
     },
     "execution_count": 76,
     "metadata": {},
     "output_type": "execute_result"
    }
   ],
   "source": [
    "data_original[\"source\"].nunique()"
   ]
  },
  {
   "cell_type": "code",
   "execution_count": 77,
   "metadata": {},
   "outputs": [],
   "source": [
    "# Lets see some inferential values to predict or assume"
   ]
  },
  {
   "cell_type": "code",
   "execution_count": 78,
   "metadata": {},
   "outputs": [],
   "source": [
    "import matplotlib.pyplot as plt\n",
    "%matplotlib inline\n",
    "import seaborn as sns"
   ]
  },
  {
   "cell_type": "markdown",
   "metadata": {},
   "source": [
    "## Univariate Analysis:"
   ]
  },
  {
   "cell_type": "markdown",
   "metadata": {},
   "source": [
    "### This graph showing that how efficient particular telecaller is: This is showing that telecaller sheeba is more efficient than other telecallers."
   ]
  },
  {
   "cell_type": "code",
   "execution_count": 79,
   "metadata": {},
   "outputs": [
    {
     "data": {
      "text/plain": [
       "Text(0.5, 1.0, 'Efficiency of Telecaller')"
      ]
     },
     "execution_count": 79,
     "metadata": {},
     "output_type": "execute_result"
    },
    {
     "data": {
      "image/png": "[encoded data removed]",
      "text/plain": [
       "<Figure size 432x288 with 1 Axes>"
      ]
     },
     "metadata": {
      "needs_background": "light"
     },
     "output_type": "display_data"
    }
   ],
   "source": [
    "data_original[\"name_y\"].value_counts().plot(kind='bar')\n",
    "plt.xlabel(\"Telecallers\")\n",
    "plt.ylabel(\"No. of leads\")\n",
    "plt.title(\"Efficiency of Telecaller\")"
   ]
  },
  {
   "cell_type": "markdown",
   "metadata": {},
   "source": [
    "### Lets see top 15 city and state from where major leads are coming such that we can more focus on those city and states:"
   ]
  },
  {
   "cell_type": "code",
   "execution_count": 80,
   "metadata": {},
   "outputs": [
    {
     "data": {
      "text/plain": [
       "Text(0.5, 1.0, 'State based leads')"
      ]
     },
     "execution_count": 80,
     "metadata": {},
     "output_type": "execute_result"
    },
    {
     "data": {
      "image/png": "[encoded data removed]",
      "text/plain": [
       "<Figure size 432x288 with 1 Axes>"
      ]
     },
     "metadata": {
      "needs_background": "light"
     },
     "output_type": "display_data"
    }
   ],
   "source": [
    "data_original[\"state\"].value_counts().head(15).plot(kind='bar')\n",
    "plt.xlabel(\"State\")\n",
    "plt.ylabel(\"Count of Leads\")\n",
    "plt.title(\"State based leads\")"
   ]
  },
  {
   "cell_type": "code",
   "execution_count": 81,
   "metadata": {},
   "outputs": [
    {
     "data": {
      "text/plain": [
       "Text(0.5, 1.0, 'City based leads')"
      ]
     },
     "execution_count": 81,
     "metadata": {},
     "output_type": "execute_result"
    },
    {
     "data": {
      "image/png": "[encoded data removed]",
      "text/plain": [
       "<Figure size 432x288 with 1 Axes>"
      ]
     },
     "metadata": {
      "needs_background": "light"
     },
     "output_type": "display_data"
    }
   ],
   "source": [
    "data_original[\"city\"].value_counts().head(15).plot(kind='bar')\n",
    "plt.xlabel(\"Cities\")\n",
    "plt.ylabel(\"Count of Leads\")\n",
    "plt.title(\"City based leads\")"
   ]
  },
  {
   "cell_type": "code",
   "execution_count": 82,
   "metadata": {},
   "outputs": [],
   "source": [
    "## So based on above graphs we can see that Telangana state and Hyderabad city has major leads:"
   ]
  },
  {
   "cell_type": "markdown",
   "metadata": {},
   "source": [
    "### Lets see which client has major reuirement such that we can more focusly work for him to find more resource if in case one resource rejects the offer "
   ]
  },
  {
   "cell_type": "code",
   "execution_count": 83,
   "metadata": {},
   "outputs": [
    {
     "data": {
      "text/plain": [
       "Text(0.5, 1.0, 'Client Requirement')"
      ]
     },
     "execution_count": 83,
     "metadata": {},
     "output_type": "execute_result"
    },
    {
     "data": {
      "image/png": "[encoded data removed]",
      "text/plain": [
       "<Figure size 432x288 with 1 Axes>"
      ]
     },
     "metadata": {
      "needs_background": "light"
     },
     "output_type": "display_data"
    }
   ],
   "source": [
    "data_original[\"client\"].value_counts().head(15).plot(kind='bar')\n",
    "plt.xlabel(\"Clients\")\n",
    "plt.ylabel(\"No. of requirements\")\n",
    "plt.title(\"Client Requirement\")"
   ]
  },
  {
   "cell_type": "code",
   "execution_count": 84,
   "metadata": {},
   "outputs": [],
   "source": [
    "### So we can see zomato has high requirement which is going back and forth for resource:"
   ]
  },
  {
   "cell_type": "code",
   "execution_count": 85,
   "metadata": {},
   "outputs": [
    {
     "data": {
      "text/plain": [
       "Text(0.5, 1.0, 'State per city based leads')"
      ]
     },
     "execution_count": 85,
     "metadata": {},
     "output_type": "execute_result"
    },
    {
     "data": {
      "image/png": "[encoded data removed]",
      "text/plain": [
       "<Figure size 432x288 with 1 Axes>"
      ]
     },
     "metadata": {
      "needs_background": "light"
     },
     "output_type": "display_data"
    }
   ],
   "source": [
    "data_original.groupby(\"state\").agg({\"city\" :pd.Series.mode, \"city\": np.size}).sort_values(by=\"city\",ascending=False).head(15).plot(kind='bar')\n",
    "plt.xlabel(\"States\")\n",
    "plt.ylabel(\"Count of Leads\")\n",
    "plt.title(\"State per city based leads\")"
   ]
  },
  {
   "cell_type": "markdown",
   "metadata": {},
   "source": [
    "### Now lets see how many leads are external or internal"
   ]
  },
  {
   "cell_type": "code",
   "execution_count": 86,
   "metadata": {},
   "outputs": [
    {
     "data": {
      "text/plain": [
       "Text(0.5, 1.0, 'Leads')"
      ]
     },
     "execution_count": 86,
     "metadata": {},
     "output_type": "execute_result"
    },
    {
     "data": {
      "image/png": "[encoded data removed]",
      "text/plain": [
       "<Figure size 432x288 with 1 Axes>"
      ]
     },
     "metadata": {
      "needs_background": "light"
     },
     "output_type": "display_data"
    }
   ],
   "source": [
    "data_original[\"isExternal\"].value_counts().head(15).plot(kind='bar')\n",
    "plt.ylabel(\"No. of leads\")\n",
    "plt.title(\"Leads\")"
   ]
  },
  {
   "cell_type": "code",
   "execution_count": 87,
   "metadata": {},
   "outputs": [],
   "source": [
    "# So from above graph we can see that leads are majorly taken from internal platform, here we can work for \n",
    "# more leads to acuire through third party which can give us business."
   ]
  },
  {
   "cell_type": "markdown",
   "metadata": {},
   "source": [
    "### Now let's see based on city or state how many leads are external or internals: such that we can more focus on particular state or city according to leads"
   ]
  },
  {
   "cell_type": "markdown",
   "metadata": {},
   "source": [
    "##### State Wise:"
   ]
  },
  {
   "cell_type": "code",
   "execution_count": 88,
   "metadata": {},
   "outputs": [],
   "source": [
    "external_internal_diff = pd.DataFrame(data_original.groupby(\"state\")[\"isExternal\"].value_counts())"
   ]
  },
  {
   "cell_type": "code",
   "execution_count": 89,
   "metadata": {},
   "outputs": [],
   "source": [
    "external_internal = external_internal_diff.rename(columns={\"isExternal\": \"count\"}).reset_index()"
   ]
  },
  {
   "cell_type": "code",
   "execution_count": 90,
   "metadata": {},
   "outputs": [
    {
     "data": {
      "text/plain": [
       "(array([ 0,  1,  2,  3,  4,  5,  6,  7,  8,  9, 10, 11, 12, 13, 14, 15]),\n",
       " <a list of 16 Text xticklabel objects>)"
      ]
     },
     "execution_count": 90,
     "metadata": {},
     "output_type": "execute_result"
    },
    {
     "data": {
      "image/png": "[encoded data removed]",
      "text/plain": [
       "<Figure size 1296x360 with 1 Axes>"
      ]
     },
     "metadata": {
      "needs_background": "light"
     },
     "output_type": "display_data"
    }
   ],
   "source": [
    "plt.figure(figsize=(18,5))\n",
    "sns.barplot(x=external_internal[\"state\"], y=external_internal[\"count\"], hue=external_internal[\"isExternal\"])\n",
    "plt.xlabel(\"States\")\n",
    "plt.ylabel(\"Count of calls\")\n",
    "plt.xticks(rotation=45)"
   ]
  },
  {
   "cell_type": "markdown",
   "metadata": {},
   "source": [
    "#### Here in above graph we can see that karnataka, tamilnadu and telangana is getting more external leads"
   ]
  },
  {
   "cell_type": "markdown",
   "metadata": {},
   "source": [
    "### Citiwise check:"
   ]
  },
  {
   "cell_type": "code",
   "execution_count": 91,
   "metadata": {},
   "outputs": [],
   "source": [
    "leads = lead[['city', 'isExternal', 'source']].groupby(['city','isExternal']).count()\n",
    "leads = leads.reset_index()\n",
    "leads = leads.pivot(index='city', columns='isExternal', values='source')\n",
    "del leads.columns.name\n",
    "leads = leads.reset_index()\n",
    "leads.columns=['city', 'LeadsByJobAssist', 'LeadsByExternal']"
   ]
  },
  {
   "cell_type": "code",
   "execution_count": 92,
   "metadata": {},
   "outputs": [
    {
     "data": {
      "text/html": [
       "<div>\n",
       "<style scoped>\n",
       "    .dataframe tbody tr th:only-of-type {\n",
       "        vertical-align: middle;\n",
       "    }\n",
       "\n",
       "    .dataframe tbody tr th {\n",
       "        vertical-align: top;\n",
       "    }\n",
       "\n",
       "    .dataframe thead th {\n",
       "        text-align: right;\n",
       "    }\n",
       "</style>\n",
       "<table border=\"1\" class=\"dataframe\">\n",
       "  <thead>\n",
       "    <tr style=\"text-align: right;\">\n",
       "      <th></th>\n",
       "      <th>index</th>\n",
       "      <th>city</th>\n",
       "      <th>LeadsByJobAssist</th>\n",
       "      <th>LeadsByExternal</th>\n",
       "    </tr>\n",
       "  </thead>\n",
       "  <tbody>\n",
       "    <tr>\n",
       "      <th>0</th>\n",
       "      <td>20</td>\n",
       "      <td>Hyderabad</td>\n",
       "      <td>3374.0</td>\n",
       "      <td>39.0</td>\n",
       "    </tr>\n",
       "    <tr>\n",
       "      <th>1</th>\n",
       "      <td>4</td>\n",
       "      <td>Bangalore</td>\n",
       "      <td>1678.0</td>\n",
       "      <td>593.0</td>\n",
       "    </tr>\n",
       "    <tr>\n",
       "      <th>2</th>\n",
       "      <td>11</td>\n",
       "      <td>Chennai</td>\n",
       "      <td>1219.0</td>\n",
       "      <td>63.0</td>\n",
       "    </tr>\n",
       "    <tr>\n",
       "      <th>3</th>\n",
       "      <td>16</td>\n",
       "      <td>Delhi/NCR</td>\n",
       "      <td>891.0</td>\n",
       "      <td>3.0</td>\n",
       "    </tr>\n",
       "    <tr>\n",
       "      <th>4</th>\n",
       "      <td>37</td>\n",
       "      <td>Mumbai</td>\n",
       "      <td>536.0</td>\n",
       "      <td>NaN</td>\n",
       "    </tr>\n",
       "    <tr>\n",
       "      <th>5</th>\n",
       "      <td>15</td>\n",
       "      <td>Delhi</td>\n",
       "      <td>352.0</td>\n",
       "      <td>1.0</td>\n",
       "    </tr>\n",
       "    <tr>\n",
       "      <th>6</th>\n",
       "      <td>42</td>\n",
       "      <td>Patna</td>\n",
       "      <td>21.0</td>\n",
       "      <td>NaN</td>\n",
       "    </tr>\n",
       "    <tr>\n",
       "      <th>7</th>\n",
       "      <td>13</td>\n",
       "      <td>Coimbatore</td>\n",
       "      <td>16.0</td>\n",
       "      <td>4.0</td>\n",
       "    </tr>\n",
       "    <tr>\n",
       "      <th>8</th>\n",
       "      <td>57</td>\n",
       "      <td>Warangal</td>\n",
       "      <td>10.0</td>\n",
       "      <td>2.0</td>\n",
       "    </tr>\n",
       "    <tr>\n",
       "      <th>9</th>\n",
       "      <td>26</td>\n",
       "      <td>Karimnagar</td>\n",
       "      <td>9.0</td>\n",
       "      <td>NaN</td>\n",
       "    </tr>\n",
       "  </tbody>\n",
       "</table>\n",
       "</div>"
      ],
      "text/plain": [
       "   index        city  LeadsByJobAssist  LeadsByExternal\n",
       "0     20   Hyderabad            3374.0             39.0\n",
       "1      4   Bangalore            1678.0            593.0\n",
       "2     11     Chennai            1219.0             63.0\n",
       "3     16   Delhi/NCR             891.0              3.0\n",
       "4     37      Mumbai             536.0              NaN\n",
       "5     15       Delhi             352.0              1.0\n",
       "6     42       Patna              21.0              NaN\n",
       "7     13  Coimbatore              16.0              4.0\n",
       "8     57    Warangal              10.0              2.0\n",
       "9     26  Karimnagar               9.0              NaN"
      ]
     },
     "execution_count": 92,
     "metadata": {},
     "output_type": "execute_result"
    }
   ],
   "source": [
    "leads_city = leads.sort_values(by='LeadsByJobAssist', ascending=False)\n",
    "leads_city.reset_index(inplace=True)\n",
    "leads_city.head(10)"
   ]
  },
  {
   "cell_type": "code",
   "execution_count": 93,
   "metadata": {},
   "outputs": [
    {
     "data": {
      "text/html": [
       "<div>\n",
       "<style scoped>\n",
       "    .dataframe tbody tr th:only-of-type {\n",
       "        vertical-align: middle;\n",
       "    }\n",
       "\n",
       "    .dataframe tbody tr th {\n",
       "        vertical-align: top;\n",
       "    }\n",
       "\n",
       "    .dataframe thead th {\n",
       "        text-align: right;\n",
       "    }\n",
       "</style>\n",
       "<table border=\"1\" class=\"dataframe\">\n",
       "  <thead>\n",
       "    <tr style=\"text-align: right;\">\n",
       "      <th></th>\n",
       "      <th>index</th>\n",
       "      <th>city</th>\n",
       "      <th>LeadsByJobAssist</th>\n",
       "      <th>LeadsByExternal</th>\n",
       "    </tr>\n",
       "  </thead>\n",
       "  <tbody>\n",
       "    <tr>\n",
       "      <th>0</th>\n",
       "      <td>4</td>\n",
       "      <td>Bangalore</td>\n",
       "      <td>1678.0</td>\n",
       "      <td>593.0</td>\n",
       "    </tr>\n",
       "    <tr>\n",
       "      <th>1</th>\n",
       "      <td>38</td>\n",
       "      <td>Mysore</td>\n",
       "      <td>4.0</td>\n",
       "      <td>169.0</td>\n",
       "    </tr>\n",
       "    <tr>\n",
       "      <th>2</th>\n",
       "      <td>11</td>\n",
       "      <td>Chennai</td>\n",
       "      <td>1219.0</td>\n",
       "      <td>63.0</td>\n",
       "    </tr>\n",
       "    <tr>\n",
       "      <th>3</th>\n",
       "      <td>20</td>\n",
       "      <td>Hyderabad</td>\n",
       "      <td>3374.0</td>\n",
       "      <td>39.0</td>\n",
       "    </tr>\n",
       "    <tr>\n",
       "      <th>4</th>\n",
       "      <td>43</td>\n",
       "      <td>Pondicherry</td>\n",
       "      <td>NaN</td>\n",
       "      <td>21.0</td>\n",
       "    </tr>\n",
       "    <tr>\n",
       "      <th>5</th>\n",
       "      <td>27</td>\n",
       "      <td>Kerala</td>\n",
       "      <td>NaN</td>\n",
       "      <td>20.0</td>\n",
       "    </tr>\n",
       "    <tr>\n",
       "      <th>6</th>\n",
       "      <td>7</td>\n",
       "      <td>Belagavi</td>\n",
       "      <td>NaN</td>\n",
       "      <td>12.0</td>\n",
       "    </tr>\n",
       "    <tr>\n",
       "      <th>7</th>\n",
       "      <td>58</td>\n",
       "      <td>Yadhgirir</td>\n",
       "      <td>NaN</td>\n",
       "      <td>10.0</td>\n",
       "    </tr>\n",
       "    <tr>\n",
       "      <th>8</th>\n",
       "      <td>33</td>\n",
       "      <td>Madurai</td>\n",
       "      <td>5.0</td>\n",
       "      <td>6.0</td>\n",
       "    </tr>\n",
       "    <tr>\n",
       "      <th>9</th>\n",
       "      <td>0</td>\n",
       "      <td>Ahmedabad</td>\n",
       "      <td>1.0</td>\n",
       "      <td>6.0</td>\n",
       "    </tr>\n",
       "  </tbody>\n",
       "</table>\n",
       "</div>"
      ],
      "text/plain": [
       "   index         city  LeadsByJobAssist  LeadsByExternal\n",
       "0      4    Bangalore            1678.0            593.0\n",
       "1     38       Mysore               4.0            169.0\n",
       "2     11      Chennai            1219.0             63.0\n",
       "3     20    Hyderabad            3374.0             39.0\n",
       "4     43  Pondicherry               NaN             21.0\n",
       "5     27       Kerala               NaN             20.0\n",
       "6      7     Belagavi               NaN             12.0\n",
       "7     58    Yadhgirir               NaN             10.0\n",
       "8     33      Madurai               5.0              6.0\n",
       "9      0    Ahmedabad               1.0              6.0"
      ]
     },
     "execution_count": 93,
     "metadata": {},
     "output_type": "execute_result"
    }
   ],
   "source": [
    "#  City wise improvement required in:\n",
    "\n",
    "leads_city_improve = leads_city.sort_values(by='LeadsByExternal', ascending=False)\n",
    "leads_city_improve.reset_index(inplace=True)\n",
    "leads_city_improve.drop(\"level_0\",axis=1, inplace=True)\n",
    "leads_city_improve.head(10)"
   ]
  },
  {
   "cell_type": "markdown",
   "metadata": {},
   "source": [
    "##### City Wise"
   ]
  },
  {
   "cell_type": "code",
   "execution_count": 94,
   "metadata": {},
   "outputs": [],
   "source": [
    "external_internal_diff1 = pd.DataFrame(data_original.groupby(\"city\")[\"isExternal\"].value_counts())"
   ]
  },
  {
   "cell_type": "code",
   "execution_count": 95,
   "metadata": {},
   "outputs": [],
   "source": [
    "external_internal_city = external_internal_diff1.rename(columns={\"isExternal\": \"count\"}).reset_index()\n",
    "Top_10 = external_internal_city[[\"city\",\"isExternal\",\"count\"]].sort_values(ascending=False,by=\"count\").head(10)"
   ]
  },
  {
   "cell_type": "code",
   "execution_count": 96,
   "metadata": {},
   "outputs": [
    {
     "data": {
      "text/plain": [
       "(array([0, 1, 2, 3, 4, 5, 6]), <a list of 7 Text xticklabel objects>)"
      ]
     },
     "execution_count": 96,
     "metadata": {},
     "output_type": "execute_result"
    },
    {
     "data": {
      "image/png": "[encoded data removed]",
      "text/plain": [
       "<Figure size 1296x360 with 1 Axes>"
      ]
     },
     "metadata": {
      "needs_background": "light"
     },
     "output_type": "display_data"
    }
   ],
   "source": [
    "plt.figure(figsize=(18,5))\n",
    "sns.barplot(x=Top_10[\"city\"], y=Top_10[\"count\"], hue=Top_10[\"isExternal\"])\n",
    "plt.xlabel(\"Cities\")\n",
    "plt.ylabel(\"Count of calls\")\n",
    "plt.xticks(rotation=45)"
   ]
  },
  {
   "cell_type": "markdown",
   "metadata": {},
   "source": [
    "#### Here we can see that banlore,mysore,chennai and hyderabad are getting more outside leads"
   ]
  },
  {
   "cell_type": "markdown",
   "metadata": {},
   "source": [
    "##### Let's make some intutions through our status column which can tell us which candiadte is going to join and not."
   ]
  },
  {
   "cell_type": "code",
   "execution_count": 97,
   "metadata": {},
   "outputs": [],
   "source": [
    "# Lets try to change the values of column as to have clear view:\n",
    "\n",
    "data_original[\"status\"] = data_original[\"status\"].apply(lambda x : x.replace('Not Applied','Not Interested'))\n",
    "data_original[\"status\"] = data_original[\"status\"].apply(lambda x : x.replace('CNP/Switched Off/Not Reachable','Not Interested'))\n",
    "data_original[\"status\"] = data_original[\"status\"].apply(lambda x : x.replace('Not Interested - Not Applied','Not Interested'))\n",
    "data_original[\"status\"] = data_original[\"status\"].apply(lambda x : x.replace('Not Interested - Disconnected the Call','Not Interested'))\n",
    "data_original[\"status\"] = data_original[\"status\"].apply(lambda x : x.replace('Switched Off/Not Reachable','Not Interested'))\n",
    "data_original[\"status\"] = data_original[\"status\"].apply(lambda x : x.replace('Wrong Number/Number Not Valid','Not Interested'))\n",
    "data_original[\"status\"] = data_original[\"status\"].apply(lambda x : x.replace('Not Sure','Not Interested'))\n",
    "data_original[\"status\"] = data_original[\"status\"].apply(lambda x : x.replace('Disconnected the Call','Not Interested'))\n",
    "data_original[\"status\"] = data_original[\"status\"].apply(lambda x : x.replace(\"Don't Meet Requirements\",'Not Interested'))\n",
    "data_original[\"status\"] = data_original[\"status\"].apply(lambda x : x.replace('Want Non-Delivery Jobs','Not Interested'))\n",
    "data_original[\"status\"] = data_original[\"status\"].apply(lambda x : x.replace('Other Reasons','Not Interested'))\n",
    "data_original[\"status\"] = data_original[\"status\"].apply(lambda x : x.replace('Not Interested - Got Other Jobs','Not Interested'))\n",
    "data_original[\"status\"] = data_original[\"status\"].apply(lambda x : x.replace('Other Reasons','Not Interested'))\n",
    "data_original[\"status\"] = data_original[\"status\"].apply(lambda x : x.replace('Not Interested - Got Other Jobs','Not Interested'))\n",
    "data_original[\"status\"] = data_original[\"status\"].apply(lambda x : x.replace('Number Not Valid/Number Does Not Exist','Not Interested'))\n",
    "data_original[\"status\"] = data_original[\"status\"].apply(lambda x : x.replace('Not Interested - Wrong Number','Not Interested'))\n",
    "data_original[\"status\"] = data_original[\"status\"].apply(lambda x : x.replace('Switched Off/Not Reachable/No Incoming','Not Interested'))\n",
    "data_original[\"status\"] = data_original[\"status\"].apply(lambda x : x.replace('Not Interested - Location Issue','Not Interested'))\n",
    "data_original[\"status\"] = data_original[\"status\"].apply(lambda x : x.replace('Not Interested - Applied by Mistake','Not Interested'))\n",
    "data_original[\"status\"] = data_original[\"status\"].apply(lambda x : x.replace('Not Interested - Others','Not Interested'))\n",
    "data_original[\"status\"] = data_original[\"status\"].apply(lambda x : x.replace('Location Issue','Not Interested'))\n",
    "data_original[\"status\"] = data_original[\"status\"].apply(lambda x : x.replace('Not Interested - Not Sure','Not Interested'))\n",
    "data_original[\"status\"] = data_original[\"status\"].apply(lambda x : x.replace('Language Barrier','Not Interested'))\n",
    "data_original[\"status\"] = data_original[\"status\"].apply(lambda x : x.replace('Got Other Jobs','Not Interested'))\n",
    "data_original[\"status\"] = data_original[\"status\"].apply(lambda x : x.replace('Not Interested - Want Jobs in Other Category','Not Interested'))\n",
    "data_original[\"status\"] = data_original[\"status\"].apply(lambda x : x.replace('Not Interested but Referred Someone','Not Interested'))\n",
    "data_original[\"status\"] = data_original[\"status\"].apply(lambda x : x.replace('Not sure','Not Interested'))\n",
    "data_original[\"status\"] = data_original[\"status\"].apply(lambda x : x.replace('Not Interested - Want Other Delivery Jobs','Not Interested'))\n",
    "data_original[\"status\"] = data_original[\"status\"].apply(lambda x : x.replace('Interested and Referred Someone','Not Interested'))\n",
    "data_original[\"status\"] = data_original[\"status\"].apply(lambda x : x.replace('Applied by Mistake','Not Interested'))\n",
    "data_original[\"status\"] = data_original[\"status\"].apply(lambda x : x.replace('Applied for Someone Else','Not Interested'))\n",
    "data_original[\"status\"] = data_original[\"status\"].apply(lambda x : x.replace('Not Interested - Call Back','Not Interested'))\n",
    "data_original[\"status\"] = data_original[\"status\"].apply(lambda x : x.replace('Want Other Delivery Jobs','Not Interested'))\n",
    "data_original[\"status\"] = data_original[\"status\"].apply(lambda x : x.replace('Not Interested - Want Jobs in Other Company (but same category)','Not Interested'))\n",
    "data_original[\"status\"] = data_original[\"status\"].apply(lambda x : x.replace('Disconnected the call','Not Interested'))\n",
    "data_original[\"status\"] = data_original[\"status\"].apply(lambda x : x.replace('Not Interested - Want Non-Delivery Jobs','Not Interested'))\n",
    "data_original[\"status\"] = data_original[\"status\"].apply(lambda x : x.replace('Interested but CNP on Follow-up','Not Interested'))\n",
    "data_original[\"status\"] = data_original[\"status\"].apply(lambda x : x.replace('Not interested','Not Interested'))\n",
    "data_original[\"status\"] = data_original[\"status\"].apply(lambda x : x.replace('Call Back','Not Interested'))\n",
    "data_original[\"status\"] = data_original[\"status\"].apply(lambda x : x.replace('Applied by mistake','Not Interested'))\n",
    "data_original[\"status\"] = data_original[\"status\"].apply(lambda x : x.replace('CNP/Switched off/Not Reachable','Not Interested'))\n",
    "data_original[\"status\"] = data_original[\"status\"].apply(lambda x : x.replace('Location issue','Not Interested'))\n",
    "data_original[\"status\"] = data_original[\"status\"].apply(lambda x : x.replace('Interested but RNR on Follow-up','Not Interested'))\n",
    "data_original[\"status\"] = data_original[\"status\"].apply(lambda x : x.replace('Switched Off/Not Reachable/No Incoming Up','Not Interested'))\n",
    "data_original[\"status\"] = data_original[\"status\"].apply(lambda x : x.replace('RNR','Not Interested'))\n",
    "data_original[\"status\"] = data_original[\"status\"].apply(lambda x : x.replace('Not Interested - Not Interested','Not Interested'))\n",
    "data_original[\"status\"] = data_original[\"status\"].apply(lambda x : x.replace('Not Interested/No Incoming','Not Interested'))\n",
    "data_original[\"status\"] = data_original[\"status\"].apply(lambda x : x.replace('Not Interested/No Incoming Up','Not Interested'))\n",
    "data_original[\"status\"] = data_original[\"status\"].apply(lambda x : x.replace('Not Interested Up','Not Interested'))"
   ]
  },
  {
   "cell_type": "code",
   "execution_count": 98,
   "metadata": {},
   "outputs": [],
   "source": [
    "data_original[\"status\"] = data_original[\"status\"].apply(lambda x : x.replace('Very Interested','Interested'))\n",
    "data_original[\"status\"] = data_original[\"status\"].apply(lambda x : x.replace('Interested','Interested'))\n",
    "data_original[\"status\"] = data_original[\"status\"].apply(lambda x : x.replace('Interested but in village','Interested'))"
   ]
  },
  {
   "cell_type": "code",
   "execution_count": 99,
   "metadata": {},
   "outputs": [],
   "source": [
    "# Now we have only three categories based on which we can get some inference:"
   ]
  },
  {
   "cell_type": "code",
   "execution_count": 100,
   "metadata": {},
   "outputs": [],
   "source": [
    "status_count = pd.DataFrame(data_original[\"status\"].value_counts().reset_index())\n",
    "status_count = status_count.rename(columns={\"index\":\"status\", \"status\":\"count\"})"
   ]
  },
  {
   "cell_type": "code",
   "execution_count": 101,
   "metadata": {},
   "outputs": [
    {
     "data": {
      "text/plain": [
       "(array([0, 1, 2]), <a list of 3 Text xticklabel objects>)"
      ]
     },
     "execution_count": 101,
     "metadata": {},
     "output_type": "execute_result"
    },
    {
     "data": {
      "image/png": "[encoded data removed]",
      "text/plain": [
       "<Figure size 720x360 with 1 Axes>"
      ]
     },
     "metadata": {
      "needs_background": "light"
     },
     "output_type": "display_data"
    }
   ],
   "source": [
    "plt.figure(figsize=(10,5))\n",
    "sns.barplot(x=status_count[\"status\"], y=status_count[\"count\"], hue=status_count[\"status\"])\n",
    "plt.xlabel(\"STATUS\")\n",
    "plt.ylabel(\"Count of people\")\n",
    "plt.xticks(rotation=45)"
   ]
  },
  {
   "cell_type": "markdown",
   "metadata": {},
   "source": [
    "##### Here in above graph we can see that most of the people are not interested, the area where we have to work is on interested people to let them consider the things and the people already joined is our success."
   ]
  },
  {
   "cell_type": "markdown",
   "metadata": {},
   "source": [
    "#### Based on city we can see how many are interested or not."
   ]
  },
  {
   "cell_type": "code",
   "execution_count": 102,
   "metadata": {},
   "outputs": [],
   "source": [
    "city_based_status = pd.DataFrame(data_original.groupby(\"city\")[\"status\"].value_counts())\n",
    "city_based_status = city_based_status.rename(columns={\"status\":\"count\"})\n",
    "city_based_status = city_based_status.reset_index()"
   ]
  },
  {
   "cell_type": "markdown",
   "metadata": {},
   "source": [
    "####  Lets take the frame of people who are not interested and to find out top10 city where people are not interested."
   ]
  },
  {
   "cell_type": "code",
   "execution_count": 103,
   "metadata": {},
   "outputs": [
    {
     "data": {
      "text/plain": [
       "(array([0, 1, 2, 3, 4, 5, 6, 7, 8, 9]), <a list of 10 Text xticklabel objects>)"
      ]
     },
     "execution_count": 103,
     "metadata": {},
     "output_type": "execute_result"
    },
    {
     "data": {
      "image/png": "[encoded data removed]",
      "text/plain": [
       "<Figure size 1080x360 with 1 Axes>"
      ]
     },
     "metadata": {
      "needs_background": "light"
     },
     "output_type": "display_data"
    }
   ],
   "source": [
    "top_10_city_NI = city_based_status[city_based_status[\"status\"]==\"Not Interested\"].sort_values(ascending=False, by=\"count\").head(10)\n",
    "plt.figure(figsize=(15,5))\n",
    "sns.barplot(x=top_10_city_NI[\"city\"],y=top_10_city_NI[\"count\"])\n",
    "plt.xlabel(\"Cities\")\n",
    "plt.ylabel(\"Count of people Not Interested\")\n",
    "plt.xticks(rotation=45)"
   ]
  },
  {
   "cell_type": "markdown",
   "metadata": {},
   "source": [
    "####  Lets take the frame of people who are not interested and to find out top10 state where people are not interested."
   ]
  },
  {
   "cell_type": "code",
   "execution_count": 104,
   "metadata": {},
   "outputs": [],
   "source": [
    "state_based_status = pd.DataFrame(data_original.groupby(\"state\")[\"status\"].value_counts())\n",
    "state_based_status = state_based_status.rename(columns={\"status\":\"count\"})\n",
    "state_based_status = state_based_status.reset_index()"
   ]
  },
  {
   "cell_type": "code",
   "execution_count": 105,
   "metadata": {},
   "outputs": [
    {
     "data": {
      "text/plain": [
       "(array([0, 1, 2, 3, 4, 5, 6, 7, 8, 9]), <a list of 10 Text xticklabel objects>)"
      ]
     },
     "execution_count": 105,
     "metadata": {},
     "output_type": "execute_result"
    },
    {
     "data": {
      "image/png": "[encoded data removed]",
      "text/plain": [
       "<Figure size 1080x360 with 1 Axes>"
      ]
     },
     "metadata": {
      "needs_background": "light"
     },
     "output_type": "display_data"
    }
   ],
   "source": [
    "top_10_state_NI = state_based_status[state_based_status[\"status\"]==\"Not Interested\"].sort_values(ascending=False, by=\"count\").head(10)\n",
    "plt.figure(figsize=(15,5))\n",
    "sns.barplot(x=top_10_state_NI[\"state\"],y=top_10_state_NI[\"count\"])\n",
    "plt.xlabel(\"States\")\n",
    "plt.ylabel(\"Count of people Not Interested\")\n",
    "plt.xticks(rotation=45)"
   ]
  },
  {
   "cell_type": "code",
   "execution_count": 106,
   "metadata": {},
   "outputs": [],
   "source": [
    "# Let's drop some more unused columns:"
   ]
  },
  {
   "cell_type": "code",
   "execution_count": 107,
   "metadata": {},
   "outputs": [],
   "source": [
    "data_original.drop([\"userId\",\"name_x\",\"leadId\",\"source\"], axis=1, inplace=True)"
   ]
  },
  {
   "cell_type": "code",
   "execution_count": 108,
   "metadata": {},
   "outputs": [],
   "source": [
    "data_original.drop([\"calledAt\"], axis=1, inplace=True) #As after extracting the date came to know that all entries filled at same date"
   ]
  },
  {
   "cell_type": "code",
   "execution_count": 109,
   "metadata": {},
   "outputs": [],
   "source": [
    "data_original[\"UserId\"] = data[\"userId\"]"
   ]
  },
  {
   "cell_type": "code",
   "execution_count": 110,
   "metadata": {},
   "outputs": [
    {
     "data": {
      "text/html": [
       "<div>\n",
       "<style scoped>\n",
       "    .dataframe tbody tr th:only-of-type {\n",
       "        vertical-align: middle;\n",
       "    }\n",
       "\n",
       "    .dataframe tbody tr th {\n",
       "        vertical-align: top;\n",
       "    }\n",
       "\n",
       "    .dataframe thead th {\n",
       "        text-align: right;\n",
       "    }\n",
       "</style>\n",
       "<table border=\"1\" class=\"dataframe\">\n",
       "  <thead>\n",
       "    <tr style=\"text-align: right;\">\n",
       "      <th></th>\n",
       "      <th>city</th>\n",
       "      <th>state</th>\n",
       "      <th>isExternal</th>\n",
       "      <th>receivedAt</th>\n",
       "      <th>client</th>\n",
       "      <th>status</th>\n",
       "      <th>name_y</th>\n",
       "      <th>createdAt</th>\n",
       "      <th>UserId</th>\n",
       "    </tr>\n",
       "  </thead>\n",
       "  <tbody>\n",
       "    <tr>\n",
       "      <th>0</th>\n",
       "      <td>banglore</td>\n",
       "      <td>karnataka</td>\n",
       "      <td>True</td>\n",
       "      <td>2019-11-01T05:41:00Z</td>\n",
       "      <td>Move in sync</td>\n",
       "      <td>Not Interested</td>\n",
       "      <td>Sheeba</td>\n",
       "      <td>2019-12-25T05:50:26.385Z</td>\n",
       "      <td>NaN</td>\n",
       "    </tr>\n",
       "    <tr>\n",
       "      <th>1</th>\n",
       "      <td>hyderabad</td>\n",
       "      <td>telangana</td>\n",
       "      <td>False</td>\n",
       "      <td>2019-07-25T00:00:00Z</td>\n",
       "      <td>Dunzo</td>\n",
       "      <td>Not Interested</td>\n",
       "      <td>Sheeba</td>\n",
       "      <td>2019-12-25T05:50:26.385Z</td>\n",
       "      <td>e50fccfe-82aa-434a-ad92-9d3f9d651f84</td>\n",
       "    </tr>\n",
       "  </tbody>\n",
       "</table>\n",
       "</div>"
      ],
      "text/plain": [
       "        city      state  isExternal            receivedAt        client  \\\n",
       "0   banglore  karnataka        True  2019-11-01T05:41:00Z  Move in sync   \n",
       "1  hyderabad  telangana       False  2019-07-25T00:00:00Z         Dunzo   \n",
       "\n",
       "           status  name_y                 createdAt  \\\n",
       "0  Not Interested  Sheeba  2019-12-25T05:50:26.385Z   \n",
       "1  Not Interested  Sheeba  2019-12-25T05:50:26.385Z   \n",
       "\n",
       "                                 UserId  \n",
       "0                                   NaN  \n",
       "1  e50fccfe-82aa-434a-ad92-9d3f9d651f84  "
      ]
     },
     "execution_count": 110,
     "metadata": {},
     "output_type": "execute_result"
    }
   ],
   "source": [
    "data_original.head(2)"
   ]
  },
  {
   "cell_type": "markdown",
   "metadata": {},
   "source": [
    "### Let's have some insights based on date that on which date more leads came such we can utilize more resources as per leads data and that can help us to forecast future requirements:"
   ]
  },
  {
   "cell_type": "code",
   "execution_count": 111,
   "metadata": {},
   "outputs": [],
   "source": [
    "data_original['Date'] = pd.to_datetime(data_original['receivedAt']).dt.date"
   ]
  },
  {
   "cell_type": "markdown",
   "metadata": {},
   "source": [
    "##### This is to show month wise efficiency"
   ]
  },
  {
   "cell_type": "code",
   "execution_count": 112,
   "metadata": {},
   "outputs": [],
   "source": [
    "top_20_days = pd.DataFrame(data_original.groupby('Date')['UserId'].count().sort_values(ascending=False).head(20))\n",
    "top_20_days = top_20_days.reset_index()\n",
    "top_20_days = top_20_days.rename(columns = {\"UserId\": \"Count\"})"
   ]
  },
  {
   "cell_type": "code",
   "execution_count": 113,
   "metadata": {},
   "outputs": [
    {
     "data": {
      "text/plain": [
       "(array([737150., 737180., 737211., 737241., 737272., 737303., 737333.,\n",
       "        737364.]), <a list of 8 Text xticklabel objects>)"
      ]
     },
     "execution_count": 113,
     "metadata": {},
     "output_type": "execute_result"
    },
    {
     "data": {
      "image/png": "[encoded data removed]",
      "text/plain": [
       "<Figure size 1080x360 with 1 Axes>"
      ]
     },
     "metadata": {
      "needs_background": "light"
     },
     "output_type": "display_data"
    }
   ],
   "source": [
    "plt.figure(figsize=(15,5))\n",
    "sns.lineplot(x=top_20_days[\"Date\"],y=top_20_days[\"Count\"], data=top_20_days, dashes=False,sort=True)\n",
    "plt.xlabel(\"Dates\")\n",
    "plt.ylabel(\"Count of leads\")\n",
    "plt.xticks(rotation=45)"
   ]
  },
  {
   "cell_type": "markdown",
   "metadata": {},
   "source": [
    "##### Here in above graph we can clearly see that in month between April-May and Jul-Aug the leads are which, so we can expect more calls in these moths and can decide the workload and can also ready for future."
   ]
  },
  {
   "cell_type": "markdown",
   "metadata": {},
   "source": [
    "## Now as per details we can try to forecast the leads and can predict the upcoming count of leads in future:"
   ]
  },
  {
   "cell_type": "code",
   "execution_count": 114,
   "metadata": {},
   "outputs": [
    {
     "data": {
      "text/html": [
       "<div>\n",
       "<style scoped>\n",
       "    .dataframe tbody tr th:only-of-type {\n",
       "        vertical-align: middle;\n",
       "    }\n",
       "\n",
       "    .dataframe tbody tr th {\n",
       "        vertical-align: top;\n",
       "    }\n",
       "\n",
       "    .dataframe thead th {\n",
       "        text-align: right;\n",
       "    }\n",
       "</style>\n",
       "<table border=\"1\" class=\"dataframe\">\n",
       "  <thead>\n",
       "    <tr style=\"text-align: right;\">\n",
       "      <th></th>\n",
       "      <th>city</th>\n",
       "      <th>state</th>\n",
       "      <th>isExternal</th>\n",
       "      <th>receivedAt</th>\n",
       "      <th>client</th>\n",
       "      <th>status</th>\n",
       "      <th>name_y</th>\n",
       "      <th>createdAt</th>\n",
       "      <th>UserId</th>\n",
       "      <th>Date</th>\n",
       "    </tr>\n",
       "  </thead>\n",
       "  <tbody>\n",
       "    <tr>\n",
       "      <th>0</th>\n",
       "      <td>banglore</td>\n",
       "      <td>karnataka</td>\n",
       "      <td>True</td>\n",
       "      <td>2019-11-01T05:41:00Z</td>\n",
       "      <td>Move in sync</td>\n",
       "      <td>Not Interested</td>\n",
       "      <td>Sheeba</td>\n",
       "      <td>2019-12-25T05:50:26.385Z</td>\n",
       "      <td>NaN</td>\n",
       "      <td>2019-11-01</td>\n",
       "    </tr>\n",
       "    <tr>\n",
       "      <th>1</th>\n",
       "      <td>hyderabad</td>\n",
       "      <td>telangana</td>\n",
       "      <td>False</td>\n",
       "      <td>2019-07-25T00:00:00Z</td>\n",
       "      <td>Dunzo</td>\n",
       "      <td>Not Interested</td>\n",
       "      <td>Sheeba</td>\n",
       "      <td>2019-12-25T05:50:26.385Z</td>\n",
       "      <td>e50fccfe-82aa-434a-ad92-9d3f9d651f84</td>\n",
       "      <td>2019-07-25</td>\n",
       "    </tr>\n",
       "  </tbody>\n",
       "</table>\n",
       "</div>"
      ],
      "text/plain": [
       "        city      state  isExternal            receivedAt        client  \\\n",
       "0   banglore  karnataka        True  2019-11-01T05:41:00Z  Move in sync   \n",
       "1  hyderabad  telangana       False  2019-07-25T00:00:00Z         Dunzo   \n",
       "\n",
       "           status  name_y                 createdAt  \\\n",
       "0  Not Interested  Sheeba  2019-12-25T05:50:26.385Z   \n",
       "1  Not Interested  Sheeba  2019-12-25T05:50:26.385Z   \n",
       "\n",
       "                                 UserId        Date  \n",
       "0                                   NaN  2019-11-01  \n",
       "1  e50fccfe-82aa-434a-ad92-9d3f9d651f84  2019-07-25  "
      ]
     },
     "execution_count": 114,
     "metadata": {},
     "output_type": "execute_result"
    }
   ],
   "source": [
    "data_original.head(2)"
   ]
  },
  {
   "cell_type": "code",
   "execution_count": 115,
   "metadata": {},
   "outputs": [],
   "source": [
    "time_data = pd.DataFrame(data_original.groupby('Date')['UserId'].count().reset_index().rename(columns={\"UserId\":\"Lead_count\"}))"
   ]
  },
  {
   "cell_type": "code",
   "execution_count": 116,
   "metadata": {},
   "outputs": [],
   "source": [
    "import datetime"
   ]
  },
  {
   "cell_type": "code",
   "execution_count": 117,
   "metadata": {},
   "outputs": [],
   "source": [
    "time_data['month_year'] = pd.to_datetime(time_data['Date']).dt.to_period('M')"
   ]
  },
  {
   "cell_type": "code",
   "execution_count": 118,
   "metadata": {},
   "outputs": [],
   "source": [
    "time_data['month'] = pd.to_datetime(time_data['Date']).dt.month"
   ]
  },
  {
   "cell_type": "code",
   "execution_count": 119,
   "metadata": {},
   "outputs": [
    {
     "data": {
      "text/html": [
       "<div>\n",
       "<style scoped>\n",
       "    .dataframe tbody tr th:only-of-type {\n",
       "        vertical-align: middle;\n",
       "    }\n",
       "\n",
       "    .dataframe tbody tr th {\n",
       "        vertical-align: top;\n",
       "    }\n",
       "\n",
       "    .dataframe thead th {\n",
       "        text-align: right;\n",
       "    }\n",
       "</style>\n",
       "<table border=\"1\" class=\"dataframe\">\n",
       "  <thead>\n",
       "    <tr style=\"text-align: right;\">\n",
       "      <th></th>\n",
       "      <th>Date</th>\n",
       "      <th>Lead_count</th>\n",
       "      <th>month_year</th>\n",
       "      <th>month</th>\n",
       "    </tr>\n",
       "  </thead>\n",
       "  <tbody>\n",
       "    <tr>\n",
       "      <th>0</th>\n",
       "      <td>2019-02-12</td>\n",
       "      <td>0</td>\n",
       "      <td>2019-02</td>\n",
       "      <td>2</td>\n",
       "    </tr>\n",
       "    <tr>\n",
       "      <th>1</th>\n",
       "      <td>2019-02-23</td>\n",
       "      <td>2</td>\n",
       "      <td>2019-02</td>\n",
       "      <td>2</td>\n",
       "    </tr>\n",
       "    <tr>\n",
       "      <th>2</th>\n",
       "      <td>2019-02-24</td>\n",
       "      <td>3</td>\n",
       "      <td>2019-02</td>\n",
       "      <td>2</td>\n",
       "    </tr>\n",
       "    <tr>\n",
       "      <th>3</th>\n",
       "      <td>2019-03-01</td>\n",
       "      <td>1</td>\n",
       "      <td>2019-03</td>\n",
       "      <td>3</td>\n",
       "    </tr>\n",
       "    <tr>\n",
       "      <th>4</th>\n",
       "      <td>2019-03-07</td>\n",
       "      <td>1</td>\n",
       "      <td>2019-03</td>\n",
       "      <td>3</td>\n",
       "    </tr>\n",
       "  </tbody>\n",
       "</table>\n",
       "</div>"
      ],
      "text/plain": [
       "         Date  Lead_count month_year  month\n",
       "0  2019-02-12           0    2019-02      2\n",
       "1  2019-02-23           2    2019-02      2\n",
       "2  2019-02-24           3    2019-02      2\n",
       "3  2019-03-01           1    2019-03      3\n",
       "4  2019-03-07           1    2019-03      3"
      ]
     },
     "execution_count": 119,
     "metadata": {},
     "output_type": "execute_result"
    }
   ],
   "source": [
    "time_data.head()"
   ]
  },
  {
   "cell_type": "code",
   "execution_count": 120,
   "metadata": {},
   "outputs": [
    {
     "data": {
      "text/html": [
       "<div>\n",
       "<style scoped>\n",
       "    .dataframe tbody tr th:only-of-type {\n",
       "        vertical-align: middle;\n",
       "    }\n",
       "\n",
       "    .dataframe tbody tr th {\n",
       "        vertical-align: top;\n",
       "    }\n",
       "\n",
       "    .dataframe thead th {\n",
       "        text-align: right;\n",
       "    }\n",
       "</style>\n",
       "<table border=\"1\" class=\"dataframe\">\n",
       "  <thead>\n",
       "    <tr style=\"text-align: right;\">\n",
       "      <th></th>\n",
       "      <th>month</th>\n",
       "      <th>Lead_count</th>\n",
       "    </tr>\n",
       "  </thead>\n",
       "  <tbody>\n",
       "    <tr>\n",
       "      <th>0</th>\n",
       "      <td>2</td>\n",
       "      <td>5</td>\n",
       "    </tr>\n",
       "    <tr>\n",
       "      <th>1</th>\n",
       "      <td>3</td>\n",
       "      <td>57</td>\n",
       "    </tr>\n",
       "    <tr>\n",
       "      <th>2</th>\n",
       "      <td>9</td>\n",
       "      <td>134</td>\n",
       "    </tr>\n",
       "    <tr>\n",
       "      <th>3</th>\n",
       "      <td>4</td>\n",
       "      <td>569</td>\n",
       "    </tr>\n",
       "    <tr>\n",
       "      <th>4</th>\n",
       "      <td>8</td>\n",
       "      <td>772</td>\n",
       "    </tr>\n",
       "    <tr>\n",
       "      <th>5</th>\n",
       "      <td>6</td>\n",
       "      <td>932</td>\n",
       "    </tr>\n",
       "    <tr>\n",
       "      <th>6</th>\n",
       "      <td>11</td>\n",
       "      <td>1068</td>\n",
       "    </tr>\n",
       "    <tr>\n",
       "      <th>7</th>\n",
       "      <td>5</td>\n",
       "      <td>1110</td>\n",
       "    </tr>\n",
       "    <tr>\n",
       "      <th>8</th>\n",
       "      <td>10</td>\n",
       "      <td>1158</td>\n",
       "    </tr>\n",
       "    <tr>\n",
       "      <th>9</th>\n",
       "      <td>7</td>\n",
       "      <td>1975</td>\n",
       "    </tr>\n",
       "  </tbody>\n",
       "</table>\n",
       "</div>"
      ],
      "text/plain": [
       "   month  Lead_count\n",
       "0      2           5\n",
       "1      3          57\n",
       "2      9         134\n",
       "3      4         569\n",
       "4      8         772\n",
       "5      6         932\n",
       "6     11        1068\n",
       "7      5        1110\n",
       "8     10        1158\n",
       "9      7        1975"
      ]
     },
     "execution_count": 120,
     "metadata": {},
     "output_type": "execute_result"
    }
   ],
   "source": [
    "moth_wise_count = pd.DataFrame(time_data.groupby([\"month\"])[\"Lead_count\"].sum().sort_values(ascending=True)).reset_index()\n",
    "moth_wise_count"
   ]
  },
  {
   "cell_type": "code",
   "execution_count": 121,
   "metadata": {},
   "outputs": [
    {
     "data": {
      "text/plain": [
       "Text(0, 0.5, 'Count of leads')"
      ]
     },
     "execution_count": 121,
     "metadata": {},
     "output_type": "execute_result"
    },
    {
     "data": {
      "image/png": "[encoded data removed]",
      "text/plain": [
       "<Figure size 1080x360 with 1 Axes>"
      ]
     },
     "metadata": {
      "needs_background": "light"
     },
     "output_type": "display_data"
    }
   ],
   "source": [
    "plt.figure(figsize=(15,5))\n",
    "sns.lineplot(x=moth_wise_count[\"month\"], y=moth_wise_count[\"Lead_count\"], data=moth_wise_count, color=\"salmon\")\n",
    "plt.xlabel(\"Months\")\n",
    "plt.ylabel(\"Count of leads\")"
   ]
  },
  {
   "cell_type": "markdown",
   "metadata": {},
   "source": [
    "##### The above graph shows month wise total leads and we cannot proceed with forecast here as data is in sufficient."
   ]
  },
  {
   "cell_type": "code",
   "execution_count": 122,
   "metadata": {},
   "outputs": [
    {
     "data": {
      "text/html": [
       "<div>\n",
       "<style scoped>\n",
       "    .dataframe tbody tr th:only-of-type {\n",
       "        vertical-align: middle;\n",
       "    }\n",
       "\n",
       "    .dataframe tbody tr th {\n",
       "        vertical-align: top;\n",
       "    }\n",
       "\n",
       "    .dataframe thead th {\n",
       "        text-align: right;\n",
       "    }\n",
       "</style>\n",
       "<table border=\"1\" class=\"dataframe\">\n",
       "  <thead>\n",
       "    <tr style=\"text-align: right;\">\n",
       "      <th></th>\n",
       "      <th>city</th>\n",
       "      <th>state</th>\n",
       "      <th>isExternal</th>\n",
       "      <th>receivedAt</th>\n",
       "      <th>client</th>\n",
       "      <th>status</th>\n",
       "      <th>name_y</th>\n",
       "      <th>createdAt</th>\n",
       "      <th>UserId</th>\n",
       "      <th>Date</th>\n",
       "    </tr>\n",
       "  </thead>\n",
       "  <tbody>\n",
       "    <tr>\n",
       "      <th>0</th>\n",
       "      <td>banglore</td>\n",
       "      <td>karnataka</td>\n",
       "      <td>True</td>\n",
       "      <td>2019-11-01T05:41:00Z</td>\n",
       "      <td>Move in sync</td>\n",
       "      <td>Not Interested</td>\n",
       "      <td>Sheeba</td>\n",
       "      <td>2019-12-25T05:50:26.385Z</td>\n",
       "      <td>NaN</td>\n",
       "      <td>2019-11-01</td>\n",
       "    </tr>\n",
       "    <tr>\n",
       "      <th>1</th>\n",
       "      <td>hyderabad</td>\n",
       "      <td>telangana</td>\n",
       "      <td>False</td>\n",
       "      <td>2019-07-25T00:00:00Z</td>\n",
       "      <td>Dunzo</td>\n",
       "      <td>Not Interested</td>\n",
       "      <td>Sheeba</td>\n",
       "      <td>2019-12-25T05:50:26.385Z</td>\n",
       "      <td>e50fccfe-82aa-434a-ad92-9d3f9d651f84</td>\n",
       "      <td>2019-07-25</td>\n",
       "    </tr>\n",
       "  </tbody>\n",
       "</table>\n",
       "</div>"
      ],
      "text/plain": [
       "        city      state  isExternal            receivedAt        client  \\\n",
       "0   banglore  karnataka        True  2019-11-01T05:41:00Z  Move in sync   \n",
       "1  hyderabad  telangana       False  2019-07-25T00:00:00Z         Dunzo   \n",
       "\n",
       "           status  name_y                 createdAt  \\\n",
       "0  Not Interested  Sheeba  2019-12-25T05:50:26.385Z   \n",
       "1  Not Interested  Sheeba  2019-12-25T05:50:26.385Z   \n",
       "\n",
       "                                 UserId        Date  \n",
       "0                                   NaN  2019-11-01  \n",
       "1  e50fccfe-82aa-434a-ad92-9d3f9d651f84  2019-07-25  "
      ]
     },
     "execution_count": 122,
     "metadata": {},
     "output_type": "execute_result"
    }
   ],
   "source": [
    "data_original.head(2)"
   ]
  },
  {
   "cell_type": "markdown",
   "metadata": {},
   "source": [
    "## Lets try to have a model prediction."
   ]
  },
  {
   "cell_type": "code",
   "execution_count": 123,
   "metadata": {},
   "outputs": [],
   "source": [
    "# let drop the columns whcih are not required for prediction."
   ]
  },
  {
   "cell_type": "code",
   "execution_count": 124,
   "metadata": {},
   "outputs": [],
   "source": [
    "data_original.drop([\"receivedAt\",\"createdAt\",\"UserId\"],axis=1,inplace=True)"
   ]
  },
  {
   "cell_type": "code",
   "execution_count": 125,
   "metadata": {},
   "outputs": [
    {
     "data": {
      "text/plain": [
       "0"
      ]
     },
     "execution_count": 125,
     "metadata": {},
     "output_type": "execute_result"
    }
   ],
   "source": [
    "data_original.Date.isnull().sum()"
   ]
  },
  {
   "cell_type": "code",
   "execution_count": 126,
   "metadata": {},
   "outputs": [
    {
     "data": {
      "text/html": [
       "<div>\n",
       "<style scoped>\n",
       "    .dataframe tbody tr th:only-of-type {\n",
       "        vertical-align: middle;\n",
       "    }\n",
       "\n",
       "    .dataframe tbody tr th {\n",
       "        vertical-align: top;\n",
       "    }\n",
       "\n",
       "    .dataframe thead th {\n",
       "        text-align: right;\n",
       "    }\n",
       "</style>\n",
       "<table border=\"1\" class=\"dataframe\">\n",
       "  <thead>\n",
       "    <tr style=\"text-align: right;\">\n",
       "      <th></th>\n",
       "      <th>city</th>\n",
       "      <th>state</th>\n",
       "      <th>isExternal</th>\n",
       "      <th>client</th>\n",
       "      <th>status</th>\n",
       "      <th>name_y</th>\n",
       "      <th>Date</th>\n",
       "    </tr>\n",
       "  </thead>\n",
       "  <tbody>\n",
       "    <tr>\n",
       "      <th>0</th>\n",
       "      <td>banglore</td>\n",
       "      <td>karnataka</td>\n",
       "      <td>True</td>\n",
       "      <td>Move in sync</td>\n",
       "      <td>Not Interested</td>\n",
       "      <td>Sheeba</td>\n",
       "      <td>2019-11-01</td>\n",
       "    </tr>\n",
       "    <tr>\n",
       "      <th>1</th>\n",
       "      <td>hyderabad</td>\n",
       "      <td>telangana</td>\n",
       "      <td>False</td>\n",
       "      <td>Dunzo</td>\n",
       "      <td>Not Interested</td>\n",
       "      <td>Sheeba</td>\n",
       "      <td>2019-07-25</td>\n",
       "    </tr>\n",
       "    <tr>\n",
       "      <th>2</th>\n",
       "      <td>hyderabad</td>\n",
       "      <td>telangana</td>\n",
       "      <td>False</td>\n",
       "      <td>Zomato</td>\n",
       "      <td>Not Interested</td>\n",
       "      <td>Sheeba</td>\n",
       "      <td>2019-06-03</td>\n",
       "    </tr>\n",
       "    <tr>\n",
       "      <th>3</th>\n",
       "      <td>banglore</td>\n",
       "      <td>karnataka</td>\n",
       "      <td>False</td>\n",
       "      <td>Zomato</td>\n",
       "      <td>Not Interested</td>\n",
       "      <td>Sheeba</td>\n",
       "      <td>2019-04-01</td>\n",
       "    </tr>\n",
       "    <tr>\n",
       "      <th>4</th>\n",
       "      <td>hyderabad</td>\n",
       "      <td>telangana</td>\n",
       "      <td>False</td>\n",
       "      <td>Swiggy</td>\n",
       "      <td>Not Interested</td>\n",
       "      <td>Sheeba</td>\n",
       "      <td>2019-07-25</td>\n",
       "    </tr>\n",
       "  </tbody>\n",
       "</table>\n",
       "</div>"
      ],
      "text/plain": [
       "        city      state  isExternal        client          status  name_y  \\\n",
       "0   banglore  karnataka        True  Move in sync  Not Interested  Sheeba   \n",
       "1  hyderabad  telangana       False         Dunzo  Not Interested  Sheeba   \n",
       "2  hyderabad  telangana       False        Zomato  Not Interested  Sheeba   \n",
       "3   banglore  karnataka       False        Zomato  Not Interested  Sheeba   \n",
       "4  hyderabad  telangana       False        Swiggy  Not Interested  Sheeba   \n",
       "\n",
       "         Date  \n",
       "0  2019-11-01  \n",
       "1  2019-07-25  \n",
       "2  2019-06-03  \n",
       "3  2019-04-01  \n",
       "4  2019-07-25  "
      ]
     },
     "execution_count": 126,
     "metadata": {},
     "output_type": "execute_result"
    }
   ],
   "source": [
    "data_original.head()"
   ]
  },
  {
   "cell_type": "code",
   "execution_count": 127,
   "metadata": {},
   "outputs": [
    {
     "data": {
      "text/plain": [
       "array(['Not Interested', 'Interested', 'Joined'], dtype=object)"
      ]
     },
     "execution_count": 127,
     "metadata": {},
     "output_type": "execute_result"
    }
   ],
   "source": [
    "data_original[\"status\"].unique()  # So we will filter only data where user is interested and not interested as they are for \n",
    "                                  # main focus where we can predict based on data that whether user is going to join or not."
   ]
  },
  {
   "cell_type": "code",
   "execution_count": 128,
   "metadata": {},
   "outputs": [
    {
     "data": {
      "text/plain": [
       "58"
      ]
     },
     "execution_count": 128,
     "metadata": {},
     "output_type": "execute_result"
    }
   ],
   "source": [
    "data_original.city.nunique()"
   ]
  },
  {
   "cell_type": "code",
   "execution_count": 129,
   "metadata": {},
   "outputs": [
    {
     "data": {
      "text/plain": [
       "16"
      ]
     },
     "execution_count": 129,
     "metadata": {},
     "output_type": "execute_result"
    }
   ],
   "source": [
    "data_original.state.nunique()"
   ]
  },
  {
   "cell_type": "code",
   "execution_count": 130,
   "metadata": {},
   "outputs": [
    {
     "name": "stdout",
     "output_type": "stream",
     "text": [
      "<class 'pandas.core.frame.DataFrame'>\n",
      "Int64Index: 12335 entries, 0 to 12334\n",
      "Data columns (total 7 columns):\n",
      "city          12335 non-null object\n",
      "state         12335 non-null object\n",
      "isExternal    12335 non-null bool\n",
      "client        12335 non-null object\n",
      "status        12335 non-null object\n",
      "name_y        12335 non-null object\n",
      "Date          12335 non-null object\n",
      "dtypes: bool(1), object(6)\n",
      "memory usage: 686.6+ KB\n"
     ]
    }
   ],
   "source": [
    "data_original.info()"
   ]
  },
  {
   "cell_type": "code",
   "execution_count": 131,
   "metadata": {},
   "outputs": [
    {
     "data": {
      "text/html": [
       "<div>\n",
       "<style scoped>\n",
       "    .dataframe tbody tr th:only-of-type {\n",
       "        vertical-align: middle;\n",
       "    }\n",
       "\n",
       "    .dataframe tbody tr th {\n",
       "        vertical-align: top;\n",
       "    }\n",
       "\n",
       "    .dataframe thead th {\n",
       "        text-align: right;\n",
       "    }\n",
       "</style>\n",
       "<table border=\"1\" class=\"dataframe\">\n",
       "  <thead>\n",
       "    <tr style=\"text-align: right;\">\n",
       "      <th></th>\n",
       "      <th>city</th>\n",
       "      <th>state</th>\n",
       "      <th>isExternal</th>\n",
       "      <th>client</th>\n",
       "      <th>status</th>\n",
       "      <th>name_y</th>\n",
       "      <th>Date</th>\n",
       "    </tr>\n",
       "  </thead>\n",
       "  <tbody>\n",
       "    <tr>\n",
       "      <th>count</th>\n",
       "      <td>12335</td>\n",
       "      <td>12335</td>\n",
       "      <td>12335</td>\n",
       "      <td>12335</td>\n",
       "      <td>12335</td>\n",
       "      <td>12335</td>\n",
       "      <td>12335</td>\n",
       "    </tr>\n",
       "    <tr>\n",
       "      <th>unique</th>\n",
       "      <td>58</td>\n",
       "      <td>16</td>\n",
       "      <td>2</td>\n",
       "      <td>22</td>\n",
       "      <td>3</td>\n",
       "      <td>3</td>\n",
       "      <td>163</td>\n",
       "    </tr>\n",
       "    <tr>\n",
       "      <th>top</th>\n",
       "      <td>hyderabad</td>\n",
       "      <td>telangana</td>\n",
       "      <td>False</td>\n",
       "      <td>Zomato</td>\n",
       "      <td>Not Interested</td>\n",
       "      <td>Sheeba</td>\n",
       "      <td>2019-07-25</td>\n",
       "    </tr>\n",
       "    <tr>\n",
       "      <th>freq</th>\n",
       "      <td>4261</td>\n",
       "      <td>4377</td>\n",
       "      <td>10631</td>\n",
       "      <td>6080</td>\n",
       "      <td>11072</td>\n",
       "      <td>8770</td>\n",
       "      <td>2454</td>\n",
       "    </tr>\n",
       "  </tbody>\n",
       "</table>\n",
       "</div>"
      ],
      "text/plain": [
       "             city      state isExternal  client          status  name_y  \\\n",
       "count       12335      12335      12335   12335           12335   12335   \n",
       "unique         58         16          2      22               3       3   \n",
       "top     hyderabad  telangana      False  Zomato  Not Interested  Sheeba   \n",
       "freq         4261       4377      10631    6080           11072    8770   \n",
       "\n",
       "              Date  \n",
       "count        12335  \n",
       "unique         163  \n",
       "top     2019-07-25  \n",
       "freq          2454  "
      ]
     },
     "execution_count": 131,
     "metadata": {},
     "output_type": "execute_result"
    }
   ],
   "source": [
    "data_original.describe()"
   ]
  },
  {
   "cell_type": "code",
   "execution_count": 132,
   "metadata": {},
   "outputs": [
    {
     "data": {
      "text/html": [
       "<div>\n",
       "<style scoped>\n",
       "    .dataframe tbody tr th:only-of-type {\n",
       "        vertical-align: middle;\n",
       "    }\n",
       "\n",
       "    .dataframe tbody tr th {\n",
       "        vertical-align: top;\n",
       "    }\n",
       "\n",
       "    .dataframe thead th {\n",
       "        text-align: right;\n",
       "    }\n",
       "</style>\n",
       "<table border=\"1\" class=\"dataframe\">\n",
       "  <thead>\n",
       "    <tr style=\"text-align: right;\">\n",
       "      <th></th>\n",
       "      <th>city</th>\n",
       "      <th>state</th>\n",
       "      <th>isExternal</th>\n",
       "      <th>client</th>\n",
       "      <th>status</th>\n",
       "      <th>name_y</th>\n",
       "      <th>Date</th>\n",
       "    </tr>\n",
       "  </thead>\n",
       "  <tbody>\n",
       "    <tr>\n",
       "      <th>0</th>\n",
       "      <td>banglore</td>\n",
       "      <td>karnataka</td>\n",
       "      <td>True</td>\n",
       "      <td>Move in sync</td>\n",
       "      <td>Not Interested</td>\n",
       "      <td>Sheeba</td>\n",
       "      <td>2019-11-01</td>\n",
       "    </tr>\n",
       "    <tr>\n",
       "      <th>1</th>\n",
       "      <td>hyderabad</td>\n",
       "      <td>telangana</td>\n",
       "      <td>False</td>\n",
       "      <td>Dunzo</td>\n",
       "      <td>Not Interested</td>\n",
       "      <td>Sheeba</td>\n",
       "      <td>2019-07-25</td>\n",
       "    </tr>\n",
       "    <tr>\n",
       "      <th>2</th>\n",
       "      <td>hyderabad</td>\n",
       "      <td>telangana</td>\n",
       "      <td>False</td>\n",
       "      <td>Zomato</td>\n",
       "      <td>Not Interested</td>\n",
       "      <td>Sheeba</td>\n",
       "      <td>2019-06-03</td>\n",
       "    </tr>\n",
       "    <tr>\n",
       "      <th>3</th>\n",
       "      <td>banglore</td>\n",
       "      <td>karnataka</td>\n",
       "      <td>False</td>\n",
       "      <td>Zomato</td>\n",
       "      <td>Not Interested</td>\n",
       "      <td>Sheeba</td>\n",
       "      <td>2019-04-01</td>\n",
       "    </tr>\n",
       "    <tr>\n",
       "      <th>4</th>\n",
       "      <td>hyderabad</td>\n",
       "      <td>telangana</td>\n",
       "      <td>False</td>\n",
       "      <td>Swiggy</td>\n",
       "      <td>Not Interested</td>\n",
       "      <td>Sheeba</td>\n",
       "      <td>2019-07-25</td>\n",
       "    </tr>\n",
       "  </tbody>\n",
       "</table>\n",
       "</div>"
      ],
      "text/plain": [
       "        city      state  isExternal        client          status  name_y  \\\n",
       "0   banglore  karnataka        True  Move in sync  Not Interested  Sheeba   \n",
       "1  hyderabad  telangana       False         Dunzo  Not Interested  Sheeba   \n",
       "2  hyderabad  telangana       False        Zomato  Not Interested  Sheeba   \n",
       "3   banglore  karnataka       False        Zomato  Not Interested  Sheeba   \n",
       "4  hyderabad  telangana       False        Swiggy  Not Interested  Sheeba   \n",
       "\n",
       "         Date  \n",
       "0  2019-11-01  \n",
       "1  2019-07-25  \n",
       "2  2019-06-03  \n",
       "3  2019-04-01  \n",
       "4  2019-07-25  "
      ]
     },
     "execution_count": 132,
     "metadata": {},
     "output_type": "execute_result"
    }
   ],
   "source": [
    "#data_original.drop(\"Date\",axis=1,inplace=True)\n",
    "data_original.head()"
   ]
  },
  {
   "cell_type": "code",
   "execution_count": 133,
   "metadata": {},
   "outputs": [],
   "source": [
    "data_original_parsed = pd.get_dummies(data_original,drop_first=True)"
   ]
  },
  {
   "cell_type": "code",
   "execution_count": 134,
   "metadata": {},
   "outputs": [
    {
     "data": {
      "text/plain": [
       "(12335, 260)"
      ]
     },
     "execution_count": 134,
     "metadata": {},
     "output_type": "execute_result"
    }
   ],
   "source": [
    "data_original_parsed.shape"
   ]
  },
  {
   "cell_type": "code",
   "execution_count": 135,
   "metadata": {},
   "outputs": [
    {
     "data": {
      "text/html": [
       "<div>\n",
       "<style scoped>\n",
       "    .dataframe tbody tr th:only-of-type {\n",
       "        vertical-align: middle;\n",
       "    }\n",
       "\n",
       "    .dataframe tbody tr th {\n",
       "        vertical-align: top;\n",
       "    }\n",
       "\n",
       "    .dataframe thead th {\n",
       "        text-align: right;\n",
       "    }\n",
       "</style>\n",
       "<table border=\"1\" class=\"dataframe\">\n",
       "  <thead>\n",
       "    <tr style=\"text-align: right;\">\n",
       "      <th></th>\n",
       "      <th>isExternal</th>\n",
       "      <th>city_aligarh</th>\n",
       "      <th>city_anantapur</th>\n",
       "      <th>city_asansol</th>\n",
       "      <th>city_banglore</th>\n",
       "      <th>city_belagavi</th>\n",
       "      <th>city_bheedhar</th>\n",
       "      <th>city_bhimavaram</th>\n",
       "      <th>city_chandigarh</th>\n",
       "      <th>city_chennai</th>\n",
       "      <th>...</th>\n",
       "      <th>Date_2019-11-19</th>\n",
       "      <th>Date_2019-11-20</th>\n",
       "      <th>Date_2019-11-21</th>\n",
       "      <th>Date_2019-11-22</th>\n",
       "      <th>Date_2019-11-23</th>\n",
       "      <th>Date_2019-11-24</th>\n",
       "      <th>Date_2019-11-25</th>\n",
       "      <th>Date_2019-11-27</th>\n",
       "      <th>Date_2019-11-28</th>\n",
       "      <th>Date_2019-11-29</th>\n",
       "    </tr>\n",
       "  </thead>\n",
       "  <tbody>\n",
       "    <tr>\n",
       "      <th>0</th>\n",
       "      <td>True</td>\n",
       "      <td>0</td>\n",
       "      <td>0</td>\n",
       "      <td>0</td>\n",
       "      <td>1</td>\n",
       "      <td>0</td>\n",
       "      <td>0</td>\n",
       "      <td>0</td>\n",
       "      <td>0</td>\n",
       "      <td>0</td>\n",
       "      <td>...</td>\n",
       "      <td>0</td>\n",
       "      <td>0</td>\n",
       "      <td>0</td>\n",
       "      <td>0</td>\n",
       "      <td>0</td>\n",
       "      <td>0</td>\n",
       "      <td>0</td>\n",
       "      <td>0</td>\n",
       "      <td>0</td>\n",
       "      <td>0</td>\n",
       "    </tr>\n",
       "    <tr>\n",
       "      <th>1</th>\n",
       "      <td>False</td>\n",
       "      <td>0</td>\n",
       "      <td>0</td>\n",
       "      <td>0</td>\n",
       "      <td>0</td>\n",
       "      <td>0</td>\n",
       "      <td>0</td>\n",
       "      <td>0</td>\n",
       "      <td>0</td>\n",
       "      <td>0</td>\n",
       "      <td>...</td>\n",
       "      <td>0</td>\n",
       "      <td>0</td>\n",
       "      <td>0</td>\n",
       "      <td>0</td>\n",
       "      <td>0</td>\n",
       "      <td>0</td>\n",
       "      <td>0</td>\n",
       "      <td>0</td>\n",
       "      <td>0</td>\n",
       "      <td>0</td>\n",
       "    </tr>\n",
       "    <tr>\n",
       "      <th>2</th>\n",
       "      <td>False</td>\n",
       "      <td>0</td>\n",
       "      <td>0</td>\n",
       "      <td>0</td>\n",
       "      <td>0</td>\n",
       "      <td>0</td>\n",
       "      <td>0</td>\n",
       "      <td>0</td>\n",
       "      <td>0</td>\n",
       "      <td>0</td>\n",
       "      <td>...</td>\n",
       "      <td>0</td>\n",
       "      <td>0</td>\n",
       "      <td>0</td>\n",
       "      <td>0</td>\n",
       "      <td>0</td>\n",
       "      <td>0</td>\n",
       "      <td>0</td>\n",
       "      <td>0</td>\n",
       "      <td>0</td>\n",
       "      <td>0</td>\n",
       "    </tr>\n",
       "    <tr>\n",
       "      <th>3</th>\n",
       "      <td>False</td>\n",
       "      <td>0</td>\n",
       "      <td>0</td>\n",
       "      <td>0</td>\n",
       "      <td>1</td>\n",
       "      <td>0</td>\n",
       "      <td>0</td>\n",
       "      <td>0</td>\n",
       "      <td>0</td>\n",
       "      <td>0</td>\n",
       "      <td>...</td>\n",
       "      <td>0</td>\n",
       "      <td>0</td>\n",
       "      <td>0</td>\n",
       "      <td>0</td>\n",
       "      <td>0</td>\n",
       "      <td>0</td>\n",
       "      <td>0</td>\n",
       "      <td>0</td>\n",
       "      <td>0</td>\n",
       "      <td>0</td>\n",
       "    </tr>\n",
       "    <tr>\n",
       "      <th>4</th>\n",
       "      <td>False</td>\n",
       "      <td>0</td>\n",
       "      <td>0</td>\n",
       "      <td>0</td>\n",
       "      <td>0</td>\n",
       "      <td>0</td>\n",
       "      <td>0</td>\n",
       "      <td>0</td>\n",
       "      <td>0</td>\n",
       "      <td>0</td>\n",
       "      <td>...</td>\n",
       "      <td>0</td>\n",
       "      <td>0</td>\n",
       "      <td>0</td>\n",
       "      <td>0</td>\n",
       "      <td>0</td>\n",
       "      <td>0</td>\n",
       "      <td>0</td>\n",
       "      <td>0</td>\n",
       "      <td>0</td>\n",
       "      <td>0</td>\n",
       "    </tr>\n",
       "    <tr>\n",
       "      <th>5</th>\n",
       "      <td>True</td>\n",
       "      <td>0</td>\n",
       "      <td>0</td>\n",
       "      <td>0</td>\n",
       "      <td>1</td>\n",
       "      <td>0</td>\n",
       "      <td>0</td>\n",
       "      <td>0</td>\n",
       "      <td>0</td>\n",
       "      <td>0</td>\n",
       "      <td>...</td>\n",
       "      <td>0</td>\n",
       "      <td>0</td>\n",
       "      <td>0</td>\n",
       "      <td>0</td>\n",
       "      <td>0</td>\n",
       "      <td>0</td>\n",
       "      <td>0</td>\n",
       "      <td>0</td>\n",
       "      <td>0</td>\n",
       "      <td>0</td>\n",
       "    </tr>\n",
       "    <tr>\n",
       "      <th>6</th>\n",
       "      <td>False</td>\n",
       "      <td>0</td>\n",
       "      <td>0</td>\n",
       "      <td>0</td>\n",
       "      <td>0</td>\n",
       "      <td>0</td>\n",
       "      <td>0</td>\n",
       "      <td>0</td>\n",
       "      <td>0</td>\n",
       "      <td>0</td>\n",
       "      <td>...</td>\n",
       "      <td>0</td>\n",
       "      <td>0</td>\n",
       "      <td>0</td>\n",
       "      <td>0</td>\n",
       "      <td>0</td>\n",
       "      <td>0</td>\n",
       "      <td>0</td>\n",
       "      <td>0</td>\n",
       "      <td>0</td>\n",
       "      <td>0</td>\n",
       "    </tr>\n",
       "    <tr>\n",
       "      <th>7</th>\n",
       "      <td>False</td>\n",
       "      <td>0</td>\n",
       "      <td>0</td>\n",
       "      <td>0</td>\n",
       "      <td>0</td>\n",
       "      <td>0</td>\n",
       "      <td>0</td>\n",
       "      <td>0</td>\n",
       "      <td>0</td>\n",
       "      <td>0</td>\n",
       "      <td>...</td>\n",
       "      <td>0</td>\n",
       "      <td>0</td>\n",
       "      <td>0</td>\n",
       "      <td>0</td>\n",
       "      <td>0</td>\n",
       "      <td>0</td>\n",
       "      <td>0</td>\n",
       "      <td>0</td>\n",
       "      <td>0</td>\n",
       "      <td>0</td>\n",
       "    </tr>\n",
       "    <tr>\n",
       "      <th>8</th>\n",
       "      <td>False</td>\n",
       "      <td>0</td>\n",
       "      <td>0</td>\n",
       "      <td>0</td>\n",
       "      <td>0</td>\n",
       "      <td>0</td>\n",
       "      <td>0</td>\n",
       "      <td>0</td>\n",
       "      <td>0</td>\n",
       "      <td>0</td>\n",
       "      <td>...</td>\n",
       "      <td>0</td>\n",
       "      <td>0</td>\n",
       "      <td>0</td>\n",
       "      <td>0</td>\n",
       "      <td>0</td>\n",
       "      <td>0</td>\n",
       "      <td>0</td>\n",
       "      <td>0</td>\n",
       "      <td>0</td>\n",
       "      <td>0</td>\n",
       "    </tr>\n",
       "    <tr>\n",
       "      <th>9</th>\n",
       "      <td>False</td>\n",
       "      <td>0</td>\n",
       "      <td>0</td>\n",
       "      <td>0</td>\n",
       "      <td>0</td>\n",
       "      <td>0</td>\n",
       "      <td>0</td>\n",
       "      <td>0</td>\n",
       "      <td>0</td>\n",
       "      <td>1</td>\n",
       "      <td>...</td>\n",
       "      <td>0</td>\n",
       "      <td>0</td>\n",
       "      <td>0</td>\n",
       "      <td>0</td>\n",
       "      <td>0</td>\n",
       "      <td>0</td>\n",
       "      <td>0</td>\n",
       "      <td>0</td>\n",
       "      <td>0</td>\n",
       "      <td>0</td>\n",
       "    </tr>\n",
       "  </tbody>\n",
       "</table>\n",
       "<p>10 rows × 260 columns</p>\n",
       "</div>"
      ],
      "text/plain": [
       "   isExternal  city_aligarh  city_anantapur  city_asansol  city_banglore  \\\n",
       "0        True             0               0             0              1   \n",
       "1       False             0               0             0              0   \n",
       "2       False             0               0             0              0   \n",
       "3       False             0               0             0              1   \n",
       "4       False             0               0             0              0   \n",
       "5        True             0               0             0              1   \n",
       "6       False             0               0             0              0   \n",
       "7       False             0               0             0              0   \n",
       "8       False             0               0             0              0   \n",
       "9       False             0               0             0              0   \n",
       "\n",
       "   city_belagavi  city_bheedhar  city_bhimavaram  city_chandigarh  \\\n",
       "0              0              0                0                0   \n",
       "1              0              0                0                0   \n",
       "2              0              0                0                0   \n",
       "3              0              0                0                0   \n",
       "4              0              0                0                0   \n",
       "5              0              0                0                0   \n",
       "6              0              0                0                0   \n",
       "7              0              0                0                0   \n",
       "8              0              0                0                0   \n",
       "9              0              0                0                0   \n",
       "\n",
       "   city_chennai  ...  Date_2019-11-19  Date_2019-11-20  Date_2019-11-21  \\\n",
       "0             0  ...                0                0                0   \n",
       "1             0  ...                0                0                0   \n",
       "2             0  ...                0                0                0   \n",
       "3             0  ...                0                0                0   \n",
       "4             0  ...                0                0                0   \n",
       "5             0  ...                0                0                0   \n",
       "6             0  ...                0                0                0   \n",
       "7             0  ...                0                0                0   \n",
       "8             0  ...                0                0                0   \n",
       "9             1  ...                0                0                0   \n",
       "\n",
       "   Date_2019-11-22  Date_2019-11-23  Date_2019-11-24  Date_2019-11-25  \\\n",
       "0                0                0                0                0   \n",
       "1                0                0                0                0   \n",
       "2                0                0                0                0   \n",
       "3                0                0                0                0   \n",
       "4                0                0                0                0   \n",
       "5                0                0                0                0   \n",
       "6                0                0                0                0   \n",
       "7                0                0                0                0   \n",
       "8                0                0                0                0   \n",
       "9                0                0                0                0   \n",
       "\n",
       "   Date_2019-11-27  Date_2019-11-28  Date_2019-11-29  \n",
       "0                0                0                0  \n",
       "1                0                0                0  \n",
       "2                0                0                0  \n",
       "3                0                0                0  \n",
       "4                0                0                0  \n",
       "5                0                0                0  \n",
       "6                0                0                0  \n",
       "7                0                0                0  \n",
       "8                0                0                0  \n",
       "9                0                0                0  \n",
       "\n",
       "[10 rows x 260 columns]"
      ]
     },
     "execution_count": 135,
     "metadata": {},
     "output_type": "execute_result"
    }
   ],
   "source": [
    "data_original_parsed.head(10)"
   ]
  },
  {
   "cell_type": "code",
   "execution_count": 136,
   "metadata": {},
   "outputs": [],
   "source": [
    "data_original_parsed[\"isExternal\"] = data_original_parsed[[\"isExternal\"]].astype(str)"
   ]
  },
  {
   "cell_type": "code",
   "execution_count": 137,
   "metadata": {},
   "outputs": [],
   "source": [
    "ls=[]\n",
    "for i in data_original_parsed[\"isExternal\"]:\n",
    "    if(i==\"True\"):\n",
    "        ls.append(1)\n",
    "    else:\n",
    "        ls.append(0)"
   ]
  },
  {
   "cell_type": "code",
   "execution_count": 138,
   "metadata": {},
   "outputs": [],
   "source": [
    "data_original_parsed.drop([\"isExternal\",\"status_Joined\"], axis=1, inplace=True)"
   ]
  },
  {
   "cell_type": "code",
   "execution_count": 139,
   "metadata": {},
   "outputs": [],
   "source": [
    "data_original_parsed[\"isExternal\"] = ls"
   ]
  },
  {
   "cell_type": "code",
   "execution_count": 140,
   "metadata": {},
   "outputs": [
    {
     "data": {
      "text/html": [
       "<div>\n",
       "<style scoped>\n",
       "    .dataframe tbody tr th:only-of-type {\n",
       "        vertical-align: middle;\n",
       "    }\n",
       "\n",
       "    .dataframe tbody tr th {\n",
       "        vertical-align: top;\n",
       "    }\n",
       "\n",
       "    .dataframe thead th {\n",
       "        text-align: right;\n",
       "    }\n",
       "</style>\n",
       "<table border=\"1\" class=\"dataframe\">\n",
       "  <thead>\n",
       "    <tr style=\"text-align: right;\">\n",
       "      <th></th>\n",
       "      <th>city_aligarh</th>\n",
       "      <th>city_anantapur</th>\n",
       "      <th>city_asansol</th>\n",
       "      <th>city_banglore</th>\n",
       "      <th>city_belagavi</th>\n",
       "      <th>city_bheedhar</th>\n",
       "      <th>city_bhimavaram</th>\n",
       "      <th>city_chandigarh</th>\n",
       "      <th>city_chennai</th>\n",
       "      <th>city_coimbatore</th>\n",
       "      <th>...</th>\n",
       "      <th>Date_2019-11-20</th>\n",
       "      <th>Date_2019-11-21</th>\n",
       "      <th>Date_2019-11-22</th>\n",
       "      <th>Date_2019-11-23</th>\n",
       "      <th>Date_2019-11-24</th>\n",
       "      <th>Date_2019-11-25</th>\n",
       "      <th>Date_2019-11-27</th>\n",
       "      <th>Date_2019-11-28</th>\n",
       "      <th>Date_2019-11-29</th>\n",
       "      <th>isExternal</th>\n",
       "    </tr>\n",
       "  </thead>\n",
       "  <tbody>\n",
       "    <tr>\n",
       "      <th>0</th>\n",
       "      <td>0</td>\n",
       "      <td>0</td>\n",
       "      <td>0</td>\n",
       "      <td>1</td>\n",
       "      <td>0</td>\n",
       "      <td>0</td>\n",
       "      <td>0</td>\n",
       "      <td>0</td>\n",
       "      <td>0</td>\n",
       "      <td>0</td>\n",
       "      <td>...</td>\n",
       "      <td>0</td>\n",
       "      <td>0</td>\n",
       "      <td>0</td>\n",
       "      <td>0</td>\n",
       "      <td>0</td>\n",
       "      <td>0</td>\n",
       "      <td>0</td>\n",
       "      <td>0</td>\n",
       "      <td>0</td>\n",
       "      <td>1</td>\n",
       "    </tr>\n",
       "    <tr>\n",
       "      <th>1</th>\n",
       "      <td>0</td>\n",
       "      <td>0</td>\n",
       "      <td>0</td>\n",
       "      <td>0</td>\n",
       "      <td>0</td>\n",
       "      <td>0</td>\n",
       "      <td>0</td>\n",
       "      <td>0</td>\n",
       "      <td>0</td>\n",
       "      <td>0</td>\n",
       "      <td>...</td>\n",
       "      <td>0</td>\n",
       "      <td>0</td>\n",
       "      <td>0</td>\n",
       "      <td>0</td>\n",
       "      <td>0</td>\n",
       "      <td>0</td>\n",
       "      <td>0</td>\n",
       "      <td>0</td>\n",
       "      <td>0</td>\n",
       "      <td>0</td>\n",
       "    </tr>\n",
       "    <tr>\n",
       "      <th>2</th>\n",
       "      <td>0</td>\n",
       "      <td>0</td>\n",
       "      <td>0</td>\n",
       "      <td>0</td>\n",
       "      <td>0</td>\n",
       "      <td>0</td>\n",
       "      <td>0</td>\n",
       "      <td>0</td>\n",
       "      <td>0</td>\n",
       "      <td>0</td>\n",
       "      <td>...</td>\n",
       "      <td>0</td>\n",
       "      <td>0</td>\n",
       "      <td>0</td>\n",
       "      <td>0</td>\n",
       "      <td>0</td>\n",
       "      <td>0</td>\n",
       "      <td>0</td>\n",
       "      <td>0</td>\n",
       "      <td>0</td>\n",
       "      <td>0</td>\n",
       "    </tr>\n",
       "    <tr>\n",
       "      <th>3</th>\n",
       "      <td>0</td>\n",
       "      <td>0</td>\n",
       "      <td>0</td>\n",
       "      <td>1</td>\n",
       "      <td>0</td>\n",
       "      <td>0</td>\n",
       "      <td>0</td>\n",
       "      <td>0</td>\n",
       "      <td>0</td>\n",
       "      <td>0</td>\n",
       "      <td>...</td>\n",
       "      <td>0</td>\n",
       "      <td>0</td>\n",
       "      <td>0</td>\n",
       "      <td>0</td>\n",
       "      <td>0</td>\n",
       "      <td>0</td>\n",
       "      <td>0</td>\n",
       "      <td>0</td>\n",
       "      <td>0</td>\n",
       "      <td>0</td>\n",
       "    </tr>\n",
       "    <tr>\n",
       "      <th>4</th>\n",
       "      <td>0</td>\n",
       "      <td>0</td>\n",
       "      <td>0</td>\n",
       "      <td>0</td>\n",
       "      <td>0</td>\n",
       "      <td>0</td>\n",
       "      <td>0</td>\n",
       "      <td>0</td>\n",
       "      <td>0</td>\n",
       "      <td>0</td>\n",
       "      <td>...</td>\n",
       "      <td>0</td>\n",
       "      <td>0</td>\n",
       "      <td>0</td>\n",
       "      <td>0</td>\n",
       "      <td>0</td>\n",
       "      <td>0</td>\n",
       "      <td>0</td>\n",
       "      <td>0</td>\n",
       "      <td>0</td>\n",
       "      <td>0</td>\n",
       "    </tr>\n",
       "  </tbody>\n",
       "</table>\n",
       "<p>5 rows × 259 columns</p>\n",
       "</div>"
      ],
      "text/plain": [
       "   city_aligarh  city_anantapur  city_asansol  city_banglore  city_belagavi  \\\n",
       "0             0               0             0              1              0   \n",
       "1             0               0             0              0              0   \n",
       "2             0               0             0              0              0   \n",
       "3             0               0             0              1              0   \n",
       "4             0               0             0              0              0   \n",
       "\n",
       "   city_bheedhar  city_bhimavaram  city_chandigarh  city_chennai  \\\n",
       "0              0                0                0             0   \n",
       "1              0                0                0             0   \n",
       "2              0                0                0             0   \n",
       "3              0                0                0             0   \n",
       "4              0                0                0             0   \n",
       "\n",
       "   city_coimbatore  ...  Date_2019-11-20  Date_2019-11-21  Date_2019-11-22  \\\n",
       "0                0  ...                0                0                0   \n",
       "1                0  ...                0                0                0   \n",
       "2                0  ...                0                0                0   \n",
       "3                0  ...                0                0                0   \n",
       "4                0  ...                0                0                0   \n",
       "\n",
       "   Date_2019-11-23  Date_2019-11-24  Date_2019-11-25  Date_2019-11-27  \\\n",
       "0                0                0                0                0   \n",
       "1                0                0                0                0   \n",
       "2                0                0                0                0   \n",
       "3                0                0                0                0   \n",
       "4                0                0                0                0   \n",
       "\n",
       "   Date_2019-11-28  Date_2019-11-29  isExternal  \n",
       "0                0                0           1  \n",
       "1                0                0           0  \n",
       "2                0                0           0  \n",
       "3                0                0           0  \n",
       "4                0                0           0  \n",
       "\n",
       "[5 rows x 259 columns]"
      ]
     },
     "execution_count": 140,
     "metadata": {},
     "output_type": "execute_result"
    }
   ],
   "source": [
    "data_original_parsed.head()"
   ]
  },
  {
   "cell_type": "code",
   "execution_count": 141,
   "metadata": {},
   "outputs": [
    {
     "data": {
      "text/html": [
       "<div>\n",
       "<style scoped>\n",
       "    .dataframe tbody tr th:only-of-type {\n",
       "        vertical-align: middle;\n",
       "    }\n",
       "\n",
       "    .dataframe tbody tr th {\n",
       "        vertical-align: top;\n",
       "    }\n",
       "\n",
       "    .dataframe thead th {\n",
       "        text-align: right;\n",
       "    }\n",
       "</style>\n",
       "<table border=\"1\" class=\"dataframe\">\n",
       "  <thead>\n",
       "    <tr style=\"text-align: right;\">\n",
       "      <th></th>\n",
       "      <th>city_aligarh</th>\n",
       "      <th>city_anantapur</th>\n",
       "      <th>city_asansol</th>\n",
       "      <th>city_banglore</th>\n",
       "      <th>city_belagavi</th>\n",
       "      <th>city_bheedhar</th>\n",
       "      <th>city_bhimavaram</th>\n",
       "      <th>city_chandigarh</th>\n",
       "      <th>city_chennai</th>\n",
       "      <th>city_coimbatore</th>\n",
       "      <th>...</th>\n",
       "      <th>Date_2019-11-20</th>\n",
       "      <th>Date_2019-11-21</th>\n",
       "      <th>Date_2019-11-22</th>\n",
       "      <th>Date_2019-11-23</th>\n",
       "      <th>Date_2019-11-24</th>\n",
       "      <th>Date_2019-11-25</th>\n",
       "      <th>Date_2019-11-27</th>\n",
       "      <th>Date_2019-11-28</th>\n",
       "      <th>Date_2019-11-29</th>\n",
       "      <th>isExternal</th>\n",
       "    </tr>\n",
       "  </thead>\n",
       "  <tbody>\n",
       "    <tr>\n",
       "      <th>count</th>\n",
       "      <td>12335.000000</td>\n",
       "      <td>12335.000000</td>\n",
       "      <td>12335.000000</td>\n",
       "      <td>12335.000000</td>\n",
       "      <td>12335.000000</td>\n",
       "      <td>12335.000000</td>\n",
       "      <td>12335.000000</td>\n",
       "      <td>12335.000000</td>\n",
       "      <td>12335.000000</td>\n",
       "      <td>12335.000000</td>\n",
       "      <td>...</td>\n",
       "      <td>12335.000000</td>\n",
       "      <td>12335.000000</td>\n",
       "      <td>12335.000000</td>\n",
       "      <td>12335.000000</td>\n",
       "      <td>12335.000000</td>\n",
       "      <td>12335.000000</td>\n",
       "      <td>12335.000000</td>\n",
       "      <td>12335.000000</td>\n",
       "      <td>12335.000000</td>\n",
       "      <td>12335.000000</td>\n",
       "    </tr>\n",
       "    <tr>\n",
       "      <th>mean</th>\n",
       "      <td>0.000567</td>\n",
       "      <td>0.000405</td>\n",
       "      <td>0.000081</td>\n",
       "      <td>0.305067</td>\n",
       "      <td>0.000973</td>\n",
       "      <td>0.000081</td>\n",
       "      <td>0.000081</td>\n",
       "      <td>0.000324</td>\n",
       "      <td>0.142846</td>\n",
       "      <td>0.002837</td>\n",
       "      <td>...</td>\n",
       "      <td>0.001297</td>\n",
       "      <td>0.001459</td>\n",
       "      <td>0.001621</td>\n",
       "      <td>0.001378</td>\n",
       "      <td>0.000649</td>\n",
       "      <td>0.000081</td>\n",
       "      <td>0.000081</td>\n",
       "      <td>0.000892</td>\n",
       "      <td>0.000162</td>\n",
       "      <td>0.138143</td>\n",
       "    </tr>\n",
       "    <tr>\n",
       "      <th>std</th>\n",
       "      <td>0.023816</td>\n",
       "      <td>0.020130</td>\n",
       "      <td>0.009004</td>\n",
       "      <td>0.460454</td>\n",
       "      <td>0.031176</td>\n",
       "      <td>0.009004</td>\n",
       "      <td>0.009004</td>\n",
       "      <td>0.018006</td>\n",
       "      <td>0.349929</td>\n",
       "      <td>0.053194</td>\n",
       "      <td>...</td>\n",
       "      <td>0.035994</td>\n",
       "      <td>0.038174</td>\n",
       "      <td>0.040236</td>\n",
       "      <td>0.037100</td>\n",
       "      <td>0.025460</td>\n",
       "      <td>0.009004</td>\n",
       "      <td>0.009004</td>\n",
       "      <td>0.029850</td>\n",
       "      <td>0.012733</td>\n",
       "      <td>0.345065</td>\n",
       "    </tr>\n",
       "    <tr>\n",
       "      <th>min</th>\n",
       "      <td>0.000000</td>\n",
       "      <td>0.000000</td>\n",
       "      <td>0.000000</td>\n",
       "      <td>0.000000</td>\n",
       "      <td>0.000000</td>\n",
       "      <td>0.000000</td>\n",
       "      <td>0.000000</td>\n",
       "      <td>0.000000</td>\n",
       "      <td>0.000000</td>\n",
       "      <td>0.000000</td>\n",
       "      <td>...</td>\n",
       "      <td>0.000000</td>\n",
       "      <td>0.000000</td>\n",
       "      <td>0.000000</td>\n",
       "      <td>0.000000</td>\n",
       "      <td>0.000000</td>\n",
       "      <td>0.000000</td>\n",
       "      <td>0.000000</td>\n",
       "      <td>0.000000</td>\n",
       "      <td>0.000000</td>\n",
       "      <td>0.000000</td>\n",
       "    </tr>\n",
       "    <tr>\n",
       "      <th>25%</th>\n",
       "      <td>0.000000</td>\n",
       "      <td>0.000000</td>\n",
       "      <td>0.000000</td>\n",
       "      <td>0.000000</td>\n",
       "      <td>0.000000</td>\n",
       "      <td>0.000000</td>\n",
       "      <td>0.000000</td>\n",
       "      <td>0.000000</td>\n",
       "      <td>0.000000</td>\n",
       "      <td>0.000000</td>\n",
       "      <td>...</td>\n",
       "      <td>0.000000</td>\n",
       "      <td>0.000000</td>\n",
       "      <td>0.000000</td>\n",
       "      <td>0.000000</td>\n",
       "      <td>0.000000</td>\n",
       "      <td>0.000000</td>\n",
       "      <td>0.000000</td>\n",
       "      <td>0.000000</td>\n",
       "      <td>0.000000</td>\n",
       "      <td>0.000000</td>\n",
       "    </tr>\n",
       "    <tr>\n",
       "      <th>50%</th>\n",
       "      <td>0.000000</td>\n",
       "      <td>0.000000</td>\n",
       "      <td>0.000000</td>\n",
       "      <td>0.000000</td>\n",
       "      <td>0.000000</td>\n",
       "      <td>0.000000</td>\n",
       "      <td>0.000000</td>\n",
       "      <td>0.000000</td>\n",
       "      <td>0.000000</td>\n",
       "      <td>0.000000</td>\n",
       "      <td>...</td>\n",
       "      <td>0.000000</td>\n",
       "      <td>0.000000</td>\n",
       "      <td>0.000000</td>\n",
       "      <td>0.000000</td>\n",
       "      <td>0.000000</td>\n",
       "      <td>0.000000</td>\n",
       "      <td>0.000000</td>\n",
       "      <td>0.000000</td>\n",
       "      <td>0.000000</td>\n",
       "      <td>0.000000</td>\n",
       "    </tr>\n",
       "    <tr>\n",
       "      <th>75%</th>\n",
       "      <td>0.000000</td>\n",
       "      <td>0.000000</td>\n",
       "      <td>0.000000</td>\n",
       "      <td>1.000000</td>\n",
       "      <td>0.000000</td>\n",
       "      <td>0.000000</td>\n",
       "      <td>0.000000</td>\n",
       "      <td>0.000000</td>\n",
       "      <td>0.000000</td>\n",
       "      <td>0.000000</td>\n",
       "      <td>...</td>\n",
       "      <td>0.000000</td>\n",
       "      <td>0.000000</td>\n",
       "      <td>0.000000</td>\n",
       "      <td>0.000000</td>\n",
       "      <td>0.000000</td>\n",
       "      <td>0.000000</td>\n",
       "      <td>0.000000</td>\n",
       "      <td>0.000000</td>\n",
       "      <td>0.000000</td>\n",
       "      <td>0.000000</td>\n",
       "    </tr>\n",
       "    <tr>\n",
       "      <th>max</th>\n",
       "      <td>1.000000</td>\n",
       "      <td>1.000000</td>\n",
       "      <td>1.000000</td>\n",
       "      <td>1.000000</td>\n",
       "      <td>1.000000</td>\n",
       "      <td>1.000000</td>\n",
       "      <td>1.000000</td>\n",
       "      <td>1.000000</td>\n",
       "      <td>1.000000</td>\n",
       "      <td>1.000000</td>\n",
       "      <td>...</td>\n",
       "      <td>1.000000</td>\n",
       "      <td>1.000000</td>\n",
       "      <td>1.000000</td>\n",
       "      <td>1.000000</td>\n",
       "      <td>1.000000</td>\n",
       "      <td>1.000000</td>\n",
       "      <td>1.000000</td>\n",
       "      <td>1.000000</td>\n",
       "      <td>1.000000</td>\n",
       "      <td>1.000000</td>\n",
       "    </tr>\n",
       "  </tbody>\n",
       "</table>\n",
       "<p>8 rows × 259 columns</p>\n",
       "</div>"
      ],
      "text/plain": [
       "       city_aligarh  city_anantapur  city_asansol  city_banglore  \\\n",
       "count  12335.000000    12335.000000  12335.000000   12335.000000   \n",
       "mean       0.000567        0.000405      0.000081       0.305067   \n",
       "std        0.023816        0.020130      0.009004       0.460454   \n",
       "min        0.000000        0.000000      0.000000       0.000000   \n",
       "25%        0.000000        0.000000      0.000000       0.000000   \n",
       "50%        0.000000        0.000000      0.000000       0.000000   \n",
       "75%        0.000000        0.000000      0.000000       1.000000   \n",
       "max        1.000000        1.000000      1.000000       1.000000   \n",
       "\n",
       "       city_belagavi  city_bheedhar  city_bhimavaram  city_chandigarh  \\\n",
       "count   12335.000000   12335.000000     12335.000000     12335.000000   \n",
       "mean        0.000973       0.000081         0.000081         0.000324   \n",
       "std         0.031176       0.009004         0.009004         0.018006   \n",
       "min         0.000000       0.000000         0.000000         0.000000   \n",
       "25%         0.000000       0.000000         0.000000         0.000000   \n",
       "50%         0.000000       0.000000         0.000000         0.000000   \n",
       "75%         0.000000       0.000000         0.000000         0.000000   \n",
       "max         1.000000       1.000000         1.000000         1.000000   \n",
       "\n",
       "       city_chennai  city_coimbatore  ...  Date_2019-11-20  Date_2019-11-21  \\\n",
       "count  12335.000000     12335.000000  ...     12335.000000     12335.000000   \n",
       "mean       0.142846         0.002837  ...         0.001297         0.001459   \n",
       "std        0.349929         0.053194  ...         0.035994         0.038174   \n",
       "min        0.000000         0.000000  ...         0.000000         0.000000   \n",
       "25%        0.000000         0.000000  ...         0.000000         0.000000   \n",
       "50%        0.000000         0.000000  ...         0.000000         0.000000   \n",
       "75%        0.000000         0.000000  ...         0.000000         0.000000   \n",
       "max        1.000000         1.000000  ...         1.000000         1.000000   \n",
       "\n",
       "       Date_2019-11-22  Date_2019-11-23  Date_2019-11-24  Date_2019-11-25  \\\n",
       "count     12335.000000     12335.000000     12335.000000     12335.000000   \n",
       "mean          0.001621         0.001378         0.000649         0.000081   \n",
       "std           0.040236         0.037100         0.025460         0.009004   \n",
       "min           0.000000         0.000000         0.000000         0.000000   \n",
       "25%           0.000000         0.000000         0.000000         0.000000   \n",
       "50%           0.000000         0.000000         0.000000         0.000000   \n",
       "75%           0.000000         0.000000         0.000000         0.000000   \n",
       "max           1.000000         1.000000         1.000000         1.000000   \n",
       "\n",
       "       Date_2019-11-27  Date_2019-11-28  Date_2019-11-29    isExternal  \n",
       "count     12335.000000     12335.000000     12335.000000  12335.000000  \n",
       "mean          0.000081         0.000892         0.000162      0.138143  \n",
       "std           0.009004         0.029850         0.012733      0.345065  \n",
       "min           0.000000         0.000000         0.000000      0.000000  \n",
       "25%           0.000000         0.000000         0.000000      0.000000  \n",
       "50%           0.000000         0.000000         0.000000      0.000000  \n",
       "75%           0.000000         0.000000         0.000000      0.000000  \n",
       "max           1.000000         1.000000         1.000000      1.000000  \n",
       "\n",
       "[8 rows x 259 columns]"
      ]
     },
     "execution_count": 141,
     "metadata": {},
     "output_type": "execute_result"
    }
   ],
   "source": [
    "data_original_parsed.describe()"
   ]
  },
  {
   "cell_type": "code",
   "execution_count": 142,
   "metadata": {},
   "outputs": [],
   "source": [
    "data_correlation = data_original_parsed.corr()"
   ]
  },
  {
   "cell_type": "code",
   "execution_count": 143,
   "metadata": {},
   "outputs": [
    {
     "data": {
      "text/plain": [
       "<matplotlib.axes._subplots.AxesSubplot at 0x2074e326d30>"
      ]
     },
     "execution_count": 143,
     "metadata": {},
     "output_type": "execute_result"
    },
    {
     "data": {
      "image/png": "[encoded data removed]",
      "text/plain": [
       "<Figure size 1080x576 with 2 Axes>"
      ]
     },
     "metadata": {
      "needs_background": "light"
     },
     "output_type": "display_data"
    }
   ],
   "source": [
    "plt.figure(figsize=(15,8))\n",
    "sns.heatmap(data_correlation)  # To check correlation between columns"
   ]
  },
  {
   "cell_type": "code",
   "execution_count": 144,
   "metadata": {},
   "outputs": [],
   "source": [
    "X = data_original_parsed.drop(\"status_Not Interested\", axis=1)"
   ]
  },
  {
   "cell_type": "code",
   "execution_count": 145,
   "metadata": {},
   "outputs": [],
   "source": [
    "Y = data_original_parsed[\"status_Not Interested\"]"
   ]
  },
  {
   "cell_type": "markdown",
   "metadata": {},
   "source": [
    "### Let's try to fit Logistic Regression model as it is a classification problem where we are checking based on data when new lead comes he will be interested or not interested\n"
   ]
  },
  {
   "cell_type": "code",
   "execution_count": 146,
   "metadata": {},
   "outputs": [],
   "source": [
    "from sklearn.model_selection import train_test_split\n",
    "from sklearn.linear_model import LogisticRegression\n",
    "from sklearn.metrics import confusion_matrix\n",
    "from sklearn.metrics import accuracy_score"
   ]
  },
  {
   "cell_type": "code",
   "execution_count": 147,
   "metadata": {},
   "outputs": [],
   "source": [
    "xtrain,xtest,ytrain,ytest = train_test_split(X,Y,test_size=.20, random_state=40)"
   ]
  },
  {
   "cell_type": "code",
   "execution_count": 148,
   "metadata": {},
   "outputs": [
    {
     "data": {
      "text/plain": [
       "(9868, 258)"
      ]
     },
     "execution_count": 148,
     "metadata": {},
     "output_type": "execute_result"
    }
   ],
   "source": [
    "xtrain.shape"
   ]
  },
  {
   "cell_type": "code",
   "execution_count": 149,
   "metadata": {},
   "outputs": [
    {
     "data": {
      "text/plain": [
       "(9868,)"
      ]
     },
     "execution_count": 149,
     "metadata": {},
     "output_type": "execute_result"
    }
   ],
   "source": [
    "ytrain.shape"
   ]
  },
  {
   "cell_type": "code",
   "execution_count": 150,
   "metadata": {},
   "outputs": [
    {
     "data": {
      "text/plain": [
       "(2467, 258)"
      ]
     },
     "execution_count": 150,
     "metadata": {},
     "output_type": "execute_result"
    }
   ],
   "source": [
    "xtest.shape"
   ]
  },
  {
   "cell_type": "code",
   "execution_count": 151,
   "metadata": {},
   "outputs": [
    {
     "data": {
      "text/plain": [
       "(2467,)"
      ]
     },
     "execution_count": 151,
     "metadata": {},
     "output_type": "execute_result"
    }
   ],
   "source": [
    "ytest.shape"
   ]
  },
  {
   "cell_type": "code",
   "execution_count": 152,
   "metadata": {},
   "outputs": [
    {
     "name": "stderr",
     "output_type": "stream",
     "text": [
      "C:\\Users\\Administrator\\AppData\\Roaming\\Python\\Python37\\site-packages\\sklearn\\linear_model\\logistic.py:432: FutureWarning: Default solver will be changed to 'lbfgs' in 0.22. Specify a solver to silence this warning.\n",
      "  FutureWarning)\n"
     ]
    },
    {
     "data": {
      "text/plain": [
       "LogisticRegression(C=1.0, class_weight=None, dual=False, fit_intercept=True,\n",
       "                   intercept_scaling=1, l1_ratio=None, max_iter=100,\n",
       "                   multi_class='warn', n_jobs=None, penalty='l2',\n",
       "                   random_state=None, solver='warn', tol=0.0001, verbose=0,\n",
       "                   warm_start=False)"
      ]
     },
     "execution_count": 152,
     "metadata": {},
     "output_type": "execute_result"
    }
   ],
   "source": [
    "logreg = LogisticRegression()  #Initializing the model\n",
    "logreg.fit(xtrain,ytrain)"
   ]
  },
  {
   "cell_type": "code",
   "execution_count": 153,
   "metadata": {},
   "outputs": [],
   "source": [
    "ypred = logreg.predict(xtest)"
   ]
  },
  {
   "cell_type": "code",
   "execution_count": 154,
   "metadata": {},
   "outputs": [
    {
     "data": {
      "text/plain": [
       "0.8925820835022295"
      ]
     },
     "execution_count": 154,
     "metadata": {},
     "output_type": "execute_result"
    }
   ],
   "source": [
    "accuracy_score(ytest,ypred)"
   ]
  },
  {
   "cell_type": "markdown",
   "metadata": {},
   "source": [
    "### Let's try to check with Naive Bayes model"
   ]
  },
  {
   "cell_type": "code",
   "execution_count": 155,
   "metadata": {},
   "outputs": [],
   "source": [
    "from sklearn.naive_bayes import BernoulliNB  # As the target variable is in having Boolean category[0,1]"
   ]
  },
  {
   "cell_type": "code",
   "execution_count": 156,
   "metadata": {},
   "outputs": [
    {
     "data": {
      "text/plain": [
       "BernoulliNB(alpha=1.0, binarize=0.0, class_prior=None, fit_prior=True)"
      ]
     },
     "execution_count": 156,
     "metadata": {},
     "output_type": "execute_result"
    }
   ],
   "source": [
    "bnb = BernoulliNB() # alpha=1 as smooting is considered and also fit_prior is used as default\n",
    "bnb.fit(xtrain,ytrain)"
   ]
  },
  {
   "cell_type": "code",
   "execution_count": 157,
   "metadata": {},
   "outputs": [],
   "source": [
    "ypred = bnb.predict(xtest)"
   ]
  },
  {
   "cell_type": "code",
   "execution_count": 158,
   "metadata": {},
   "outputs": [
    {
     "data": {
      "text/plain": [
       "0.8362383461694366"
      ]
     },
     "execution_count": 158,
     "metadata": {},
     "output_type": "execute_result"
    }
   ],
   "source": [
    "accuracy_score(ytest,ypred)"
   ]
  },
  {
   "cell_type": "markdown",
   "metadata": {},
   "source": [
    "### Let's try to check with Decision Tree:"
   ]
  },
  {
   "cell_type": "code",
   "execution_count": 159,
   "metadata": {},
   "outputs": [
    {
     "name": "stdout",
     "output_type": "stream",
     "text": [
      "Accuracy Score : 0.8362383461694366\n",
      "Confusion Matrix : [[  65  209]\n",
      " [ 195 1998]]\n"
     ]
    }
   ],
   "source": [
    "from sklearn.tree import DecisionTreeClassifier\n",
    "\n",
    "clf=DecisionTreeClassifier(criterion = \"entropy\",random_state = 100)\n",
    "clf.fit(xtrain,ytrain)\n",
    "y_pred=clf.predict(xtest)\n",
    "print('Accuracy Score :',accuracy_score(ytest,ypred))\n",
    "print('Confusion Matrix :',confusion_matrix(ytest,ypred))"
   ]
  },
  {
   "cell_type": "code",
   "execution_count": 160,
   "metadata": {},
   "outputs": [
    {
     "data": {
      "image/png": "[encoded data removed]",
      "text/plain": [
       "<Figure size 1080x720 with 1 Axes>"
      ]
     },
     "metadata": {
      "needs_background": "light"
     },
     "output_type": "display_data"
    }
   ],
   "source": [
    "from sklearn import tree\n",
    "import matplotlib.pyplot as plt\n",
    "plt.figure(figsize=(15,10))\n",
    "cols=list(X.columns.values)\n",
    "tree.plot_tree(clf.fit(X,Y),feature_names=cols,filled=True,precision=3,proportion=True,rounded=True)\n",
    "plt.show()"
   ]
  },
  {
   "cell_type": "markdown",
   "metadata": {},
   "source": [
    "### Let's try with Random Forest:"
   ]
  },
  {
   "cell_type": "code",
   "execution_count": 161,
   "metadata": {},
   "outputs": [
    {
     "name": "stdout",
     "output_type": "stream",
     "text": [
      "Accuracy Score : 0.8362383461694366\n",
      "Confusion Matrix : [[  65  209]\n",
      " [ 195 1998]]\n"
     ]
    }
   ],
   "source": [
    "# Importing Libraries:\n",
    "\n",
    "from sklearn.ensemble import RandomForestClassifier\n",
    "from sklearn.ensemble import AdaBoostClassifier,GradientBoostingClassifier\n",
    "\n",
    "rf=RandomForestClassifier(n_estimators=100,random_state=0)\n",
    "rf.fit(xtrain,ytrain)\n",
    "y_pred=rf.predict(xtest)\n",
    "print('Accuracy Score :',accuracy_score(ytest,ypred))\n",
    "print('Confusion Matrix :',confusion_matrix(ytest,ypred))"
   ]
  },
  {
   "cell_type": "markdown",
   "metadata": {},
   "source": [
    "### Let's try with Adaboost:"
   ]
  },
  {
   "cell_type": "code",
   "execution_count": 162,
   "metadata": {},
   "outputs": [
    {
     "name": "stdout",
     "output_type": "stream",
     "text": [
      "Accuracy Score : 0.8362383461694366\n",
      "Confusion Matrix : [[  65  209]\n",
      " [ 195 1998]]\n"
     ]
    }
   ],
   "source": [
    "ab=AdaBoostClassifier(n_estimators=100)\n",
    "ab.fit(xtrain,ytrain)\n",
    "y_pred=ab.predict(xtest)\n",
    "print('Accuracy Score :',accuracy_score(ytest,ypred))\n",
    "print('Confusion Matrix :',confusion_matrix(ytest,ypred))"
   ]
  },
  {
   "cell_type": "markdown",
   "metadata": {},
   "source": [
    "### Let's try with Gradient Boost:"
   ]
  },
  {
   "cell_type": "code",
   "execution_count": 163,
   "metadata": {},
   "outputs": [
    {
     "name": "stdout",
     "output_type": "stream",
     "text": [
      "Accuracy Score : 0.8362383461694366\n",
      "Confusion Matrix : [[  65  209]\n",
      " [ 195 1998]]\n"
     ]
    }
   ],
   "source": [
    "gb=GradientBoostingClassifier()\n",
    "gb.fit(xtrain,ytrain)\n",
    "y_pred=gb.predict(xtest)\n",
    "print('Accuracy Score :',accuracy_score(ytest,ypred))\n",
    "print('Confusion Matrix :',confusion_matrix(ytest,ypred))"
   ]
  },
  {
   "cell_type": "markdown",
   "metadata": {},
   "source": [
    "### Lets try with XGBOOST:"
   ]
  },
  {
   "cell_type": "code",
   "execution_count": 164,
   "metadata": {},
   "outputs": [
    {
     "name": "stdout",
     "output_type": "stream",
     "text": [
      "Accuracy Score : 0.8362383461694366\n",
      "Confusion Matrix : [[  65  209]\n",
      " [ 195 1998]]\n"
     ]
    }
   ],
   "source": [
    "#Importing Library:\n",
    "from xgboost import XGBClassifier\n",
    "\n",
    "xgb=XGBClassifier()\n",
    "xgb.fit(xtrain,ytrain)\n",
    "y_pred=xgb.predict(xtest)\n",
    "print('Accuracy Score :',accuracy_score(ytest,ypred))\n",
    "print('Confusion Matrix :',confusion_matrix(ytest,ypred))"
   ]
  },
  {
   "cell_type": "markdown",
   "metadata": {},
   "source": [
    "# As from all above models we can see that Logistic has given the best accuracy of around 89%, so we will go with logistic regression "
   ]
  },
  {
   "cell_type": "markdown",
   "metadata": {},
   "source": [
    "##### 1_ We have not done any feature scaling as data is in [0,1] format which we transformed using get_dummies function.\n",
    "2_ We have not done any outlier treatment as most data is in categorical form.                                              \n",
    "3_ We have not done any feature extraction as it is not idenfiable which feature to take which not, we can do backward and        forward selection or PCA or wrapper techinique but due time constraint, we are bound.\n",
    "\n",
    "Here in this project we have dropped some columns because:\n",
    "\n",
    "leads id is uniquely identified in  each row, So we can drop this feature\n",
    "userId is used to refer internal database entry, This can also be dropped.\n",
    "Name is not important.\n",
    "Since phone number is all same in this data, or all different in the original data, This can be dropped.\n"
   ]
  },
  {
   "cell_type": "markdown",
   "metadata": {},
   "source": [
    "### Process Efficiency"
   ]
  }
 ],
 "metadata": {
  "kernelspec": {
   "display_name": "Python 3",
   "language": "python",
   "name": "python3"
  },
  "language_info": {
   "codemirror_mode": {
    "name": "ipython",
    "version": 3
   },
   "file_extension": ".py",
   "mimetype": "text/x-python",
   "name": "python",
   "nbconvert_exporter": "python",
   "pygments_lexer": "ipython3",
   "version": "3.7.6"
  }
 },
 "nbformat": 4,
 "nbformat_minor": 2
}
